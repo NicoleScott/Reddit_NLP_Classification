{
 "cells": [
  {
   "cell_type": "markdown",
   "metadata": {},
   "source": [
    "# ![](https://ga-dash.s3.amazonaws.com/production/assets/logo-9f88ae6c9c3871690e33280fcf557f33.png)  Project 3: Web APIs & Classification\n",
    "Reddit's API:  Data Wrangling, Natural Language Processing, and Classification Modeling\n"
   ]
  },
  {
   "cell_type": "markdown",
   "metadata": {},
   "source": [
    "This project covers three of the biggest concepts in Data Science:\n",
    "- Data Wrangling/Acquisition\n",
    "- Natural Language Processing\n",
    "- Classification Modeling\n"
   ]
  },
  {
   "cell_type": "markdown",
   "metadata": {},
   "source": [
    "---\n",
    "## Technical Report:   *Reddit API Data Collection*\n",
    "This notebook --just one component of the overall project-- reflects the collection, import (and cleaning?? ) of two subreddits of my choosing. . .\n",
    "\n",
    "Part 1 of the project focuses on **Data wrangling/gathering/acquisition**. \n",
    "The expectatiion is that not all acquired data will be clean or in a structured/organized format (like a single .csv file or SQL table). While an API request for data is ideal, some scraping may be required if the website of interest does not have an API (or it's terribly documented).\n",
    "\n",
    ". . . At the end of this notebook, scraped (& cleaned?? ) data is saved to .csv datasets which can be referenced here:\n",
    "- `subreddit_NUTR.csv`:  [subreddit: Nutrition](../data/subreddit_NUTRITION.csv)\n",
    "- `subreddit_MED.csv`:  [subreddit: Medicine](../data/subreddit_MED.csv)\n",
    "\n",
    "Ultimately this data will be used with NLP to train a classifier on which subreddit a given post came from. **This is a binary classification problem**.\n",
    "\n",
    "\n",
    "**Data Collection**\n",
    "- Was enough data gathered to generate a significant result?\n",
    "- Was data collected that was useful and relevant to the project?\n",
    "- Was data collection and storage optimized through *custom functions, pipelines, and/or automation*?\n",
    "- Was thought given to the server receiving the requests such as considering number of requests per second?\n",
    "\n"
   ]
  },
  {
   "cell_type": "markdown",
   "metadata": {},
   "source": [
    "---\n",
    "## Reddit API Data Collection"
   ]
  },
  {
   "cell_type": "markdown",
   "metadata": {},
   "source": [
    "#### About the API\n",
    "\n",
    "Reddit's API is fairly straightforward. For example, if I want the posts from [`/r/boardgames`](https://www.reddit.com/r/boardgames), all I have to do is add `.json` to the end of the url: https://www.reddit.com/r/boardgames.json\n",
    "\n",
    "To help you get started, we have a primer video on how to use Reddit's API: https://www.youtube.com/watch?v=5Y3ZE26Ciuk\n",
    "\n",
    "---\n",
    "\n",
    "### Requirements\n",
    "\n",
    "- Gather and prepare your data using the `requests` library.\n",
    "- **Create and compare two models**. One of these must be a Bayes classifier, however the other can be a classifier of your choosing: logistic regression, KNN, SVM, etc.\n",
    "- A Jupyter Notebook with your analysis for a peer audience of data scientists.\n",
    "- An executive summary of the results you found.\n",
    "- A short presentation outlining your process and findings for a semi-technical audience.\n",
    "\n",
    "**Pro Tip 1:** You can find a good example executive summary [here](https://www.proposify.biz/blog/executive-summary).\n",
    "\n",
    "**Pro Tip 2:** Reddit will give you 25 posts **per request**. To get enough data, you'll need to hit Reddit's API **repeatedly** (most likely in a `for` loop). _Be sure to use the `time.sleep()` function at the end of your loop to allow for a break in between requests. **THIS IS CRUCIAL**_\n",
    "\n",
    "**Pro tip 3:** The API will cap you at 1,000 posts for each subreddit (assuming the subreddit has that many posts).\n",
    "\n",
    "**Pro tip 4:** At the end of each loop, be sure to save the results from your scrape as a `csv`: JSON from Reddit > Pandas DataFrame > CSV. That way, if something goes wrong in your loop, you won't lose all your data.\n",
    "\n"
   ]
  },
  {
   "cell_type": "code",
   "execution_count": 3,
   "metadata": {},
   "outputs": [],
   "source": [
    "# required to make API requests\n",
    "import requests\n",
    "# required to throttle your scraping loop... \n",
    "import time"
   ]
  },
  {
   "cell_type": "code",
   "execution_count": 4,
   "metadata": {},
   "outputs": [],
   "source": [
    "# Python libraries used for data analysis\n",
    "import numpy as np\n",
    "import pandas as pd\n",
    "import matplotlib.pyplot as plt\n",
    "%matplotlib inline"
   ]
  },
  {
   "cell_type": "code",
   "execution_count": null,
   "metadata": {},
   "outputs": [],
   "source": []
  },
  {
   "cell_type": "markdown",
   "metadata": {},
   "source": [
    "# Riley's youtube video\n",
    "\n",
    "To help you get started, we have a primer video on how to use Reddit's API: https://www.youtube.com/watch?v=5Y3ZE26Ciuk\n",
    "\n",
    "\n",
    "also:  https://git.generalassemb.ly/DSI-US-4/project_3\n"
   ]
  },
  {
   "cell_type": "markdown",
   "metadata": {},
   "source": [
    "# Riley's pro tips\n",
    "\n",
    "- **Pro Tip 2**: Reddit will give you 25 posts per request. To get enough data, you'll need to hit Reddit's API repeatedly (most likely in a for loop). Be sure to use the time.sleep() function at the end of your loop to allow for a break in between requests. THIS IS CRUCIAL\n",
    "\n",
    "    If you want more than the top 25 posts, you'll need to:\n",
    "    1. get the name of the last post:  data['data']['after']\n",
    "    2. use that name to hit the following url:  https://www.reddit.com/hot.json?after=THE_AFTER_FROM_STEP_1\n",
    "    \n",
    "    (NOTES: the \"key=value\" portion after the '?' is called the \"query string\"; multiple query strings can be separated with an '&'...)\n",
    "    3. create a loop to repeat steps 1 and 2 until you have a sufficient number of posts\n",
    "\n",
    "\n",
    "- **Pro tip 3**: The API will cap you at 1,000 posts for each subreddit (assuming the subreddit has that many posts).\n",
    "\n",
    "- **Pro tip 4**: At the end of each loop, be sure to save the results from your scrape as a csv: JSON from Reddit > Pandas DataFrame > CSV. That way, if something goes wrong in your loop, you won't lose all your data."
   ]
  },
  {
   "cell_type": "markdown",
   "metadata": {},
   "source": [
    "## Additional pro tips:\n",
    "\n",
    "- anytime you're investigating a new json dictionary:\n",
    "    - check out what's in the json data:\n",
    "        - the_json = res.json()    \n",
    "    - check out the keys to the json data:  \n",
    "        - the_json.keys()\n",
    "    - sort the keys:\n",
    "        - sorted(the_json.keys()\n",
    "    - investigate what's associated with a particular key: (ex:  ['data', 'kind'] )\n",
    "        - the_json['data']\n",
    "    - investigate keys associated with ['data']\n",
    "        - sorted(the_json['data'].keys())\n",
    "    - count the number of posts...\n",
    "        - len(the_json['data']['children'])\n",
    "    - create a dataframe to see what's goin on...\n",
    "        pd.DataFrame(the_json['data']['children'])\n",
    "\n",
    "we're looking for (4) pieces of content about each thread:\n",
    "1. title of the thread\n",
    "2. the subreddit that the thread corresponds to\n",
    "3. the length of time it has been up on Reddit\n",
    "4. the number of comments on the thread\n"
   ]
  },
  {
   "cell_type": "markdown",
   "metadata": {},
   "source": [
    "## collecting for subreddit:  Health..."
   ]
  },
  {
   "cell_type": "code",
   "execution_count": 289,
   "metadata": {},
   "outputs": [
    {
     "name": "stdout",
     "output_type": "stream",
     "text": [
      "0\n",
      "1\n",
      "2\n",
      "3\n"
     ]
    }
   ],
   "source": [
    "# ###################################\n",
    "# only do this part for the first run???\n",
    "\n",
    "# create empty list\n",
    "# posts = []\n",
    "# reset parameter *(NOTE: \"after\" is the key of the last post in your list of posts)\n",
    "# after = None\n",
    "# ###################################\n",
    "\n",
    "# loop through... (\"4\" specifies number of loops; expect total of 100 b/c 25 allowed per request)\n",
    "for i in range(4):\n",
    "    print(i)\n",
    "    # if parameter \"after\" has been reset...\n",
    "    if after == None:\n",
    "        # ...create empty dictionary\n",
    "        params = {}\n",
    "    # if parameter \"after\" has NOT been reset...\n",
    "    else:\n",
    "        # populate empty dictionary with value for \"after\"; i.e. key id from last entry you scraped...\n",
    "        params = {'after': after}\n",
    "    # NOTE: \"hot\" is a subreddit category; you can select a different one...\n",
    "    url = 'https://www.reddit.com/r/Health.json'\n",
    "    # set up a personal user agent (to avoid API request errors by bypassing reddit's default agent)\n",
    "    headers = {'User-agent': 'my user agent 0.1'}\n",
    "    # make your API request; (NOTE: \"res\" is short for \"response\"...)\n",
    "    res = requests.get(url, params=params, headers=headers)\n",
    "    \n",
    "    # if API request is successful (i.e. status 200)\n",
    "    if res.status_code == 200:\n",
    "        # get the json data from the website\n",
    "        the_json = res.json()\n",
    "        #####################################\n",
    "        # extend (not append!) your existing \"posts\" dataset with the updated values\n",
    "        # NOTE: extend actually appends new data *inside* the existing list (whereas append would append a new list to the existing list...)\n",
    "        posts.extend(the_json['data']['children'])\n",
    "        #####################################\n",
    "        # is the key (ID) of the last post in your list of posts\n",
    "        after = the_json['data']['after']\n",
    "    else:\n",
    "    # if API request is NOT successful (i.e. status 404, 429, etc.)\n",
    "        # show the status\n",
    "        print(res.status_code)\n",
    "        # break the loop (i.e. stop processing)\n",
    "        break\n",
    "    # set loop data retrieval slow enough as to not trigger any DOS alert which will block your IP...\n",
    "    time.sleep(3)\n",
    "\n",
    "\n",
    "# create dataframe\n",
    "# need to iterate through posts which is a list of dicts of dicts... (for title inside data)\n",
    "# use list comprehesion (or for loop)\n",
    "import_posts = pd.DataFrame(posts)\n"
   ]
  },
  {
   "cell_type": "code",
   "execution_count": 290,
   "metadata": {},
   "outputs": [
    {
     "name": "stdout",
     "output_type": "stream",
     "text": [
      "shape:  (2071, 2)\n",
      "<class 'pandas.core.frame.DataFrame'>\n",
      "RangeIndex: 2071 entries, 0 to 2070\n",
      "Data columns (total 2 columns):\n",
      "data    2071 non-null object\n",
      "kind    2071 non-null object\n",
      "dtypes: object(2)\n",
      "memory usage: 32.4+ KB\n"
     ]
    }
   ],
   "source": [
    "# check dataframe:\n",
    "print('shape: ', import_posts.shape)\n",
    "# 1st run:  85 rows\n",
    "# 2nd run:  170 rows\n",
    "# 3rd run:  255 rows\n",
    "# 4th run:  340 rows\n",
    "# 4th run:  340 rows\n",
    "# 5th run:  425 rows\n",
    "# 6th run:  510 rows\n",
    "# 7th run:  595 rows\n",
    "# 8th run:  680 rows\n",
    "# 9th run:  765 rows\n",
    "# 10th run: 850 rows\n",
    "# 935 rows\n",
    "\n",
    "\n",
    "import_posts.info()"
   ]
  },
  {
   "cell_type": "code",
   "execution_count": 19,
   "metadata": {
    "scrolled": true
   },
   "outputs": [
    {
     "name": "stdout",
     "output_type": "stream",
     "text": [
      "data    {'approved_at_utc': None, 'subreddit': 'Health...\n",
      "kind                                                   t3\n",
      "Name: 0, dtype: object\n"
     ]
    },
    {
     "data": {
      "text/html": [
       "<div>\n",
       "<style scoped>\n",
       "    .dataframe tbody tr th:only-of-type {\n",
       "        vertical-align: middle;\n",
       "    }\n",
       "\n",
       "    .dataframe tbody tr th {\n",
       "        vertical-align: top;\n",
       "    }\n",
       "\n",
       "    .dataframe thead th {\n",
       "        text-align: right;\n",
       "    }\n",
       "</style>\n",
       "<table border=\"1\" class=\"dataframe\">\n",
       "  <thead>\n",
       "    <tr style=\"text-align: right;\">\n",
       "      <th></th>\n",
       "      <th>data</th>\n",
       "      <th>kind</th>\n",
       "    </tr>\n",
       "  </thead>\n",
       "  <tbody>\n",
       "    <tr>\n",
       "      <th>0</th>\n",
       "      <td>{'approved_at_utc': None, 'subreddit': 'Health...</td>\n",
       "      <td>t3</td>\n",
       "    </tr>\n",
       "    <tr>\n",
       "      <th>1</th>\n",
       "      <td>{'approved_at_utc': None, 'subreddit': 'Health...</td>\n",
       "      <td>t3</td>\n",
       "    </tr>\n",
       "    <tr>\n",
       "      <th>2</th>\n",
       "      <td>{'approved_at_utc': None, 'subreddit': 'Health...</td>\n",
       "      <td>t3</td>\n",
       "    </tr>\n",
       "    <tr>\n",
       "      <th>3</th>\n",
       "      <td>{'approved_at_utc': None, 'subreddit': 'Health...</td>\n",
       "      <td>t3</td>\n",
       "    </tr>\n",
       "    <tr>\n",
       "      <th>4</th>\n",
       "      <td>{'approved_at_utc': None, 'subreddit': 'Health...</td>\n",
       "      <td>t3</td>\n",
       "    </tr>\n",
       "  </tbody>\n",
       "</table>\n",
       "</div>"
      ],
      "text/plain": [
       "                                                data kind\n",
       "0  {'approved_at_utc': None, 'subreddit': 'Health...   t3\n",
       "1  {'approved_at_utc': None, 'subreddit': 'Health...   t3\n",
       "2  {'approved_at_utc': None, 'subreddit': 'Health...   t3\n",
       "3  {'approved_at_utc': None, 'subreddit': 'Health...   t3\n",
       "4  {'approved_at_utc': None, 'subreddit': 'Health...   t3"
      ]
     },
     "execution_count": 19,
     "metadata": {},
     "output_type": "execute_result"
    }
   ],
   "source": [
    "# profile the data\n",
    "# print(import_posts.iloc[0])\n",
    "# import_posts.head()"
   ]
  },
  {
   "cell_type": "code",
   "execution_count": 291,
   "metadata": {},
   "outputs": [],
   "source": [
    "# put this in a separate cell, so it doesn't overwrite???\n",
    "\n",
    "# export dataframe\n",
    "import_posts.to_csv('../data/subreddit_Health.csv', index=False)\n"
   ]
  },
  {
   "cell_type": "code",
   "execution_count": 292,
   "metadata": {},
   "outputs": [
    {
     "name": "stdout",
     "output_type": "stream",
     "text": [
      "-rw-r--r--@ 1 ngms  staff  8295215 Jul  8 15:02 ../data/subreddit_Health.csv\r\n"
     ]
    }
   ],
   "source": [
    "# verify file creation\n",
    "\n",
    "!ls -ltr ../data/subreddit_Health.csv"
   ]
  },
  {
   "cell_type": "code",
   "execution_count": 293,
   "metadata": {},
   "outputs": [
    {
     "data": {
      "text/plain": [
       "{'after': 't3_c6yfqe'}"
      ]
     },
     "execution_count": 293,
     "metadata": {},
     "output_type": "execute_result"
    }
   ],
   "source": [
    "# populate empty dictionary with value for \"after\"; i.e. key id from last entry you scraped...\n",
    "# params = {'after': after}\n",
    "\n",
    "# whats in our 'after' dictionary?\n",
    "params\n",
    "\n",
    "\n",
    "# t3_c6yfqe"
   ]
  },
  {
   "cell_type": "code",
   "execution_count": null,
   "metadata": {},
   "outputs": [],
   "source": []
  },
  {
   "cell_type": "markdown",
   "metadata": {},
   "source": [
    "## collecting for subreddit:  Today I Learned (TIL)..."
   ]
  },
  {
   "cell_type": "code",
   "execution_count": 168,
   "metadata": {},
   "outputs": [
    {
     "name": "stdout",
     "output_type": "stream",
     "text": [
      "0\n",
      "1\n",
      "2\n",
      "3\n"
     ]
    }
   ],
   "source": [
    "# ###################################\n",
    "# only do this part for the first run???\n",
    "\n",
    "# create empty list\n",
    "# til_posts = []\n",
    "# reset parameter *(NOTE: \"after\" is the key of the last post in your list of posts)\n",
    "# til_after = None\n",
    "# ###################################\n",
    "\n",
    "# loop through... (\"4\" specifies number of loops; expect total of 100 b/c 25 allowed per request)\n",
    "for i in range(4):\n",
    "    print(i)\n",
    "    # if parameter \"after\" has been reset...\n",
    "    if til_after == None:\n",
    "        # ...create empty dictionary\n",
    "        params = {}\n",
    "    # if parameter \"after\" has NOT been reset...\n",
    "    else:\n",
    "        # populate empty dictionary with value for \"after\"; i.e. key id from last entry you scraped...\n",
    "        params = {'after': til_after}\n",
    "    # NOTE: \"hot\" is a subreddit category; you can select a different one...\n",
    "    url = 'https://www.reddit.com/r/todayilearned.json'\n",
    "    # set up a personal user agent (to avoid API request errors by bypassing reddit's default agent)\n",
    "    headers = {'User-agent': 'my user agent 0.1'}\n",
    "    # make your API request; (NOTE: \"res\" is short for \"response\"...)\n",
    "    res = requests.get(url, params=params, headers=headers)\n",
    "    \n",
    "    # if API request is successful (i.e. status 200)\n",
    "    if res.status_code == 200:\n",
    "        # get the json data from the website\n",
    "        the_json = res.json()\n",
    "        #####################################\n",
    "        # extend (not append!) your existing \"posts\" dataset with the updated values\n",
    "        # NOTE: extend actually appends new data *inside* the existing list (whereas append would append a new list to the existing list...)\n",
    "        til_posts.extend(the_json['data']['children'])\n",
    "        #####################################\n",
    "        # is the key (ID) of the last post in your list of posts\n",
    "        til_after = the_json['data']['after']\n",
    "    else:\n",
    "    # if API request is NOT successful (i.e. status 404, 429, etc.)\n",
    "        # show the status\n",
    "        print(res.status_code)\n",
    "        # break the loop (i.e. stop processing)\n",
    "        break\n",
    "    # set loop data retrieval slow enough as to not trigger any DOS alert which will block your IP...\n",
    "    time.sleep(3)\n",
    "\n",
    "\n",
    "# create dataframe\n",
    "# need to iterate through posts which is a list of dicts of dicts... (for title inside data)\n",
    "# use list comprehesion (or for loop)\n",
    "import_til_posts = pd.DataFrame(til_posts)\n",
    "\n"
   ]
  },
  {
   "cell_type": "code",
   "execution_count": 169,
   "metadata": {},
   "outputs": [
    {
     "name": "stdout",
     "output_type": "stream",
     "text": [
      "shape:  (2054, 2)\n",
      "<class 'pandas.core.frame.DataFrame'>\n",
      "RangeIndex: 2054 entries, 0 to 2053\n",
      "Data columns (total 2 columns):\n",
      "data    2054 non-null object\n",
      "kind    2054 non-null object\n",
      "dtypes: object(2)\n",
      "memory usage: 32.2+ KB\n"
     ]
    }
   ],
   "source": [
    "# check dataframe:\n",
    "print('shape: ', import_til_posts.shape)\n",
    "# 1st run:   100 rows\n",
    "# 2nd run:   200 rows\n",
    "# 3rd run:   300 rows\n",
    "# 4th run:   400 rows\n",
    "# 5th run:   500 rows\n",
    "# 6th run:   600 rows\n",
    "# 7th run:   683 rows\n",
    "# 8th run:   783 rows\n",
    "# 9th run:   883 rows\n",
    "# 10th run:  983 rows\n",
    "\n",
    "# 1083\n",
    "# 1183\n",
    "# 1283\n",
    "# 1370\n",
    "# 1470\n",
    "# 1570\n",
    "# 1670\n",
    "# 1770\n",
    "# 1870\n",
    "# 1970\n",
    "# 2054\n",
    "\n",
    "import_til_posts.info()"
   ]
  },
  {
   "cell_type": "code",
   "execution_count": 200,
   "metadata": {},
   "outputs": [
    {
     "data": {
      "text/plain": [
       "2"
      ]
     },
     "execution_count": 200,
     "metadata": {},
     "output_type": "execute_result"
    }
   ],
   "source": [
    "# check unique values\n",
    "# len(set(import_til_posts))"
   ]
  },
  {
   "cell_type": "code",
   "execution_count": 32,
   "metadata": {},
   "outputs": [
    {
     "name": "stdout",
     "output_type": "stream",
     "text": [
      "data    {'approved_at_utc': None, 'subreddit': 'todayi...\n",
      "kind                                                   t3\n",
      "Name: 0, dtype: object\n"
     ]
    },
    {
     "data": {
      "text/html": [
       "<div>\n",
       "<style scoped>\n",
       "    .dataframe tbody tr th:only-of-type {\n",
       "        vertical-align: middle;\n",
       "    }\n",
       "\n",
       "    .dataframe tbody tr th {\n",
       "        vertical-align: top;\n",
       "    }\n",
       "\n",
       "    .dataframe thead th {\n",
       "        text-align: right;\n",
       "    }\n",
       "</style>\n",
       "<table border=\"1\" class=\"dataframe\">\n",
       "  <thead>\n",
       "    <tr style=\"text-align: right;\">\n",
       "      <th></th>\n",
       "      <th>data</th>\n",
       "      <th>kind</th>\n",
       "    </tr>\n",
       "  </thead>\n",
       "  <tbody>\n",
       "    <tr>\n",
       "      <th>0</th>\n",
       "      <td>{'approved_at_utc': None, 'subreddit': 'todayi...</td>\n",
       "      <td>t3</td>\n",
       "    </tr>\n",
       "    <tr>\n",
       "      <th>1</th>\n",
       "      <td>{'approved_at_utc': None, 'subreddit': 'todayi...</td>\n",
       "      <td>t3</td>\n",
       "    </tr>\n",
       "    <tr>\n",
       "      <th>2</th>\n",
       "      <td>{'approved_at_utc': None, 'subreddit': 'todayi...</td>\n",
       "      <td>t3</td>\n",
       "    </tr>\n",
       "    <tr>\n",
       "      <th>3</th>\n",
       "      <td>{'approved_at_utc': None, 'subreddit': 'todayi...</td>\n",
       "      <td>t3</td>\n",
       "    </tr>\n",
       "    <tr>\n",
       "      <th>4</th>\n",
       "      <td>{'approved_at_utc': None, 'subreddit': 'todayi...</td>\n",
       "      <td>t3</td>\n",
       "    </tr>\n",
       "  </tbody>\n",
       "</table>\n",
       "</div>"
      ],
      "text/plain": [
       "                                                data kind\n",
       "0  {'approved_at_utc': None, 'subreddit': 'todayi...   t3\n",
       "1  {'approved_at_utc': None, 'subreddit': 'todayi...   t3\n",
       "2  {'approved_at_utc': None, 'subreddit': 'todayi...   t3\n",
       "3  {'approved_at_utc': None, 'subreddit': 'todayi...   t3\n",
       "4  {'approved_at_utc': None, 'subreddit': 'todayi...   t3"
      ]
     },
     "execution_count": 32,
     "metadata": {},
     "output_type": "execute_result"
    }
   ],
   "source": [
    "# profile the data\n",
    "# print(import_til_posts.iloc[0])\n",
    "# import_til_posts.head()"
   ]
  },
  {
   "cell_type": "code",
   "execution_count": 170,
   "metadata": {},
   "outputs": [],
   "source": [
    "# put this in a separate cell, so it doesn't overwrite???\n",
    "\n",
    "# export dataframe\n",
    "import_til_posts.to_csv('../data/subreddit_TIL.csv', index=False)\n"
   ]
  },
  {
   "cell_type": "code",
   "execution_count": 171,
   "metadata": {},
   "outputs": [
    {
     "name": "stdout",
     "output_type": "stream",
     "text": [
      "-rw-r--r--  1 ngms  staff  7645236 Jul  7 18:45 ../data/subreddit_TIL.csv\r\n"
     ]
    }
   ],
   "source": [
    "# verify file creation\n",
    "\n",
    "!ls -ltr ../data/subreddit_TIL.csv"
   ]
  },
  {
   "cell_type": "code",
   "execution_count": 172,
   "metadata": {},
   "outputs": [
    {
     "data": {
      "text/plain": [
       "{'after': 't3_ca8vah'}"
      ]
     },
     "execution_count": 172,
     "metadata": {},
     "output_type": "execute_result"
    }
   ],
   "source": [
    "# populate empty dictionary with value for \"after\"; i.e. key id from last entry you scraped...\n",
    "# params = {'after': til_after}\n",
    "\n",
    "# whats in our 'after' dictionary?\n",
    "params\n",
    "\n",
    "# t3_ca8vah"
   ]
  },
  {
   "cell_type": "code",
   "execution_count": 78,
   "metadata": {
    "scrolled": true
   },
   "outputs": [],
   "source": [
    "# import_til_posts"
   ]
  },
  {
   "cell_type": "code",
   "execution_count": null,
   "metadata": {},
   "outputs": [],
   "source": []
  },
  {
   "cell_type": "markdown",
   "metadata": {},
   "source": [
    "## collecting for subreddit:  Medicine (TIL)..."
   ]
  },
  {
   "cell_type": "code",
   "execution_count": 154,
   "metadata": {},
   "outputs": [
    {
     "name": "stdout",
     "output_type": "stream",
     "text": [
      "0\n",
      "1\n",
      "2\n",
      "3\n"
     ]
    }
   ],
   "source": [
    "# ###################################\n",
    "# only do this part for the first run???\n",
    "\n",
    "# create empty list\n",
    "# med_posts = []\n",
    "# reset parameter *(NOTE: \"after\" is the key of the last post in your list of posts)\n",
    "# med_after = None\n",
    "# ###################################\n",
    "\n",
    "# loop through... (\"4\" specifies number of loops; expect total of 100 b/c 25 allowed per request)\n",
    "for i in range(4):\n",
    "    print(i)\n",
    "    # if parameter \"after\" has been reset...\n",
    "    if med_after == None:\n",
    "        # ...create empty dictionary\n",
    "        params = {}\n",
    "    # if parameter \"after\" has NOT been reset...\n",
    "    else:\n",
    "        # populate empty dictionary with value for \"after\"; i.e. key id from last entry you scraped...\n",
    "        params = {'after': med_after}\n",
    "    # NOTE: \"hot\" is a subreddit category; you can select a different one...\n",
    "    url = 'https://www.reddit.com/r/medicine.json'\n",
    "    # set up a personal user agent (to avoid API request errors by bypassing reddit's default agent)\n",
    "    headers = {'User-agent': 'my user agent 0.1'}\n",
    "    # make your API request; (NOTE: \"res\" is short for \"response\"...)\n",
    "    res = requests.get(url, params=params, headers=headers)\n",
    "    \n",
    "    # if API request is successful (i.e. status 200)\n",
    "    if res.status_code == 200:\n",
    "        # get the json data from the website\n",
    "        the_json = res.json()\n",
    "        #####################################\n",
    "        # extend (not append!) your existing \"posts\" dataset with the updated values\n",
    "        # NOTE: extend actually appends new data *inside* the existing list (whereas append would append a new list to the existing list...)\n",
    "        med_posts.extend(the_json['data']['children'])\n",
    "        #####################################\n",
    "        # is the key (ID) of the last post in your list of posts\n",
    "        med_after = the_json['data']['after']\n",
    "    else:\n",
    "    # if API request is NOT successful (i.e. status 404, 429, etc.)\n",
    "        # show the status\n",
    "        print(res.status_code)\n",
    "        # break the loop (i.e. stop processing)\n",
    "        break\n",
    "    # set loop data retrieval slow enough as to not trigger any DOS alert which will block your IP...\n",
    "    time.sleep(3)\n",
    "\n",
    "\n",
    "# create dataframe\n",
    "# need to iterate through posts which is a list of dicts of dicts... (for title inside data)\n",
    "# use list comprehesion (or for loop)\n",
    "import_med_posts = pd.DataFrame(med_posts)\n"
   ]
  },
  {
   "cell_type": "code",
   "execution_count": 155,
   "metadata": {},
   "outputs": [
    {
     "name": "stdout",
     "output_type": "stream",
     "text": [
      "shape:  (2072, 2)\n"
     ]
    }
   ],
   "source": [
    "# check dataframe:\n",
    "print('shape: ', import_med_posts.shape)\n",
    "\n",
    "# import_med_posts.info()"
   ]
  },
  {
   "cell_type": "code",
   "execution_count": 156,
   "metadata": {},
   "outputs": [],
   "source": [
    "# put this in a separate cell, so it doesn't overwrite???\n",
    "\n",
    "# export dataframe\n",
    "import_med_posts.to_csv('../data/subreddit_MED.csv', index=False)\n"
   ]
  },
  {
   "cell_type": "code",
   "execution_count": 157,
   "metadata": {},
   "outputs": [
    {
     "name": "stdout",
     "output_type": "stream",
     "text": [
      "-rw-r--r--  1 ngms  staff  7609485 Jul  8 23:15 ../data/subreddit_MED.csv\r\n"
     ]
    }
   ],
   "source": [
    "# verify file creation\n",
    "\n",
    "!ls -ltr ../data/subreddit_MED.csv"
   ]
  },
  {
   "cell_type": "code",
   "execution_count": 158,
   "metadata": {},
   "outputs": [
    {
     "data": {
      "text/plain": [
       "{'after': 't3_c6p0x8'}"
      ]
     },
     "execution_count": 158,
     "metadata": {},
     "output_type": "execute_result"
    }
   ],
   "source": [
    "# populate empty dictionary with value for \"after\"; i.e. key id from last entry you scraped...\n",
    "# params = {'after': med_after}\n",
    "\n",
    "# whats in our 'after' dictionary?\n",
    "params\n",
    "\n",
    "# t3_c6p0x8\n"
   ]
  },
  {
   "cell_type": "code",
   "execution_count": null,
   "metadata": {},
   "outputs": [],
   "source": [
    "# profile the data\n",
    "# print(import_med_posts.iloc[0])\n",
    "# import_med_posts.head()"
   ]
  },
  {
   "cell_type": "code",
   "execution_count": 95,
   "metadata": {},
   "outputs": [
    {
     "name": "stdout",
     "output_type": "stream",
     "text": [
      "9\n",
      "t3_bbujir\n"
     ]
    }
   ],
   "source": [
    "print(len(the_json['data']['after']))\n",
    "print(the_json['data']['after'])\n"
   ]
  },
  {
   "cell_type": "code",
   "execution_count": null,
   "metadata": {},
   "outputs": [],
   "source": [
    "# count the number of posts (per loop?)...\n",
    "len(the_json['data']['children'])\n"
   ]
  },
  {
   "cell_type": "code",
   "execution_count": 99,
   "metadata": {},
   "outputs": [
    {
     "data": {
      "text/plain": [
       "1587"
      ]
     },
     "execution_count": 99,
     "metadata": {},
     "output_type": "execute_result"
    }
   ],
   "source": [
    "# count the number of posts...\n",
    "#     len(the_json['data']['children'])\n",
    "len(import_med_posts)\n"
   ]
  },
  {
   "cell_type": "code",
   "execution_count": 96,
   "metadata": {},
   "outputs": [
    {
     "data": {
      "text/plain": [
       "['data', 'kind']"
      ]
     },
     "execution_count": 96,
     "metadata": {},
     "output_type": "execute_result"
    }
   ],
   "source": [
    "# sort the keys to the json data:\n",
    "sorted(the_json.keys())\n"
   ]
  },
  {
   "cell_type": "code",
   "execution_count": 97,
   "metadata": {},
   "outputs": [
    {
     "data": {
      "text/plain": [
       "0    {'approved_at_utc': None, 'subreddit': 'medici...\n",
       "1    {'approved_at_utc': None, 'subreddit': 'medici...\n",
       "2    {'approved_at_utc': None, 'subreddit': 'medici...\n",
       "3    {'approved_at_utc': None, 'subreddit': 'medici...\n",
       "4    {'approved_at_utc': None, 'subreddit': 'medici...\n",
       "Name: data, dtype: object"
      ]
     },
     "execution_count": 97,
     "metadata": {},
     "output_type": "execute_result"
    }
   ],
   "source": [
    "import_med_posts['data'].head()"
   ]
  },
  {
   "cell_type": "code",
   "execution_count": null,
   "metadata": {},
   "outputs": [],
   "source": [
    "# import_med_posts.iloc[0]"
   ]
  },
  {
   "cell_type": "code",
   "execution_count": 109,
   "metadata": {},
   "outputs": [
    {
     "data": {
      "text/plain": [
       "['after', 'before', 'children', 'dist', 'modhash']"
      ]
     },
     "execution_count": 109,
     "metadata": {},
     "output_type": "execute_result"
    }
   ],
   "source": [
    "# looks like the 'data' key has more info, lets look closer...\n",
    "# investigate (\"sub\")keys associated with the ['data'] key\n",
    "sorted(the_json['data'].keys())\n"
   ]
  },
  {
   "cell_type": "code",
   "execution_count": 160,
   "metadata": {},
   "outputs": [],
   "source": [
    "#  return[' '.join([post['title'], post['selftext']])\n",
    "        \n",
    "# import_med_posts['title']\n"
   ]
  },
  {
   "cell_type": "code",
   "execution_count": 107,
   "metadata": {
    "scrolled": true
   },
   "outputs": [
    {
     "name": "stdout",
     "output_type": "stream",
     "text": [
      "json key: kind -  \n",
      " Listing\n",
      "json key: data -  \n",
      " {'modhash': '', 'dist': 25, 'children': [{'kind': 't3', 'data': {'approved_at_utc': None, 'subreddit': 'medicine', 'selftext': 'Just curious if anyone here has a story where they had to open a patient up so emergently they couldn’t wait to transport them to the OR. If so, what was the indication? What was the outcome?', 'author_fullname': 't2_f51q0', 'saved': False, 'mod_reason_title': None, 'gilded': 0, 'clicked': False, 'title': 'Any surgeons here ever have to open a patient at the bedside?', 'link_flair_richtext': [], 'subreddit_name_prefixed': 'r/medicine', 'hidden': False, 'pwls': 6, 'link_flair_css_class': None, 'downs': 0, 'hide_score': False, 'name': 't3_bcux79', 'quarantine': False, 'link_flair_text_color': 'dark', 'author_flair_background_color': '', 'subreddit_type': 'public', 'ups': 369, 'total_awards_received': 0, 'media_embed': {}, 'author_flair_template_id': None, 'is_original_content': False, 'user_reports': [], 'secure_media': None, 'is_reddit_media_domain': False, 'is_meta': False, 'category': None, 'secure_media_embed': {}, 'link_flair_text': None, 'can_mod_post': False, 'score': 369, 'approved_by': None, 'thumbnail': '', 'edited': False, 'author_flair_css_class': '', 'author_flair_richtext': [], 'gildings': {}, 'content_categories': None, 'is_self': True, 'mod_note': None, 'created': 1555216425.0, 'link_flair_type': 'text', 'wls': 6, 'banned_by': None, 'author_flair_type': 'text', 'domain': 'self.medicine', 'allow_live_comments': True, 'selftext_html': '&lt;!-- SC_OFF --&gt;&lt;div class=\"md\"&gt;&lt;p&gt;Just curious if anyone here has a story where they had to open a patient up so emergently they couldn’t wait to transport them to the OR. If so, what was the indication? What was the outcome?&lt;/p&gt;\\n&lt;/div&gt;&lt;!-- SC_ON --&gt;', 'likes': None, 'suggested_sort': None, 'banned_at_utc': None, 'view_count': None, 'archived': False, 'no_follow': False, 'is_crosspostable': False, 'pinned': False, 'over_18': False, 'all_awardings': [], 'media_only': False, 'can_gild': False, 'spoiler': False, 'locked': False, 'author_flair_text': 'Urology resident', 'visited': False, 'num_reports': None, 'distinguished': None, 'subreddit_id': 't5_2qhff', 'mod_reason_by': None, 'removal_reason': None, 'link_flair_background_color': '', 'id': 'bcux79', 'is_robot_indexable': True, 'report_reasons': None, 'author': 'urores', 'num_crossposts': 0, 'num_comments': 417, 'send_replies': True, 'whitelist_status': 'all_ads', 'contest_mode': False, 'mod_reports': [], 'author_patreon_flair': False, 'author_flair_text_color': 'dark', 'permalink': '/r/medicine/comments/bcux79/any_surgeons_here_ever_have_to_open_a_patient_at/', 'parent_whitelist_status': 'all_ads', 'stickied': False, 'url': 'https://www.reddit.com/r/medicine/comments/bcux79/any_surgeons_here_ever_have_to_open_a_patient_at/', 'subreddit_subscribers': 241148, 'created_utc': 1555187625.0, 'discussion_type': None, 'media': None, 'is_video': False}}, {'kind': 't3', 'data': {'approved_at_utc': None, 'subreddit': 'medicine', 'selftext': '', 'author_fullname': 't2_tn9vg', 'saved': False, 'mod_reason_title': None, 'gilded': 0, 'clicked': False, 'title': 'CDC: Kratom causes more deaths than previously reported', 'link_flair_richtext': [], 'subreddit_name_prefixed': 'r/medicine', 'hidden': False, 'pwls': 6, 'link_flair_css_class': None, 'downs': 0, 'hide_score': False, 'name': 't3_bd4rs8', 'quarantine': False, 'link_flair_text_color': 'dark', 'author_flair_background_color': None, 'subreddit_type': 'public', 'ups': 9, 'total_awards_received': 0, 'media_embed': {}, 'author_flair_template_id': 'abb8514c-4d76-11e8-bbf5-0ec706991ea4', 'is_original_content': False, 'user_reports': [], 'secure_media': None, 'is_reddit_media_domain': False, 'is_meta': False, 'category': None, 'secure_media_embed': {}, 'link_flair_text': None, 'can_mod_post': False, 'score': 9, 'approved_by': None, 'thumbnail': '', 'edited': False, 'author_flair_css_class': None, 'author_flair_richtext': [], 'gildings': {}, 'content_categories': None, 'is_self': False, 'mod_note': None, 'created': 1555289641.0, 'link_flair_type': 'text', 'wls': 6, 'banned_by': None, 'author_flair_type': 'text', 'domain': 'wkbw.com', 'allow_live_comments': True, 'selftext_html': None, 'likes': None, 'suggested_sort': None, 'banned_at_utc': None, 'view_count': None, 'archived': False, 'no_follow': False, 'is_crosspostable': False, 'pinned': False, 'over_18': False, 'all_awardings': [], 'media_only': False, 'can_gild': False, 'spoiler': False, 'locked': False, 'author_flair_text': 'MPH--&gt;MS3', 'visited': False, 'num_reports': None, 'distinguished': None, 'subreddit_id': 't5_2qhff', 'mod_reason_by': None, 'removal_reason': None, 'link_flair_background_color': '', 'id': 'bd4rs8', 'is_robot_indexable': True, 'report_reasons': None, 'author': 'attitudegratitude', 'num_crossposts': 0, 'num_comments': 91, 'send_replies': False, 'whitelist_status': 'all_ads', 'contest_mode': False, 'mod_reports': [], 'author_patreon_flair': False, 'author_flair_text_color': 'dark', 'permalink': '/r/medicine/comments/bd4rs8/cdc_kratom_causes_more_deaths_than_previously/', 'parent_whitelist_status': 'all_ads', 'stickied': False, 'url': 'https://www.wkbw.com/news/national/more-deaths-have-been-associated-with-kratom-than-previously-known-cdc-study-finds', 'subreddit_subscribers': 241148, 'created_utc': 1555260841.0, 'discussion_type': None, 'media': None, 'is_video': False}}, {'kind': 't3', 'data': {'approved_at_utc': None, 'subreddit': 'medicine', 'selftext': 'FM working in ER part-time.  I am having difficulty finding good resources and videos to discuss technique.  Anyone want to run through how they do it quick and dirty?  Suture type?  Keep nail in or splint?', 'author_fullname': 't2_jh9y', 'saved': False, 'mod_reason_title': None, 'gilded': 0, 'clicked': False, 'title': 'Nailbed laceration repair help:', 'link_flair_richtext': [], 'subreddit_name_prefixed': 'r/medicine', 'hidden': False, 'pwls': 6, 'link_flair_css_class': None, 'downs': 0, 'hide_score': False, 'name': 't3_bcw8ar', 'quarantine': False, 'link_flair_text_color': 'dark', 'author_flair_background_color': None, 'subreddit_type': 'public', 'ups': 28, 'total_awards_received': 0, 'media_embed': {}, 'author_flair_template_id': 'abb8514c-4d76-11e8-bbf5-0ec706991ea4', 'is_original_content': False, 'user_reports': [], 'secure_media': None, 'is_reddit_media_domain': False, 'is_meta': False, 'category': None, 'secure_media_embed': {}, 'link_flair_text': None, 'can_mod_post': False, 'score': 28, 'approved_by': None, 'thumbnail': '', 'edited': False, 'author_flair_css_class': None, 'author_flair_richtext': [], 'gildings': {}, 'content_categories': None, 'is_self': True, 'mod_note': None, 'created': 1555224173.0, 'link_flair_type': 'text', 'wls': 6, 'banned_by': None, 'author_flair_type': 'text', 'domain': 'self.medicine', 'allow_live_comments': False, 'selftext_html': '&lt;!-- SC_OFF --&gt;&lt;div class=\"md\"&gt;&lt;p&gt;FM working in ER part-time.  I am having difficulty finding good resources and videos to discuss technique.  Anyone want to run through how they do it quick and dirty?  Suture type?  Keep nail in or splint?&lt;/p&gt;\\n&lt;/div&gt;&lt;!-- SC_ON --&gt;', 'likes': None, 'suggested_sort': None, 'banned_at_utc': None, 'view_count': None, 'archived': False, 'no_follow': False, 'is_crosspostable': False, 'pinned': False, 'over_18': False, 'all_awardings': [], 'media_only': False, 'can_gild': False, 'spoiler': False, 'locked': False, 'author_flair_text': 'MD EM/FM', 'visited': False, 'num_reports': None, 'distinguished': None, 'subreddit_id': 't5_2qhff', 'mod_reason_by': None, 'removal_reason': None, 'link_flair_background_color': '', 'id': 'bcw8ar', 'is_robot_indexable': True, 'report_reasons': None, 'author': 'Maveric1984', 'num_crossposts': 0, 'num_comments': 23, 'send_replies': True, 'whitelist_status': 'all_ads', 'contest_mode': False, 'mod_reports': [], 'author_patreon_flair': False, 'author_flair_text_color': 'dark', 'permalink': '/r/medicine/comments/bcw8ar/nailbed_laceration_repair_help/', 'parent_whitelist_status': 'all_ads', 'stickied': False, 'url': 'https://www.reddit.com/r/medicine/comments/bcw8ar/nailbed_laceration_repair_help/', 'subreddit_subscribers': 241148, 'created_utc': 1555195373.0, 'discussion_type': None, 'media': None, 'is_video': False}}, {'kind': 't3', 'data': {'approved_at_utc': None, 'subreddit': 'medicine', 'selftext': \"Adding more items and being in bigger rooms makes the staff feel more important and perform better. Constant shrieks for two surgeons in the operating theater. Trash and vomit. An unending series of overhead pages. It's more accurate than it should be. It's very stressful. If only there were a slow-down button in real life. The main differences are the large freestanding video game consoles in the staff room, the nurses and handymen sharing the staff room with the doctors, and the inability of real life to crash when a surgeon tries to enter an operating room he is already operating in.\", 'author_fullname': 't2_1h620v2p', 'saved': False, 'mod_reason_title': None, 'gilded': 0, 'clicked': False, 'title': \"I've been on vacation so I'm prepping myself in the most authentic way possible: Playing Theme Hospital\", 'link_flair_richtext': [], 'subreddit_name_prefixed': 'r/medicine', 'hidden': False, 'pwls': 6, 'link_flair_css_class': None, 'downs': 0, 'hide_score': False, 'name': 't3_bcvgsg', 'quarantine': False, 'link_flair_text_color': 'dark', 'author_flair_background_color': None, 'subreddit_type': 'public', 'ups': 29, 'total_awards_received': 0, 'media_embed': {}, 'author_flair_template_id': 'abb8514c-4d76-11e8-bbf5-0ec706991ea4', 'is_original_content': False, 'user_reports': [], 'secure_media': None, 'is_reddit_media_domain': False, 'is_meta': False, 'category': None, 'secure_media_embed': {}, 'link_flair_text': None, 'can_mod_post': False, 'score': 29, 'approved_by': None, 'thumbnail': '', 'edited': False, 'author_flair_css_class': None, 'author_flair_richtext': [], 'gildings': {}, 'content_categories': None, 'is_self': True, 'mod_note': None, 'created': 1555219550.0, 'link_flair_type': 'text', 'wls': 6, 'banned_by': None, 'author_flair_type': 'text', 'domain': 'self.medicine', 'allow_live_comments': False, 'selftext_html': '&lt;!-- SC_OFF --&gt;&lt;div class=\"md\"&gt;&lt;p&gt;Adding more items and being in bigger rooms makes the staff feel more important and perform better. Constant shrieks for two surgeons in the operating theater. Trash and vomit. An unending series of overhead pages. It&amp;#39;s more accurate than it should be. It&amp;#39;s very stressful. If only there were a slow-down button in real life. The main differences are the large freestanding video game consoles in the staff room, the nurses and handymen sharing the staff room with the doctors, and the inability of real life to crash when a surgeon tries to enter an operating room he is already operating in.&lt;/p&gt;\\n&lt;/div&gt;&lt;!-- SC_ON --&gt;', 'likes': None, 'suggested_sort': None, 'banned_at_utc': None, 'view_count': None, 'archived': False, 'no_follow': False, 'is_crosspostable': False, 'pinned': False, 'over_18': False, 'all_awardings': [], 'media_only': False, 'can_gild': False, 'spoiler': False, 'locked': False, 'author_flair_text': 'PGY-1', 'visited': False, 'num_reports': None, 'distinguished': None, 'subreddit_id': 't5_2qhff', 'mod_reason_by': None, 'removal_reason': None, 'link_flair_background_color': '', 'id': 'bcvgsg', 'is_robot_indexable': True, 'report_reasons': None, 'author': 'rumplepilskin', 'num_crossposts': 0, 'num_comments': 9, 'send_replies': True, 'whitelist_status': 'all_ads', 'contest_mode': False, 'mod_reports': [], 'author_patreon_flair': False, 'author_flair_text_color': 'dark', 'permalink': '/r/medicine/comments/bcvgsg/ive_been_on_vacation_so_im_prepping_myself_in_the/', 'parent_whitelist_status': 'all_ads', 'stickied': False, 'url': 'https://www.reddit.com/r/medicine/comments/bcvgsg/ive_been_on_vacation_so_im_prepping_myself_in_the/', 'subreddit_subscribers': 241148, 'created_utc': 1555190750.0, 'discussion_type': None, 'media': None, 'is_video': False}}, {'kind': 't3', 'data': {'approved_at_utc': None, 'subreddit': 'medicine', 'selftext': \"Lots of skeptical doctors were saying that it'd cause a lot of hypochondriacs and false positives to overwhelm the system. Did this actually happen? Personally I read the documentation that Apple released about how the ECG and the irregular heart rhythm notifications worked, so I predicted it wouldn't happen. Curious to get everyone's take though.\\n\\nhttps://www.apple.com/healthcare/site/docs/Apple_Watch_Arrhythmia_Detection.pdf\\n\\n&gt; The ECG app waveform is similar to a Lead I ECG, which can enable classification of atrial fibrillation and sinus rhythm, but cannot identify other conditions, like heart attacks.\\n&gt; \\n&gt; After taking an ECG reading, the ECG app will check for sinus rhythm or AFib. If the heart rate is under 50 bpm or over 120 bpm, the app is unable to check for AFib, but will note the heart rate and save the ECG recording. The ECG app may provide an inconclusive result if, for example, there is poor signal due to motion artifacts or poor electrode contact, the heart rate is between 100 and 120 bpm, or for other reasons such as presence of arrhythmias other than AFib, presence of an ICD or pacemaker, or poor electrical signal in the recording which can occur as a result of right axis deviation.\\n&gt; \\n&gt; In a clinical study, the rhythm classification by the ECG app of a single lead ECG on Apple Watch was compared to the rhythm classification by a cardiologist of a simultaneously collected 12-lead ECG. The ECG app demonstrated 99.6% specificity in classifying sinus rhythm and 98.3% sensitivity in classifying AFib for the classifiable results. In this study, 12.2% of recordings were not classifiable.\\n\\nEDIT: After 20 hours of this post, there are still no comments from anyone suggesting the Series 4 ECG is causing a surge in false positives or the worried well taxing the system. No doubt the press would have been on this story in a heartbeat if this was actually happening as well. I think that answers my question.\", 'author_fullname': 't2_d4vr6', 'saved': False, 'mod_reason_title': None, 'gilded': 0, 'clicked': False, 'title': \"It's been 6 months since the Apple Watch Series 4 with ECG was released, has the predicted false positive armageddon happened yet?\", 'link_flair_richtext': [], 'subreddit_name_prefixed': 'r/medicine', 'hidden': False, 'pwls': 6, 'link_flair_css_class': None, 'downs': 0, 'hide_score': False, 'name': 't3_bd5t6y', 'quarantine': False, 'link_flair_text_color': 'dark', 'author_flair_background_color': None, 'subreddit_type': 'public', 'ups': 0, 'total_awards_received': 0, 'media_embed': {}, 'author_flair_template_id': 'c8abce90-50a6-11e8-8202-0ed444f62a38', 'is_original_content': False, 'user_reports': [], 'secure_media': None, 'is_reddit_media_domain': False, 'is_meta': False, 'category': None, 'secure_media_embed': {}, 'link_flair_text': None, 'can_mod_post': False, 'score': 0, 'approved_by': None, 'thumbnail': '', 'edited': 1555341518.0, 'author_flair_css_class': None, 'author_flair_richtext': [], 'gildings': {}, 'content_categories': None, 'is_self': True, 'mod_note': None, 'created': 1555295318.0, 'link_flair_type': 'text', 'wls': 6, 'banned_by': None, 'author_flair_type': 'text', 'domain': 'self.medicine', 'allow_live_comments': False, 'selftext_html': '&lt;!-- SC_OFF --&gt;&lt;div class=\"md\"&gt;&lt;p&gt;Lots of skeptical doctors were saying that it&amp;#39;d cause a lot of hypochondriacs and false positives to overwhelm the system. Did this actually happen? Personally I read the documentation that Apple released about how the ECG and the irregular heart rhythm notifications worked, so I predicted it wouldn&amp;#39;t happen. Curious to get everyone&amp;#39;s take though.&lt;/p&gt;\\n\\n&lt;p&gt;&lt;a href=\"https://www.apple.com/healthcare/site/docs/Apple_Watch_Arrhythmia_Detection.pdf\"&gt;https://www.apple.com/healthcare/site/docs/Apple_Watch_Arrhythmia_Detection.pdf&lt;/a&gt;&lt;/p&gt;\\n\\n&lt;blockquote&gt;\\n&lt;p&gt;The ECG app waveform is similar to a Lead I ECG, which can enable classification of atrial fibrillation and sinus rhythm, but cannot identify other conditions, like heart attacks.&lt;/p&gt;\\n\\n&lt;p&gt;After taking an ECG reading, the ECG app will check for sinus rhythm or AFib. If the heart rate is under 50 bpm or over 120 bpm, the app is unable to check for AFib, but will note the heart rate and save the ECG recording. The ECG app may provide an inconclusive result if, for example, there is poor signal due to motion artifacts or poor electrode contact, the heart rate is between 100 and 120 bpm, or for other reasons such as presence of arrhythmias other than AFib, presence of an ICD or pacemaker, or poor electrical signal in the recording which can occur as a result of right axis deviation.&lt;/p&gt;\\n\\n&lt;p&gt;In a clinical study, the rhythm classification by the ECG app of a single lead ECG on Apple Watch was compared to the rhythm classification by a cardiologist of a simultaneously collected 12-lead ECG. The ECG app demonstrated 99.6% specificity in classifying sinus rhythm and 98.3% sensitivity in classifying AFib for the classifiable results. In this study, 12.2% of recordings were not classifiable.&lt;/p&gt;\\n&lt;/blockquote&gt;\\n\\n&lt;p&gt;EDIT: After 20 hours of this post, there are still no comments from anyone suggesting the Series 4 ECG is causing a surge in false positives or the worried well taxing the system. No doubt the press would have been on this story in a heartbeat if this was actually happening as well. I think that answers my question.&lt;/p&gt;\\n&lt;/div&gt;&lt;!-- SC_ON --&gt;', 'likes': None, 'suggested_sort': None, 'banned_at_utc': None, 'view_count': None, 'archived': False, 'no_follow': True, 'is_crosspostable': False, 'pinned': False, 'over_18': False, 'all_awardings': [], 'media_only': False, 'can_gild': False, 'spoiler': False, 'locked': False, 'author_flair_text': 'NP', 'visited': False, 'num_reports': None, 'distinguished': None, 'subreddit_id': 't5_2qhff', 'mod_reason_by': None, 'removal_reason': None, 'link_flair_background_color': '', 'id': 'bd5t6y', 'is_robot_indexable': True, 'report_reasons': None, 'author': 'Rexall_Pharmacy', 'num_crossposts': 0, 'num_comments': 30, 'send_replies': True, 'whitelist_status': 'all_ads', 'contest_mode': False, 'mod_reports': [], 'author_patreon_flair': False, 'author_flair_text_color': 'dark', 'permalink': '/r/medicine/comments/bd5t6y/its_been_6_months_since_the_apple_watch_series_4/', 'parent_whitelist_status': 'all_ads', 'stickied': False, 'url': 'https://www.reddit.com/r/medicine/comments/bd5t6y/its_been_6_months_since_the_apple_watch_series_4/', 'subreddit_subscribers': 241148, 'created_utc': 1555266518.0, 'discussion_type': None, 'media': None, 'is_video': False}}, {'kind': 't3', 'data': {'approved_at_utc': None, 'subreddit': 'medicine', 'selftext': '', 'author_fullname': 't2_j3uam', 'saved': False, 'mod_reason_title': None, 'gilded': 0, 'clicked': False, 'title': 'The Scary Shortage of Infectious-Disease Doctors NY Times Op Ed', 'link_flair_richtext': [], 'subreddit_name_prefixed': 'r/medicine', 'hidden': False, 'pwls': 6, 'link_flair_css_class': None, 'downs': 0, 'hide_score': False, 'name': 't3_bchr0f', 'quarantine': False, 'link_flair_text_color': 'dark', 'author_flair_background_color': '', 'subreddit_type': 'public', 'ups': 525, 'total_awards_received': 0, 'media_embed': {}, 'author_flair_template_id': None, 'is_original_content': False, 'user_reports': [], 'secure_media': None, 'is_reddit_media_domain': False, 'is_meta': False, 'category': None, 'secure_media_embed': {}, 'link_flair_text': None, 'can_mod_post': False, 'score': 525, 'approved_by': None, 'thumbnail': '', 'edited': False, 'author_flair_css_class': '', 'author_flair_richtext': [], 'gildings': {}, 'content_categories': None, 'is_self': False, 'mod_note': None, 'created': 1555126207.0, 'link_flair_type': 'text', 'wls': 6, 'banned_by': None, 'author_flair_type': 'text', 'domain': 'nytimes.com', 'allow_live_comments': True, 'selftext_html': None, 'likes': None, 'suggested_sort': None, 'banned_at_utc': None, 'view_count': None, 'archived': False, 'no_follow': False, 'is_crosspostable': False, 'pinned': False, 'over_18': False, 'all_awardings': [], 'media_only': False, 'can_gild': False, 'spoiler': False, 'locked': False, 'author_flair_text': 'MD - Pediatrics /Infectious Diseases', 'visited': False, 'num_reports': None, 'distinguished': None, 'subreddit_id': 't5_2qhff', 'mod_reason_by': None, 'removal_reason': None, 'link_flair_background_color': '', 'id': 'bchr0f', 'is_robot_indexable': True, 'report_reasons': None, 'author': 'LaudablePus', 'num_crossposts': 1, 'num_comments': 262, 'send_replies': True, 'whitelist_status': 'all_ads', 'contest_mode': False, 'mod_reports': [], 'author_patreon_flair': False, 'author_flair_text_color': 'dark', 'permalink': '/r/medicine/comments/bchr0f/the_scary_shortage_of_infectiousdisease_doctors/', 'parent_whitelist_status': 'all_ads', 'stickied': False, 'url': 'https://www.nytimes.com/2019/04/09/opinion/doctors-drug-resistant-infections.html', 'subreddit_subscribers': 241148, 'created_utc': 1555097407.0, 'discussion_type': None, 'media': None, 'is_video': False}}, {'kind': 't3', 'data': {'approved_at_utc': None, 'subreddit': 'medicine', 'selftext': '', 'author_fullname': 't2_pv0vu', 'saved': False, 'mod_reason_title': None, 'gilded': 0, 'clicked': False, 'title': 'For those involved in medical management: What does your organization do to improve employee engagement?', 'link_flair_richtext': [], 'subreddit_name_prefixed': 'r/medicine', 'hidden': False, 'pwls': 6, 'link_flair_css_class': None, 'downs': 0, 'hide_score': False, 'name': 't3_bcmbax', 'quarantine': False, 'link_flair_text_color': 'dark', 'author_flair_background_color': None, 'subreddit_type': 'public', 'ups': 10, 'total_awards_received': 0, 'media_embed': {}, 'author_flair_template_id': 'b963f7b4-23d4-11e2-b669-12313d28169d', 'is_original_content': False, 'user_reports': [], 'secure_media': None, 'is_reddit_media_domain': False, 'is_meta': False, 'category': None, 'secure_media_embed': {}, 'link_flair_text': None, 'can_mod_post': False, 'score': 10, 'approved_by': None, 'thumbnail': '', 'edited': False, 'author_flair_css_class': None, 'author_flair_richtext': [], 'gildings': {}, 'content_categories': None, 'is_self': True, 'mod_note': None, 'created': 1555153843.0, 'link_flair_type': 'text', 'wls': 6, 'banned_by': None, 'author_flair_type': 'text', 'domain': 'self.medicine', 'allow_live_comments': False, 'selftext_html': None, 'likes': None, 'suggested_sort': None, 'banned_at_utc': None, 'view_count': None, 'archived': False, 'no_follow': False, 'is_crosspostable': False, 'pinned': False, 'over_18': False, 'all_awardings': [], 'media_only': False, 'can_gild': False, 'spoiler': False, 'locked': False, 'author_flair_text': 'MD', 'visited': False, 'num_reports': None, 'distinguished': None, 'subreddit_id': 't5_2qhff', 'mod_reason_by': None, 'removal_reason': None, 'link_flair_background_color': '', 'id': 'bcmbax', 'is_robot_indexable': True, 'report_reasons': None, 'author': 'dragons5', 'num_crossposts': 0, 'num_comments': 9, 'send_replies': True, 'whitelist_status': 'all_ads', 'contest_mode': False, 'mod_reports': [], 'author_patreon_flair': False, 'author_flair_text_color': 'dark', 'permalink': '/r/medicine/comments/bcmbax/for_those_involved_in_medical_management_what/', 'parent_whitelist_status': 'all_ads', 'stickied': False, 'url': 'https://www.reddit.com/r/medicine/comments/bcmbax/for_those_involved_in_medical_management_what/', 'subreddit_subscribers': 241148, 'created_utc': 1555125043.0, 'discussion_type': None, 'media': None, 'is_video': False}}, {'kind': 't3', 'data': {'approved_at_utc': None, 'subreddit': 'medicine', 'selftext': \"Hi Meddit, I could use some help with a difficult situation.  One of the fellows at my institution has some serious knowledge and judgement gaps which make it really stressful to work with them.  This is well beyond differing opinions, I'm talking about grossly inappropriate RSI meds (e.g. propofol in cardiogenic shock), placing NPAs when there's clear evidence of basal skull fractures, not checking BGs on seizing patients, etc.  To make things worse, the fellow in question is very resistant to changing his/her plan based on input from residents.  \\n\\n&amp;#x200B;\\n\\nIn short, my question is what do you do when the person who is technically your boss is giving really bad (and potentially dangerous) orders?  Our administration is working on this issue, but administrative action takes a long time and I need some help getting through my next shift without hurting someone.\", 'author_fullname': 't2_15bya7', 'saved': False, 'mod_reason_title': None, 'gilded': 0, 'clicked': False, 'title': \"Dealing with a superior you can't trust\", 'link_flair_richtext': [], 'subreddit_name_prefixed': 'r/medicine', 'hidden': False, 'pwls': 6, 'link_flair_css_class': None, 'downs': 0, 'hide_score': False, 'name': 't3_bcilrz', 'quarantine': False, 'link_flair_text_color': 'dark', 'author_flair_background_color': None, 'subreddit_type': 'public', 'ups': 19, 'total_awards_received': 0, 'media_embed': {}, 'author_flair_template_id': 'abb8514c-4d76-11e8-bbf5-0ec706991ea4', 'is_original_content': False, 'user_reports': [], 'secure_media': None, 'is_reddit_media_domain': False, 'is_meta': False, 'category': None, 'secure_media_embed': {}, 'link_flair_text': None, 'can_mod_post': False, 'score': 19, 'approved_by': None, 'thumbnail': '', 'edited': False, 'author_flair_css_class': None, 'author_flair_richtext': [], 'gildings': {}, 'content_categories': None, 'is_self': True, 'mod_note': None, 'created': 1555130721.0, 'link_flair_type': 'text', 'wls': 6, 'banned_by': None, 'author_flair_type': 'text', 'domain': 'self.medicine', 'allow_live_comments': False, 'selftext_html': '&lt;!-- SC_OFF --&gt;&lt;div class=\"md\"&gt;&lt;p&gt;Hi Meddit, I could use some help with a difficult situation.  One of the fellows at my institution has some serious knowledge and judgement gaps which make it really stressful to work with them.  This is well beyond differing opinions, I&amp;#39;m talking about grossly inappropriate RSI meds (e.g. propofol in cardiogenic shock), placing NPAs when there&amp;#39;s clear evidence of basal skull fractures, not checking BGs on seizing patients, etc.  To make things worse, the fellow in question is very resistant to changing his/her plan based on input from residents.  &lt;/p&gt;\\n\\n&lt;p&gt;&amp;#x200B;&lt;/p&gt;\\n\\n&lt;p&gt;In short, my question is what do you do when the person who is technically your boss is giving really bad (and potentially dangerous) orders?  Our administration is working on this issue, but administrative action takes a long time and I need some help getting through my next shift without hurting someone.&lt;/p&gt;\\n&lt;/div&gt;&lt;!-- SC_ON --&gt;', 'likes': None, 'suggested_sort': None, 'banned_at_utc': None, 'view_count': None, 'archived': False, 'no_follow': False, 'is_crosspostable': False, 'pinned': False, 'over_18': False, 'all_awardings': [], 'media_only': False, 'can_gild': False, 'spoiler': False, 'locked': False, 'author_flair_text': 'EM PGY-2', 'visited': False, 'num_reports': None, 'distinguished': None, 'subreddit_id': 't5_2qhff', 'mod_reason_by': None, 'removal_reason': None, 'link_flair_background_color': '', 'id': 'bcilrz', 'is_robot_indexable': True, 'report_reasons': None, 'author': 'Yeti_MD', 'num_crossposts': 0, 'num_comments': 12, 'send_replies': True, 'whitelist_status': 'all_ads', 'contest_mode': False, 'mod_reports': [], 'author_patreon_flair': False, 'author_flair_text_color': 'dark', 'permalink': '/r/medicine/comments/bcilrz/dealing_with_a_superior_you_cant_trust/', 'parent_whitelist_status': 'all_ads', 'stickied': False, 'url': 'https://www.reddit.com/r/medicine/comments/bcilrz/dealing_with_a_superior_you_cant_trust/', 'subreddit_subscribers': 241148, 'created_utc': 1555101921.0, 'discussion_type': None, 'media': None, 'is_video': False}}, {'kind': 't3', 'data': {'approved_at_utc': None, 'subreddit': 'medicine', 'selftext': \"As we know, patients take many different vitamins for non-evidence based reasons, and I am sure many medical providers do as well.  I would be curious to know what you take on a regular basis and why. This would exclude prescribed or medically indicated (eg vit E and NASH)  things.  This could also include whether or not you take a baby ASA as primary prevention, so not confined to typical idea of 'vitamin' only products.\\n\\nI took the time to inspect the vitamin aisle at the grocery store and was pretty impressed by the selection and prices. I find it fascinating the odd beliefs people acquire to take a random manufactured pill vs. struggle to be to motivated to take well and developed medications.\", 'author_fullname': 't2_54r15', 'saved': False, 'mod_reason_title': None, 'gilded': 0, 'clicked': False, 'title': 'What vitamins or supplements or other daily OTC products do you take?', 'link_flair_richtext': [], 'subreddit_name_prefixed': 'r/medicine', 'hidden': False, 'pwls': 6, 'link_flair_css_class': None, 'downs': 0, 'hide_score': False, 'name': 't3_bcgpau', 'quarantine': False, 'link_flair_text_color': 'dark', 'author_flair_background_color': '', 'subreddit_type': 'public', 'ups': 26, 'total_awards_received': 0, 'media_embed': {}, 'author_flair_template_id': None, 'is_original_content': False, 'user_reports': [], 'secure_media': None, 'is_reddit_media_domain': False, 'is_meta': False, 'category': None, 'secure_media_embed': {}, 'link_flair_text': None, 'can_mod_post': False, 'score': 26, 'approved_by': None, 'thumbnail': '', 'edited': 1555098763.0, 'author_flair_css_class': '', 'author_flair_richtext': [], 'gildings': {}, 'content_categories': None, 'is_self': True, 'mod_note': None, 'created': 1555121002.0, 'link_flair_type': 'text', 'wls': 6, 'banned_by': None, 'author_flair_type': 'text', 'domain': 'self.medicine', 'allow_live_comments': False, 'selftext_html': '&lt;!-- SC_OFF --&gt;&lt;div class=\"md\"&gt;&lt;p&gt;As we know, patients take many different vitamins for non-evidence based reasons, and I am sure many medical providers do as well.  I would be curious to know what you take on a regular basis and why. This would exclude prescribed or medically indicated (eg vit E and NASH)  things.  This could also include whether or not you take a baby ASA as primary prevention, so not confined to typical idea of &amp;#39;vitamin&amp;#39; only products.&lt;/p&gt;\\n\\n&lt;p&gt;I took the time to inspect the vitamin aisle at the grocery store and was pretty impressed by the selection and prices. I find it fascinating the odd beliefs people acquire to take a random manufactured pill vs. struggle to be to motivated to take well and developed medications.&lt;/p&gt;\\n&lt;/div&gt;&lt;!-- SC_ON --&gt;', 'likes': None, 'suggested_sort': None, 'banned_at_utc': None, 'view_count': None, 'archived': False, 'no_follow': False, 'is_crosspostable': False, 'pinned': False, 'over_18': False, 'all_awardings': [], 'media_only': False, 'can_gild': False, 'spoiler': False, 'locked': False, 'author_flair_text': 'PA-C', 'visited': False, 'num_reports': None, 'distinguished': None, 'subreddit_id': 't5_2qhff', 'mod_reason_by': None, 'removal_reason': None, 'link_flair_background_color': '', 'id': 'bcgpau', 'is_robot_indexable': True, 'report_reasons': None, 'author': 'honeybadgerrrr', 'num_crossposts': 0, 'num_comments': 136, 'send_replies': True, 'whitelist_status': 'all_ads', 'contest_mode': False, 'mod_reports': [], 'author_patreon_flair': False, 'author_flair_text_color': 'dark', 'permalink': '/r/medicine/comments/bcgpau/what_vitamins_or_supplements_or_other_daily_otc/', 'parent_whitelist_status': 'all_ads', 'stickied': False, 'url': 'https://www.reddit.com/r/medicine/comments/bcgpau/what_vitamins_or_supplements_or_other_daily_otc/', 'subreddit_subscribers': 241148, 'created_utc': 1555092202.0, 'discussion_type': None, 'media': None, 'is_video': False}}, {'kind': 't3', 'data': {'approved_at_utc': None, 'subreddit': 'medicine', 'selftext': 'Long story short, our first child is almost 3mo old. I’m having the age old dilemma : feeling guilty about not being home if I stay late at work; feeling delinquent if I leave to go home before all charts are closed. I’m full time clinic primary care with night clinic duties 4 times a month. I close 50-90% of my charts that day but on bad days or hard weeks sometimes my charts stack up 4-5 days and results stack up 48 hours.... and I’m left with a choice:\\n\\n1) stay late to finish notes on time\\n2) go home, see kid, sacrifice quality of time/precious sleep and try to finish notes at home on time\\n3) go home, see kid fully, sleep, finish notes in a slightly delinquent fashion (our clinic does not have a rule about timing and many physicians leave charts open for longer than I do/shittier notes).\\n\\nI will say : all my orders, diagnoses, and almost always my HPIs are fully completed shortly after leaving the room, so others see this even if my ROS/PE/plan justification is not. Also I am struggling to get 6hrs of interrupted sleep, already work through lunch, don’t spend any time relaxing, and kid sleeps at 8pm so barely spend 2hrs with her each day.', 'author_fullname': 't2_n6ansj8', 'saved': False, 'mod_reason_title': None, 'gilded': 0, 'clicked': False, 'title': 'How do you balance finishing notes/leaving on time/home life?', 'link_flair_richtext': [], 'subreddit_name_prefixed': 'r/medicine', 'hidden': False, 'pwls': 6, 'link_flair_css_class': None, 'downs': 0, 'hide_score': False, 'name': 't3_bc9nde', 'quarantine': False, 'link_flair_text_color': 'dark', 'author_flair_background_color': None, 'subreddit_type': 'public', 'ups': 221, 'total_awards_received': 0, 'media_embed': {}, 'author_flair_template_id': 'abb8514c-4d76-11e8-bbf5-0ec706991ea4', 'is_original_content': False, 'user_reports': [], 'secure_media': None, 'is_reddit_media_domain': False, 'is_meta': False, 'category': None, 'secure_media_embed': {}, 'link_flair_text': None, 'can_mod_post': False, 'score': 221, 'approved_by': None, 'thumbnail': '', 'edited': 1555044746.0, 'author_flair_css_class': None, 'author_flair_richtext': [], 'gildings': {}, 'content_categories': None, 'is_self': True, 'mod_note': None, 'created': 1555073321.0, 'link_flair_type': 'text', 'wls': 6, 'banned_by': None, 'author_flair_type': 'text', 'domain': 'self.medicine', 'allow_live_comments': True, 'selftext_html': '&lt;!-- SC_OFF --&gt;&lt;div class=\"md\"&gt;&lt;p&gt;Long story short, our first child is almost 3mo old. I’m having the age old dilemma : feeling guilty about not being home if I stay late at work; feeling delinquent if I leave to go home before all charts are closed. I’m full time clinic primary care with night clinic duties 4 times a month. I close 50-90% of my charts that day but on bad days or hard weeks sometimes my charts stack up 4-5 days and results stack up 48 hours.... and I’m left with a choice:&lt;/p&gt;\\n\\n&lt;p&gt;1) stay late to finish notes on time\\n2) go home, see kid, sacrifice quality of time/precious sleep and try to finish notes at home on time\\n3) go home, see kid fully, sleep, finish notes in a slightly delinquent fashion (our clinic does not have a rule about timing and many physicians leave charts open for longer than I do/shittier notes).&lt;/p&gt;\\n\\n&lt;p&gt;I will say : all my orders, diagnoses, and almost always my HPIs are fully completed shortly after leaving the room, so others see this even if my ROS/PE/plan justification is not. Also I am struggling to get 6hrs of interrupted sleep, already work through lunch, don’t spend any time relaxing, and kid sleeps at 8pm so barely spend 2hrs with her each day.&lt;/p&gt;\\n&lt;/div&gt;&lt;!-- SC_ON --&gt;', 'likes': None, 'suggested_sort': None, 'banned_at_utc': None, 'view_count': None, 'archived': False, 'no_follow': False, 'is_crosspostable': False, 'pinned': False, 'over_18': False, 'all_awardings': [], 'media_only': False, 'can_gild': False, 'spoiler': False, 'locked': False, 'author_flair_text': 'MD', 'visited': False, 'num_reports': None, 'distinguished': None, 'subreddit_id': 't5_2qhff', 'mod_reason_by': None, 'removal_reason': None, 'link_flair_background_color': '', 'id': 'bc9nde', 'is_robot_indexable': True, 'report_reasons': None, 'author': 'PagingDrLumps', 'num_crossposts': 0, 'num_comments': 157, 'send_replies': True, 'whitelist_status': 'all_ads', 'contest_mode': False, 'mod_reports': [], 'author_patreon_flair': False, 'author_flair_text_color': 'dark', 'permalink': '/r/medicine/comments/bc9nde/how_do_you_balance_finishing_notesleaving_on/', 'parent_whitelist_status': 'all_ads', 'stickied': False, 'url': 'https://www.reddit.com/r/medicine/comments/bc9nde/how_do_you_balance_finishing_notesleaving_on/', 'subreddit_subscribers': 241148, 'created_utc': 1555044521.0, 'discussion_type': None, 'media': None, 'is_video': False}}, {'kind': 't3', 'data': {'approved_at_utc': None, 'subreddit': 'medicine', 'selftext': 'Have you found this useful? Or is it causing additional work for you by having to reconcile new issues and orders from a physician that most of the time has little information about your patient? We have 1-2 hospitalist to cover admissions and emergent situations, but we also have the resource of the telemedicine provider for non-emergent issues. At times, these providers are unaware of protocols, standards, and order sets of our hospital.', 'author_fullname': 't2_wndlqj4', 'saved': False, 'mod_reason_title': None, 'gilded': 0, 'clicked': False, 'title': 'How do attending hospitalists feel about Telemedicine MD’s covering for you overnight?', 'link_flair_richtext': [], 'subreddit_name_prefixed': 'r/medicine', 'hidden': False, 'pwls': 6, 'link_flair_css_class': None, 'downs': 0, 'hide_score': False, 'name': 't3_bcab89', 'quarantine': False, 'link_flair_text_color': 'dark', 'author_flair_background_color': None, 'subreddit_type': 'public', 'ups': 65, 'total_awards_received': 0, 'media_embed': {}, 'author_flair_template_id': 'bf0eb8ac-50a6-11e8-9fdf-0e961f2aaf0c', 'is_original_content': False, 'user_reports': [], 'secure_media': None, 'is_reddit_media_domain': False, 'is_meta': False, 'category': None, 'secure_media_embed': {}, 'link_flair_text': None, 'can_mod_post': False, 'score': 65, 'approved_by': None, 'thumbnail': '', 'edited': False, 'author_flair_css_class': None, 'author_flair_richtext': [], 'gildings': {}, 'content_categories': None, 'is_self': True, 'mod_note': None, 'created': 1555078766.0, 'link_flair_type': 'text', 'wls': 6, 'banned_by': None, 'author_flair_type': 'text', 'domain': 'self.medicine', 'allow_live_comments': False, 'selftext_html': '&lt;!-- SC_OFF --&gt;&lt;div class=\"md\"&gt;&lt;p&gt;Have you found this useful? Or is it causing additional work for you by having to reconcile new issues and orders from a physician that most of the time has little information about your patient? We have 1-2 hospitalist to cover admissions and emergent situations, but we also have the resource of the telemedicine provider for non-emergent issues. At times, these providers are unaware of protocols, standards, and order sets of our hospital.&lt;/p&gt;\\n&lt;/div&gt;&lt;!-- SC_ON --&gt;', 'likes': None, 'suggested_sort': None, 'banned_at_utc': None, 'view_count': None, 'archived': False, 'no_follow': False, 'is_crosspostable': False, 'pinned': False, 'over_18': False, 'all_awardings': [], 'media_only': False, 'can_gild': False, 'spoiler': False, 'locked': False, 'author_flair_text': 'Nurse', 'visited': False, 'num_reports': None, 'distinguished': None, 'subreddit_id': 't5_2qhff', 'mod_reason_by': None, 'removal_reason': None, 'link_flair_background_color': '', 'id': 'bcab89', 'is_robot_indexable': True, 'report_reasons': None, 'author': 'morgan133', 'num_crossposts': 0, 'num_comments': 15, 'send_replies': True, 'whitelist_status': 'all_ads', 'contest_mode': False, 'mod_reports': [], 'author_patreon_flair': False, 'author_flair_text_color': 'dark', 'permalink': '/r/medicine/comments/bcab89/how_do_attending_hospitalists_feel_about/', 'parent_whitelist_status': 'all_ads', 'stickied': False, 'url': 'https://www.reddit.com/r/medicine/comments/bcab89/how_do_attending_hospitalists_feel_about/', 'subreddit_subscribers': 241148, 'created_utc': 1555049966.0, 'discussion_type': None, 'media': None, 'is_video': False}}, {'kind': 't3', 'data': {'approved_at_utc': None, 'subreddit': 'medicine', 'selftext': \"I've turned down many patients for a refill who are on ambien and xanax 3 times a day including one Xanax ER a day. At best I'll offer a weaning schedule so that we don't stop them cold turkey. Many times they will refuse. \\n\\nThere is a doctor near where I practice who has switched to direct medicine or concierge medicine. Ever since the switch, we have had a flood of new patients who are all on the same meds. Without fail, every patient I have of his is on the same regimen. Ambien 10mg nightly, xanax 1mg tid, and xanax ER once daily. Sometimes a norco or muscle relaxer will be on their profile too. \\n\\nI've noticed that this direct pay doctor will not fill anything but those meds for them and leave the DM II management with A1c of 13's up to me their new insurance taking primary care doctor. (me)\\n\\nHow do you guys/gals deal with this? I'm tempted to reach out to him and more or less be like bro...wtf is going on? I'm confused what my and your role is here.\\n\\nOn one hand I want to help their medical problems but on the other I find it hard when they have two different primary care doctors, one of which seems to only be treating anxiety or insomnia with high dose benzos. Since I do treat those disorders but not with benzos long term, these patients will flock to the cash pay doctors near me to get their fill.\\n\\nShould I start refusing to see these types of patients to treat their diabetes, HLD, thyroid disorders, etc? What would you do?\", 'author_fullname': 't2_pr024', 'saved': False, 'mod_reason_title': None, 'gilded': 0, 'clicked': False, 'title': 'Do you continue to see patients in primary care who are seeing another doctor for high dose controlled substances that you feel are not indicated?', 'link_flair_richtext': [], 'subreddit_name_prefixed': 'r/medicine', 'hidden': False, 'pwls': 6, 'link_flair_css_class': None, 'downs': 0, 'hide_score': False, 'name': 't3_bc2nox', 'quarantine': False, 'link_flair_text_color': 'dark', 'author_flair_background_color': '', 'subreddit_type': 'public', 'ups': 432, 'total_awards_received': 0, 'media_embed': {}, 'author_flair_template_id': None, 'is_original_content': False, 'user_reports': [], 'secure_media': None, 'is_reddit_media_domain': False, 'is_meta': False, 'category': None, 'secure_media_embed': {}, 'link_flair_text': None, 'can_mod_post': False, 'score': 432, 'approved_by': None, 'thumbnail': '', 'edited': False, 'author_flair_css_class': '', 'author_flair_richtext': [], 'gildings': {}, 'content_categories': None, 'is_self': True, 'mod_note': None, 'created': 1555032620.0, 'link_flair_type': 'text', 'wls': 6, 'banned_by': None, 'author_flair_type': 'text', 'domain': 'self.medicine', 'allow_live_comments': False, 'selftext_html': '&lt;!-- SC_OFF --&gt;&lt;div class=\"md\"&gt;&lt;p&gt;I&amp;#39;ve turned down many patients for a refill who are on ambien and xanax 3 times a day including one Xanax ER a day. At best I&amp;#39;ll offer a weaning schedule so that we don&amp;#39;t stop them cold turkey. Many times they will refuse. &lt;/p&gt;\\n\\n&lt;p&gt;There is a doctor near where I practice who has switched to direct medicine or concierge medicine. Ever since the switch, we have had a flood of new patients who are all on the same meds. Without fail, every patient I have of his is on the same regimen. Ambien 10mg nightly, xanax 1mg tid, and xanax ER once daily. Sometimes a norco or muscle relaxer will be on their profile too. &lt;/p&gt;\\n\\n&lt;p&gt;I&amp;#39;ve noticed that this direct pay doctor will not fill anything but those meds for them and leave the DM II management with A1c of 13&amp;#39;s up to me their new insurance taking primary care doctor. (me)&lt;/p&gt;\\n\\n&lt;p&gt;How do you guys/gals deal with this? I&amp;#39;m tempted to reach out to him and more or less be like bro...wtf is going on? I&amp;#39;m confused what my and your role is here.&lt;/p&gt;\\n\\n&lt;p&gt;On one hand I want to help their medical problems but on the other I find it hard when they have two different primary care doctors, one of which seems to only be treating anxiety or insomnia with high dose benzos. Since I do treat those disorders but not with benzos long term, these patients will flock to the cash pay doctors near me to get their fill.&lt;/p&gt;\\n\\n&lt;p&gt;Should I start refusing to see these types of patients to treat their diabetes, HLD, thyroid disorders, etc? What would you do?&lt;/p&gt;\\n&lt;/div&gt;&lt;!-- SC_ON --&gt;', 'likes': None, 'suggested_sort': None, 'banned_at_utc': None, 'view_count': None, 'archived': False, 'no_follow': False, 'is_crosspostable': False, 'pinned': False, 'over_18': False, 'all_awardings': [], 'media_only': False, 'can_gild': False, 'spoiler': False, 'locked': False, 'author_flair_text': 'IM', 'visited': False, 'num_reports': None, 'distinguished': None, 'subreddit_id': 't5_2qhff', 'mod_reason_by': None, 'removal_reason': None, 'link_flair_background_color': '', 'id': 'bc2nox', 'is_robot_indexable': True, 'report_reasons': None, 'author': 'InvestingDoc', 'num_crossposts': 0, 'num_comments': 142, 'send_replies': True, 'whitelist_status': 'all_ads', 'contest_mode': False, 'mod_reports': [], 'author_patreon_flair': False, 'author_flair_text_color': 'dark', 'permalink': '/r/medicine/comments/bc2nox/do_you_continue_to_see_patients_in_primary_care/', 'parent_whitelist_status': 'all_ads', 'stickied': False, 'url': 'https://www.reddit.com/r/medicine/comments/bc2nox/do_you_continue_to_see_patients_in_primary_care/', 'subreddit_subscribers': 241148, 'created_utc': 1555003820.0, 'discussion_type': None, 'media': None, 'is_video': False}}, {'kind': 't3', 'data': {'approved_at_utc': None, 'subreddit': 'medicine', 'selftext': '', 'author_fullname': 't2_7kqcx', 'saved': False, 'mod_reason_title': None, 'gilded': 0, 'clicked': False, 'title': 'NB nurse accused of rogue administration of oxytocin, resulting in multiple emergency C-sections', 'link_flair_richtext': [], 'subreddit_name_prefixed': 'r/medicine', 'hidden': False, 'pwls': 6, 'link_flair_css_class': None, 'downs': 0, 'hide_score': False, 'name': 't3_bc2o03', 'quarantine': False, 'link_flair_text_color': 'dark', 'author_flair_background_color': None, 'subreddit_type': 'public', 'ups': 410, 'total_awards_received': 0, 'media_embed': {}, 'author_flair_template_id': 'b963f7b4-23d4-11e2-b669-12313d28169d', 'is_original_content': False, 'user_reports': [], 'secure_media': None, 'is_reddit_media_domain': False, 'is_meta': False, 'category': None, 'secure_media_embed': {}, 'link_flair_text': None, 'can_mod_post': False, 'score': 410, 'approved_by': None, 'thumbnail': '', 'edited': False, 'author_flair_css_class': None, 'author_flair_richtext': [], 'gildings': {}, 'content_categories': None, 'is_self': False, 'mod_note': None, 'created': 1555032659.0, 'link_flair_type': 'text', 'wls': 6, 'banned_by': None, 'author_flair_type': 'text', 'domain': 'cbc.ca', 'allow_live_comments': True, 'selftext_html': None, 'likes': None, 'suggested_sort': None, 'banned_at_utc': None, 'view_count': None, 'archived': False, 'no_follow': False, 'is_crosspostable': False, 'pinned': False, 'over_18': False, 'all_awardings': [], 'media_only': False, 'can_gild': False, 'spoiler': False, 'locked': False, 'author_flair_text': 'Rural FM + Anesthesia', 'visited': False, 'num_reports': None, 'distinguished': None, 'subreddit_id': 't5_2qhff', 'mod_reason_by': None, 'removal_reason': None, 'link_flair_background_color': '', 'id': 'bc2o03', 'is_robot_indexable': True, 'report_reasons': None, 'author': 'annamnesis', 'num_crossposts': 1, 'num_comments': 115, 'send_replies': True, 'whitelist_status': 'all_ads', 'contest_mode': False, 'mod_reports': [], 'author_patreon_flair': False, 'author_flair_text_color': 'dark', 'permalink': '/r/medicine/comments/bc2o03/nb_nurse_accused_of_rogue_administration_of/', 'parent_whitelist_status': 'all_ads', 'stickied': False, 'url': 'https://www.cbc.ca/news/canada/new-brunswick/moncton-hospital-horizon-nurse-labour-lawsuit-1.5093510', 'subreddit_subscribers': 241148, 'created_utc': 1555003859.0, 'discussion_type': None, 'media': None, 'is_video': False}}, {'kind': 't3', 'data': {'approved_at_utc': None, 'subreddit': 'medicine', 'selftext': '', 'author_fullname': 't2_cenm3', 'saved': False, 'mod_reason_title': None, 'gilded': 0, 'clicked': False, 'title': \"Chest Binding: A Physician's Guide\", 'link_flair_richtext': [], 'subreddit_name_prefixed': 'r/medicine', 'hidden': False, 'pwls': 6, 'link_flair_css_class': None, 'downs': 0, 'hide_score': False, 'name': 't3_bc2yfd', 'quarantine': False, 'link_flair_text_color': 'dark', 'author_flair_background_color': None, 'subreddit_type': 'public', 'ups': 62, 'total_awards_received': 0, 'media_embed': {}, 'author_flair_template_id': 'b7553168-50a6-11e8-95d8-0e6fcedead42', 'is_original_content': False, 'user_reports': [], 'secure_media': None, 'is_reddit_media_domain': False, 'is_meta': False, 'category': None, 'secure_media_embed': {}, 'link_flair_text': None, 'can_mod_post': False, 'score': 62, 'approved_by': None, 'thumbnail': '', 'edited': False, 'author_flair_css_class': None, 'author_flair_richtext': [], 'gildings': {}, 'content_categories': None, 'is_self': False, 'mod_note': None, 'created': 1555034119.0, 'link_flair_type': 'text', 'wls': 6, 'banned_by': None, 'author_flair_type': 'text', 'domain': 'prideinpractice.org', 'allow_live_comments': True, 'selftext_html': None, 'likes': None, 'suggested_sort': None, 'banned_at_utc': None, 'view_count': None, 'archived': False, 'no_follow': False, 'is_crosspostable': False, 'pinned': False, 'over_18': False, 'all_awardings': [], 'media_only': False, 'can_gild': False, 'spoiler': False, 'locked': False, 'author_flair_text': 'Medical Student', 'visited': False, 'num_reports': None, 'distinguished': None, 'subreddit_id': 't5_2qhff', 'mod_reason_by': None, 'removal_reason': None, 'link_flair_background_color': '', 'id': 'bc2yfd', 'is_robot_indexable': True, 'report_reasons': None, 'author': 'backstrokerjc', 'num_crossposts': 1, 'num_comments': 25, 'send_replies': True, 'whitelist_status': 'all_ads', 'contest_mode': False, 'mod_reports': [], 'author_patreon_flair': False, 'author_flair_text_color': 'dark', 'permalink': '/r/medicine/comments/bc2yfd/chest_binding_a_physicians_guide/', 'parent_whitelist_status': 'all_ads', 'stickied': False, 'url': 'https://www.prideinpractice.org/articles/chest-binding-physician-guide/', 'subreddit_subscribers': 241148, 'created_utc': 1555005319.0, 'discussion_type': None, 'media': None, 'is_video': False}}, {'kind': 't3', 'data': {'approved_at_utc': None, 'subreddit': 'medicine', 'selftext': '', 'author_fullname': 't2_5nli5', 'saved': False, 'mod_reason_title': None, 'gilded': 0, 'clicked': False, 'title': 'The NASA Twins Study: A multidimensional analysis of a year-long human spaceflight', 'link_flair_richtext': [], 'subreddit_name_prefixed': 'r/medicine', 'hidden': False, 'pwls': 6, 'link_flair_css_class': None, 'downs': 0, 'hide_score': False, 'name': 't3_bc36j0', 'quarantine': False, 'link_flair_text_color': 'dark', 'author_flair_background_color': None, 'subreddit_type': 'public', 'ups': 31, 'total_awards_received': 0, 'media_embed': {}, 'author_flair_template_id': 'a8cf0dd4-4101-11e9-a972-0ed428fbb33e', 'is_original_content': False, 'user_reports': [], 'secure_media': None, 'is_reddit_media_domain': False, 'is_meta': False, 'category': None, 'secure_media_embed': {}, 'link_flair_text': None, 'can_mod_post': False, 'score': 31, 'approved_by': None, 'thumbnail': '', 'edited': False, 'author_flair_css_class': None, 'author_flair_richtext': [], 'gildings': {}, 'content_categories': None, 'is_self': False, 'mod_note': None, 'created': 1555035275.0, 'link_flair_type': 'text', 'wls': 6, 'banned_by': None, 'author_flair_type': 'text', 'domain': 'science.sciencemag.org', 'allow_live_comments': False, 'selftext_html': None, 'likes': None, 'suggested_sort': None, 'banned_at_utc': None, 'view_count': None, 'archived': False, 'no_follow': False, 'is_crosspostable': False, 'pinned': False, 'over_18': False, 'all_awardings': [], 'media_only': False, 'can_gild': False, 'spoiler': False, 'locked': False, 'author_flair_text': 'MBBS Intern', 'visited': False, 'num_reports': None, 'distinguished': None, 'subreddit_id': 't5_2qhff', 'mod_reason_by': None, 'removal_reason': None, 'link_flair_background_color': '', 'id': 'bc36j0', 'is_robot_indexable': True, 'report_reasons': None, 'author': 'z3roTO60', 'num_crossposts': 0, 'num_comments': 9, 'send_replies': True, 'whitelist_status': 'all_ads', 'contest_mode': False, 'mod_reports': [], 'author_patreon_flair': False, 'author_flair_text_color': 'dark', 'permalink': '/r/medicine/comments/bc36j0/the_nasa_twins_study_a_multidimensional_analysis/', 'parent_whitelist_status': 'all_ads', 'stickied': False, 'url': 'https://science.sciencemag.org/content/364/6436/eaau8650.full', 'subreddit_subscribers': 241148, 'created_utc': 1555006475.0, 'discussion_type': None, 'media': None, 'is_video': False}}, {'kind': 't3', 'data': {'approved_at_utc': None, 'subreddit': 'medicine', 'selftext': \"I will love to have some recommendations for light jacket for males to be worn over scrubs while coming or going to work in hot summer. I like to wear a jacket for scrubs while I'm outside of the hospital for additional layer and extra pockets. If anyone has recommendations for a good breathable jacket which I can survive wearing in hot summer, I will really appreciate it.\", 'author_fullname': 't2_8rc8xc5', 'saved': False, 'mod_reason_title': None, 'gilded': 0, 'clicked': False, 'title': 'Jacket recommendations over scrubs?', 'link_flair_richtext': [], 'subreddit_name_prefixed': 'r/medicine', 'hidden': False, 'pwls': 6, 'link_flair_css_class': None, 'downs': 0, 'hide_score': False, 'name': 't3_bc4t07', 'quarantine': False, 'link_flair_text_color': 'dark', 'author_flair_background_color': None, 'subreddit_type': 'public', 'ups': 6, 'total_awards_received': 0, 'media_embed': {}, 'author_flair_template_id': 'abb8514c-4d76-11e8-bbf5-0ec706991ea4', 'is_original_content': False, 'user_reports': [], 'secure_media': None, 'is_reddit_media_domain': False, 'is_meta': False, 'category': None, 'secure_media_embed': {}, 'link_flair_text': None, 'can_mod_post': False, 'score': 6, 'approved_by': None, 'thumbnail': '', 'edited': False, 'author_flair_css_class': None, 'author_flair_richtext': [], 'gildings': {}, 'content_categories': None, 'is_self': True, 'mod_note': None, 'created': 1555043606.0, 'link_flair_type': 'text', 'wls': 6, 'banned_by': None, 'author_flair_type': 'text', 'domain': 'self.medicine', 'allow_live_comments': False, 'selftext_html': '&lt;!-- SC_OFF --&gt;&lt;div class=\"md\"&gt;&lt;p&gt;I will love to have some recommendations for light jacket for males to be worn over scrubs while coming or going to work in hot summer. I like to wear a jacket for scrubs while I&amp;#39;m outside of the hospital for additional layer and extra pockets. If anyone has recommendations for a good breathable jacket which I can survive wearing in hot summer, I will really appreciate it.&lt;/p&gt;\\n&lt;/div&gt;&lt;!-- SC_ON --&gt;', 'likes': None, 'suggested_sort': None, 'banned_at_utc': None, 'view_count': None, 'archived': False, 'no_follow': False, 'is_crosspostable': False, 'pinned': False, 'over_18': False, 'all_awardings': [], 'media_only': False, 'can_gild': False, 'spoiler': False, 'locked': False, 'author_flair_text': 'MD', 'visited': False, 'num_reports': None, 'distinguished': None, 'subreddit_id': 't5_2qhff', 'mod_reason_by': None, 'removal_reason': None, 'link_flair_background_color': '', 'id': 'bc4t07', 'is_robot_indexable': True, 'report_reasons': None, 'author': 'sevolatte', 'num_crossposts': 0, 'num_comments': 22, 'send_replies': True, 'whitelist_status': 'all_ads', 'contest_mode': False, 'mod_reports': [], 'author_patreon_flair': False, 'author_flair_text_color': 'dark', 'permalink': '/r/medicine/comments/bc4t07/jacket_recommendations_over_scrubs/', 'parent_whitelist_status': 'all_ads', 'stickied': False, 'url': 'https://www.reddit.com/r/medicine/comments/bc4t07/jacket_recommendations_over_scrubs/', 'subreddit_subscribers': 241148, 'created_utc': 1555014806.0, 'discussion_type': None, 'media': None, 'is_video': False}}, {'kind': 't3', 'data': {'approved_at_utc': None, 'subreddit': 'medicine', 'selftext': '', 'author_fullname': 't2_250sqz5i', 'saved': False, 'mod_reason_title': None, 'gilded': 0, 'clicked': False, 'title': 'Vanderbilt nurse error killed patient; nurse now being criminally charged', 'link_flair_richtext': [], 'subreddit_name_prefixed': 'r/medicine', 'hidden': False, 'pwls': 6, 'link_flair_css_class': None, 'downs': 0, 'hide_score': False, 'name': 't3_bbooz2', 'quarantine': False, 'link_flair_text_color': 'dark', 'author_flair_background_color': None, 'subreddit_type': 'public', 'ups': 549, 'total_awards_received': 0, 'media_embed': {}, 'author_flair_template_id': 'b7553168-50a6-11e8-95d8-0e6fcedead42', 'is_original_content': False, 'user_reports': [], 'secure_media': None, 'is_reddit_media_domain': False, 'is_meta': False, 'category': None, 'secure_media_embed': {}, 'link_flair_text': None, 'can_mod_post': False, 'score': 549, 'approved_by': None, 'thumbnail': '', 'edited': False, 'author_flair_css_class': None, 'author_flair_richtext': [], 'gildings': {}, 'content_categories': None, 'is_self': False, 'mod_note': None, 'created': 1554945700.0, 'link_flair_type': 'text', 'wls': 6, 'banned_by': None, 'author_flair_type': 'text', 'domain': 'npr.org', 'allow_live_comments': True, 'selftext_html': None, 'likes': None, 'suggested_sort': None, 'banned_at_utc': None, 'view_count': None, 'archived': False, 'no_follow': False, 'is_crosspostable': False, 'pinned': False, 'over_18': False, 'all_awardings': [], 'media_only': False, 'can_gild': False, 'spoiler': False, 'locked': False, 'author_flair_text': 'Medical Student', 'visited': False, 'num_reports': None, 'distinguished': None, 'subreddit_id': 't5_2qhff', 'mod_reason_by': None, 'removal_reason': None, 'link_flair_background_color': '', 'id': 'bbooz2', 'is_robot_indexable': True, 'report_reasons': None, 'author': 'MuffinToIt', 'num_crossposts': 3, 'num_comments': 433, 'send_replies': True, 'whitelist_status': 'all_ads', 'contest_mode': False, 'mod_reports': [], 'author_patreon_flair': False, 'author_flair_text_color': 'dark', 'permalink': '/r/medicine/comments/bbooz2/vanderbilt_nurse_error_killed_patient_nurse_now/', 'parent_whitelist_status': 'all_ads', 'stickied': False, 'url': 'https://www.npr.org/sections/health-shots/2019/04/10/709971677/when-a-nurse-is-prosecuted-for-a-fatal-medical-mistake-does-it-make-medicine-saf', 'subreddit_subscribers': 241148, 'created_utc': 1554916900.0, 'discussion_type': None, 'media': None, 'is_video': False}}, {'kind': 't3', 'data': {'approved_at_utc': None, 'subreddit': 'medicine', 'selftext': '', 'author_fullname': 't2_7f4ht', 'saved': False, 'mod_reason_title': None, 'gilded': 0, 'clicked': False, 'title': 'Medscape Physician Compensation Report 2019', 'link_flair_richtext': [], 'subreddit_name_prefixed': 'r/medicine', 'hidden': False, 'pwls': 6, 'link_flair_css_class': None, 'downs': 0, 'hide_score': False, 'name': 't3_bbrrrm', 'quarantine': False, 'link_flair_text_color': 'dark', 'author_flair_background_color': None, 'subreddit_type': 'public', 'ups': 243, 'total_awards_received': 0, 'media_embed': {}, 'author_flair_template_id': 'a8cf0dd4-4101-11e9-a972-0ed428fbb33e', 'is_original_content': False, 'user_reports': [], 'secure_media': None, 'is_reddit_media_domain': False, 'is_meta': False, 'category': None, 'secure_media_embed': {}, 'link_flair_text': None, 'can_mod_post': False, 'score': 243, 'approved_by': None, 'thumbnail': '', 'edited': False, 'author_flair_css_class': None, 'author_flair_richtext': [], 'gildings': {}, 'content_categories': None, 'is_self': False, 'mod_note': None, 'created': 1554961234.0, 'link_flair_type': 'text', 'wls': 6, 'banned_by': None, 'author_flair_type': 'text', 'domain': 'medscape.com', 'allow_live_comments': True, 'selftext_html': None, 'likes': None, 'suggested_sort': None, 'banned_at_utc': None, 'view_count': None, 'archived': False, 'no_follow': False, 'is_crosspostable': False, 'pinned': False, 'over_18': False, 'all_awardings': [], 'media_only': False, 'can_gild': False, 'spoiler': False, 'locked': False, 'author_flair_text': 'PGY-negative 2', 'visited': False, 'num_reports': None, 'distinguished': None, 'subreddit_id': 't5_2qhff', 'mod_reason_by': None, 'removal_reason': None, 'link_flair_background_color': '', 'id': 'bbrrrm', 'is_robot_indexable': True, 'report_reasons': None, 'author': 'swaggerfish', 'num_crossposts': 0, 'num_comments': 220, 'send_replies': True, 'whitelist_status': 'all_ads', 'contest_mode': False, 'mod_reports': [], 'author_patreon_flair': False, 'author_flair_text_color': 'dark', 'permalink': '/r/medicine/comments/bbrrrm/medscape_physician_compensation_report_2019/', 'parent_whitelist_status': 'all_ads', 'stickied': False, 'url': 'https://www.medscape.com/slideshow/2019-compensation-overview-6011286?src=WNL_physrep_190410_comp2019&amp;uac=321190HV&amp;impID=1933285&amp;faf=1#29', 'subreddit_subscribers': 241148, 'created_utc': 1554932434.0, 'discussion_type': None, 'media': None, 'is_video': False}}, {'kind': 't3', 'data': {'approved_at_utc': None, 'subreddit': 'medicine', 'selftext': 'Apologies if this belongs in the Careers thread but searching the sub there have been similar threads previously so I figured this should be okay. \\n\\nBasically I’m looking at doing a PGY-6 year fellowship which is fairly laid back clinically (1-2 days of clinic/week) and I’m looking at options for robust correspondence masters programs in Biostats/Clinical Epidemiology. I’ve tried googling around but a lot of information about the programs is vague. The idea is to bolster my abilities in clinical research and statistical analysis. I would likely be able to do up to a month or two of course work in person, and I have both Canadian/American citizenship but I’m training in Canada, so something in North America would be ideal. \\n\\nWe do have a local program but I’ve heard mixed things about it and I figured if I’m going to shell out for something like this I should get a good experience. It’d also be nice to have something that I can easily complete part time and from afar if it ends up requiring more than a year, as I’ll likely be relocating after PGY6. \\n\\nAnyone have any experience with this?', 'author_fullname': 't2_d8x5f', 'saved': False, 'mod_reason_title': None, 'gilded': 0, 'clicked': False, 'title': 'Masters of Biostats/ClinEpi done mostly online?', 'link_flair_richtext': [], 'subreddit_name_prefixed': 'r/medicine', 'hidden': False, 'pwls': 6, 'link_flair_css_class': None, 'downs': 0, 'hide_score': False, 'name': 't3_bc0wfc', 'quarantine': False, 'link_flair_text_color': 'dark', 'author_flair_background_color': None, 'subreddit_type': 'public', 'ups': 8, 'total_awards_received': 0, 'media_embed': {}, 'author_flair_template_id': 'a8cf0dd4-4101-11e9-a972-0ed428fbb33e', 'is_original_content': False, 'user_reports': [], 'secure_media': None, 'is_reddit_media_domain': False, 'is_meta': False, 'category': None, 'secure_media_embed': {}, 'link_flair_text': None, 'can_mod_post': False, 'score': 8, 'approved_by': None, 'thumbnail': '', 'edited': False, 'author_flair_css_class': None, 'author_flair_richtext': [], 'gildings': {}, 'content_categories': None, 'is_self': True, 'mod_note': None, 'created': 1555023682.0, 'link_flair_type': 'text', 'wls': 6, 'banned_by': None, 'author_flair_type': 'text', 'domain': 'self.medicine', 'allow_live_comments': False, 'selftext_html': '&lt;!-- SC_OFF --&gt;&lt;div class=\"md\"&gt;&lt;p&gt;Apologies if this belongs in the Careers thread but searching the sub there have been similar threads previously so I figured this should be okay. &lt;/p&gt;\\n\\n&lt;p&gt;Basically I’m looking at doing a PGY-6 year fellowship which is fairly laid back clinically (1-2 days of clinic/week) and I’m looking at options for robust correspondence masters programs in Biostats/Clinical Epidemiology. I’ve tried googling around but a lot of information about the programs is vague. The idea is to bolster my abilities in clinical research and statistical analysis. I would likely be able to do up to a month or two of course work in person, and I have both Canadian/American citizenship but I’m training in Canada, so something in North America would be ideal. &lt;/p&gt;\\n\\n&lt;p&gt;We do have a local program but I’ve heard mixed things about it and I figured if I’m going to shell out for something like this I should get a good experience. It’d also be nice to have something that I can easily complete part time and from afar if it ends up requiring more than a year, as I’ll likely be relocating after PGY6. &lt;/p&gt;\\n\\n&lt;p&gt;Anyone have any experience with this?&lt;/p&gt;\\n&lt;/div&gt;&lt;!-- SC_ON --&gt;', 'likes': None, 'suggested_sort': None, 'banned_at_utc': None, 'view_count': None, 'archived': False, 'no_follow': False, 'is_crosspostable': False, 'pinned': False, 'over_18': False, 'all_awardings': [], 'media_only': False, 'can_gild': False, 'spoiler': False, 'locked': False, 'author_flair_text': 'MD - PGY-5 Pulmonology', 'visited': False, 'num_reports': None, 'distinguished': None, 'subreddit_id': 't5_2qhff', 'mod_reason_by': None, 'removal_reason': None, 'link_flair_background_color': '', 'id': 'bc0wfc', 'is_robot_indexable': True, 'report_reasons': None, 'author': 'aerathor', 'num_crossposts': 0, 'num_comments': 8, 'send_replies': True, 'whitelist_status': 'all_ads', 'contest_mode': False, 'mod_reports': [], 'author_patreon_flair': False, 'author_flair_text_color': 'dark', 'permalink': '/r/medicine/comments/bc0wfc/masters_of_biostatsclinepi_done_mostly_online/', 'parent_whitelist_status': 'all_ads', 'stickied': False, 'url': 'https://www.reddit.com/r/medicine/comments/bc0wfc/masters_of_biostatsclinepi_done_mostly_online/', 'subreddit_subscribers': 241148, 'created_utc': 1554994882.0, 'discussion_type': None, 'media': None, 'is_video': False}}, {'kind': 't3', 'data': {'approved_at_utc': None, 'subreddit': 'medicine', 'selftext': 'Hello, i recently found a ([Review of dietary supplements and how they are connected with renal health](https://cjasn.asnjournals.org/content/2/4/757)) and i had a discussion with a few colleagues of mine about the use of dietary and fitness supplements and their side effects on renal health and physiology.  Do you think that the use of supplements such as creatine, protein powder or multivitamins can affect the kidneys or liver of a healthy person ?', 'author_fullname': 't2_nk8r7', 'saved': False, 'mod_reason_title': None, 'gilded': 0, 'clicked': False, 'title': '[QUESTION] Supplements and kidney health', 'link_flair_richtext': [], 'subreddit_name_prefixed': 'r/medicine', 'hidden': False, 'pwls': 6, 'link_flair_css_class': None, 'downs': 0, 'hide_score': False, 'name': 't3_bc153b', 'quarantine': False, 'link_flair_text_color': 'dark', 'author_flair_background_color': None, 'subreddit_type': 'public', 'ups': 7, 'total_awards_received': 0, 'media_embed': {}, 'author_flair_template_id': 'b7553168-50a6-11e8-95d8-0e6fcedead42', 'is_original_content': False, 'user_reports': [], 'secure_media': None, 'is_reddit_media_domain': False, 'is_meta': False, 'category': None, 'secure_media_embed': {}, 'link_flair_text': None, 'can_mod_post': False, 'score': 7, 'approved_by': None, 'thumbnail': '', 'edited': False, 'author_flair_css_class': None, 'author_flair_richtext': [], 'gildings': {}, 'content_categories': None, 'is_self': True, 'mod_note': None, 'created': 1555024923.0, 'link_flair_type': 'text', 'wls': 6, 'banned_by': None, 'author_flair_type': 'text', 'domain': 'self.medicine', 'allow_live_comments': False, 'selftext_html': '&lt;!-- SC_OFF --&gt;&lt;div class=\"md\"&gt;&lt;p&gt;Hello, i recently found a (&lt;a href=\"https://cjasn.asnjournals.org/content/2/4/757\"&gt;Review of dietary supplements and how they are connected with renal health&lt;/a&gt;) and i had a discussion with a few colleagues of mine about the use of dietary and fitness supplements and their side effects on renal health and physiology.  Do you think that the use of supplements such as creatine, protein powder or multivitamins can affect the kidneys or liver of a healthy person ?&lt;/p&gt;\\n&lt;/div&gt;&lt;!-- SC_ON --&gt;', 'likes': None, 'suggested_sort': None, 'banned_at_utc': None, 'view_count': None, 'archived': False, 'no_follow': False, 'is_crosspostable': False, 'pinned': False, 'over_18': False, 'all_awardings': [], 'media_only': False, 'can_gild': False, 'spoiler': False, 'locked': False, 'author_flair_text': 'Medical Student', 'visited': False, 'num_reports': None, 'distinguished': None, 'subreddit_id': 't5_2qhff', 'mod_reason_by': None, 'removal_reason': None, 'link_flair_background_color': '', 'id': 'bc153b', 'is_robot_indexable': True, 'report_reasons': None, 'author': 'Thxnos', 'num_crossposts': 0, 'num_comments': 14, 'send_replies': True, 'whitelist_status': 'all_ads', 'contest_mode': False, 'mod_reports': [], 'author_patreon_flair': False, 'author_flair_text_color': 'dark', 'permalink': '/r/medicine/comments/bc153b/question_supplements_and_kidney_health/', 'parent_whitelist_status': 'all_ads', 'stickied': False, 'url': 'https://www.reddit.com/r/medicine/comments/bc153b/question_supplements_and_kidney_health/', 'subreddit_subscribers': 241148, 'created_utc': 1554996123.0, 'discussion_type': None, 'media': None, 'is_video': False}}, {'kind': 't3', 'data': {'approved_at_utc': None, 'subreddit': 'medicine', 'selftext': '', 'author_fullname': 't2_l96t4', 'saved': False, 'mod_reason_title': None, 'gilded': 0, 'clicked': False, 'title': 'German doctors walk off job in nationwide strike', 'link_flair_richtext': [], 'subreddit_name_prefixed': 'r/medicine', 'hidden': False, 'pwls': 6, 'link_flair_css_class': None, 'downs': 0, 'hide_score': False, 'name': 't3_bbkg1w', 'quarantine': False, 'link_flair_text_color': 'dark', 'author_flair_background_color': None, 'subreddit_type': 'public', 'ups': 745, 'total_awards_received': 0, 'media_embed': {}, 'author_flair_template_id': 'a8cf0dd4-4101-11e9-a972-0ed428fbb33e', 'is_original_content': False, 'user_reports': [], 'secure_media': None, 'is_reddit_media_domain': False, 'is_meta': False, 'category': None, 'secure_media_embed': {}, 'link_flair_text': None, 'can_mod_post': False, 'score': 745, 'approved_by': None, 'thumbnail': '', 'edited': False, 'author_flair_css_class': None, 'author_flair_richtext': [], 'gildings': {}, 'content_categories': None, 'is_self': False, 'mod_note': None, 'created': 1554921231.0, 'link_flair_type': 'text', 'wls': 6, 'banned_by': None, 'author_flair_type': 'text', 'domain': 'thelocal.de', 'allow_live_comments': True, 'selftext_html': None, 'likes': None, 'suggested_sort': None, 'banned_at_utc': None, 'view_count': None, 'archived': False, 'no_follow': False, 'is_crosspostable': False, 'pinned': False, 'over_18': False, 'all_awardings': [], 'media_only': False, 'can_gild': False, 'spoiler': False, 'locked': False, 'author_flair_text': 'Medical Student (Y5-EU)', 'visited': False, 'num_reports': None, 'distinguished': None, 'subreddit_id': 't5_2qhff', 'mod_reason_by': None, 'removal_reason': None, 'link_flair_background_color': '', 'id': 'bbkg1w', 'is_robot_indexable': True, 'report_reasons': None, 'author': 'Nom_de_Guerre_23', 'num_crossposts': 1, 'num_comments': 290, 'send_replies': True, 'whitelist_status': 'all_ads', 'contest_mode': False, 'mod_reports': [], 'author_patreon_flair': False, 'author_flair_text_color': 'dark', 'permalink': '/r/medicine/comments/bbkg1w/german_doctors_walk_off_job_in_nationwide_strike/', 'parent_whitelist_status': 'all_ads', 'stickied': False, 'url': 'https://www.thelocal.de/20190410/wednesdays-doctor-strike', 'subreddit_subscribers': 241148, 'created_utc': 1554892431.0, 'discussion_type': None, 'media': None, 'is_video': False}}, {'kind': 't3', 'data': {'approved_at_utc': None, 'subreddit': 'medicine', 'selftext': '', 'author_fullname': 't2_89ae6', 'saved': False, 'mod_reason_title': None, 'gilded': 0, 'clicked': False, 'title': 'Chlorhexidine versus routine bathing to prevent multidrug-resistant organisms and all-cause bloodstream infections in general medical and surgical units (ABATE Infection trial): a cluster-randomised trial', 'link_flair_richtext': [], 'subreddit_name_prefixed': 'r/medicine', 'hidden': False, 'pwls': 6, 'link_flair_css_class': None, 'downs': 0, 'hide_score': False, 'name': 't3_bbpu4o', 'quarantine': False, 'link_flair_text_color': 'dark', 'author_flair_background_color': None, 'subreddit_type': 'public', 'ups': 84, 'total_awards_received': 0, 'media_embed': {}, 'author_flair_template_id': 'a8cf0dd4-4101-11e9-a972-0ed428fbb33e', 'is_original_content': False, 'user_reports': [], 'secure_media': None, 'is_reddit_media_domain': False, 'is_meta': False, 'category': None, 'secure_media_embed': {}, 'link_flair_text': None, 'can_mod_post': False, 'score': 84, 'approved_by': None, 'thumbnail': '', 'edited': False, 'author_flair_css_class': None, 'author_flair_richtext': [], 'gildings': {}, 'content_categories': None, 'is_self': False, 'mod_note': None, 'created': 1554951327.0, 'link_flair_type': 'text', 'wls': 6, 'banned_by': None, 'author_flair_type': 'text', 'domain': 'thelancet.com', 'allow_live_comments': False, 'selftext_html': None, 'likes': None, 'suggested_sort': None, 'banned_at_utc': None, 'view_count': None, 'archived': False, 'no_follow': False, 'is_crosspostable': False, 'pinned': False, 'over_18': False, 'all_awardings': [], 'media_only': False, 'can_gild': False, 'spoiler': False, 'locked': False, 'author_flair_text': 'RN, ICU', 'visited': False, 'num_reports': None, 'distinguished': None, 'subreddit_id': 't5_2qhff', 'mod_reason_by': None, 'removal_reason': None, 'link_flair_background_color': '', 'id': 'bbpu4o', 'is_robot_indexable': True, 'report_reasons': None, 'author': 'seamslegit', 'num_crossposts': 0, 'num_comments': 25, 'send_replies': True, 'whitelist_status': 'all_ads', 'contest_mode': False, 'mod_reports': [], 'author_patreon_flair': False, 'author_flair_text_color': 'dark', 'permalink': '/r/medicine/comments/bbpu4o/chlorhexidine_versus_routine_bathing_to_prevent/', 'parent_whitelist_status': 'all_ads', 'stickied': False, 'url': 'https://www.thelancet.com/journals/lancet/article/PIIS0140-6736(18)32593-5/fulltext', 'subreddit_subscribers': 241148, 'created_utc': 1554922527.0, 'discussion_type': None, 'media': None, 'is_video': False}}, {'kind': 't3', 'data': {'approved_at_utc': None, 'subreddit': 'medicine', 'selftext': 'Are clinics that advertise they accept new Medicare/Medicaid patients allowed to review charts of patients and then choose which patients to accept or not?\\n\\nI work in a small rural clinic that sees nothing but patients on my state\\'s Medicaid program. Once they turn 65 and are eligible for Medicare, they \"age out\" of our clinic and have to be seen somewhere else.\\n\\nThe problem is that there are only 2 other clinics in town (both significantly larger than mine with many mid-levels, one of which is the FM clinic in the local hospital) that take Medicare patients.  Both of these clinics are requesting records so that they may review them first, and if there is any sign of difficulty or complexity, are refusing to see them.\\n\\nIn the past, it was usually stuff like people on chronic pain meds.  These days it is anything that looks complicated.\\n\\n\\nI have a patient who is about to age out of my clinic with a history of stroke and mental illness that may be secondary to the stroke. She is not on pain meds, she has never missed an appointment, but she is a little cooky and minimally abrasive.  I literally cannot get anybody in town to see her because she has all sorts of issues.  She is a demanding patient that takes up lots of time.\\n\\n\\nI have been told that the clinics only want quick and easy patients who will nicely fit into infrequent 15-20 minutes scheduled appointments.  \\n\\n\\nSo my question is, is this legal?\\nCan clinics that advertise that they are accepting new Medicare/Medicaid pick and choose patients and refuse ones based on difficulty disability?\\n\\nAnd if not, what are the steps I can use to help these patients out?', 'author_fullname': 't2_fc6rb', 'saved': False, 'mod_reason_title': None, 'gilded': 0, 'clicked': False, 'title': 'Discrimination when taking new Medicare/Medicaid patients. Looking for help and advise here.', 'link_flair_richtext': [], 'subreddit_name_prefixed': 'r/medicine', 'hidden': False, 'pwls': 6, 'link_flair_css_class': None, 'downs': 0, 'hide_score': False, 'name': 't3_bbowqv', 'quarantine': False, 'link_flair_text_color': 'dark', 'author_flair_background_color': None, 'subreddit_type': 'public', 'ups': 39, 'total_awards_received': 0, 'media_embed': {}, 'author_flair_template_id': 'abb8514c-4d76-11e8-bbf5-0ec706991ea4', 'is_original_content': False, 'user_reports': [], 'secure_media': None, 'is_reddit_media_domain': False, 'is_meta': False, 'category': None, 'secure_media_embed': {}, 'link_flair_text': None, 'can_mod_post': False, 'score': 39, 'approved_by': None, 'thumbnail': '', 'edited': False, 'author_flair_css_class': None, 'author_flair_richtext': [], 'gildings': {}, 'content_categories': None, 'is_self': True, 'mod_note': None, 'created': 1554946764.0, 'link_flair_type': 'text', 'wls': 6, 'banned_by': None, 'author_flair_type': 'text', 'domain': 'self.medicine', 'allow_live_comments': False, 'selftext_html': '&lt;!-- SC_OFF --&gt;&lt;div class=\"md\"&gt;&lt;p&gt;Are clinics that advertise they accept new Medicare/Medicaid patients allowed to review charts of patients and then choose which patients to accept or not?&lt;/p&gt;\\n\\n&lt;p&gt;I work in a small rural clinic that sees nothing but patients on my state&amp;#39;s Medicaid program. Once they turn 65 and are eligible for Medicare, they &amp;quot;age out&amp;quot; of our clinic and have to be seen somewhere else.&lt;/p&gt;\\n\\n&lt;p&gt;The problem is that there are only 2 other clinics in town (both significantly larger than mine with many mid-levels, one of which is the FM clinic in the local hospital) that take Medicare patients.  Both of these clinics are requesting records so that they may review them first, and if there is any sign of difficulty or complexity, are refusing to see them.&lt;/p&gt;\\n\\n&lt;p&gt;In the past, it was usually stuff like people on chronic pain meds.  These days it is anything that looks complicated.&lt;/p&gt;\\n\\n&lt;p&gt;I have a patient who is about to age out of my clinic with a history of stroke and mental illness that may be secondary to the stroke. She is not on pain meds, she has never missed an appointment, but she is a little cooky and minimally abrasive.  I literally cannot get anybody in town to see her because she has all sorts of issues.  She is a demanding patient that takes up lots of time.&lt;/p&gt;\\n\\n&lt;p&gt;I have been told that the clinics only want quick and easy patients who will nicely fit into infrequent 15-20 minutes scheduled appointments.  &lt;/p&gt;\\n\\n&lt;p&gt;So my question is, is this legal?\\nCan clinics that advertise that they are accepting new Medicare/Medicaid pick and choose patients and refuse ones based on difficulty disability?&lt;/p&gt;\\n\\n&lt;p&gt;And if not, what are the steps I can use to help these patients out?&lt;/p&gt;\\n&lt;/div&gt;&lt;!-- SC_ON --&gt;', 'likes': None, 'suggested_sort': None, 'banned_at_utc': None, 'view_count': None, 'archived': False, 'no_follow': False, 'is_crosspostable': False, 'pinned': False, 'over_18': False, 'all_awardings': [], 'media_only': False, 'can_gild': False, 'spoiler': False, 'locked': False, 'author_flair_text': 'PA-C', 'visited': False, 'num_reports': None, 'distinguished': None, 'subreddit_id': 't5_2qhff', 'mod_reason_by': None, 'removal_reason': None, 'link_flair_background_color': '', 'id': 'bbowqv', 'is_robot_indexable': True, 'report_reasons': None, 'author': '68W2PA', 'num_crossposts': 0, 'num_comments': 21, 'send_replies': True, 'whitelist_status': 'all_ads', 'contest_mode': False, 'mod_reports': [], 'author_patreon_flair': False, 'author_flair_text_color': 'dark', 'permalink': '/r/medicine/comments/bbowqv/discrimination_when_taking_new_medicaremedicaid/', 'parent_whitelist_status': 'all_ads', 'stickied': False, 'url': 'https://www.reddit.com/r/medicine/comments/bbowqv/discrimination_when_taking_new_medicaremedicaid/', 'subreddit_subscribers': 241148, 'created_utc': 1554917964.0, 'discussion_type': None, 'media': None, 'is_video': False}}, {'kind': 't3', 'data': {'approved_at_utc': None, 'subreddit': 'medicine', 'selftext': '', 'author_fullname': 't2_mwvx9', 'saved': False, 'mod_reason_title': None, 'gilded': 0, 'clicked': False, 'title': 'What’s the diagnosis? Seen in rural Swaziland, Africa', 'link_flair_richtext': [], 'subreddit_name_prefixed': 'r/medicine', 'hidden': False, 'pwls': 6, 'link_flair_css_class': None, 'downs': 0, 'hide_score': False, 'name': 't3_bbndl5', 'quarantine': False, 'link_flair_text_color': 'dark', 'author_flair_background_color': None, 'subreddit_type': 'public', 'ups': 45, 'total_awards_received': 0, 'media_embed': {}, 'author_flair_template_id': 'b7553168-50a6-11e8-95d8-0e6fcedead42', 'is_original_content': False, 'user_reports': [], 'secure_media': None, 'is_reddit_media_domain': True, 'is_meta': False, 'category': None, 'secure_media_embed': {}, 'link_flair_text': None, 'can_mod_post': False, 'score': 45, 'approved_by': None, 'thumbnail': '', 'edited': False, 'author_flair_css_class': None, 'author_flair_richtext': [], 'gildings': {}, 'content_categories': None, 'is_self': False, 'mod_note': None, 'created': 1554939092.0, 'link_flair_type': 'text', 'wls': 6, 'banned_by': None, 'author_flair_type': 'text', 'domain': 'i.redd.it', 'allow_live_comments': True, 'selftext_html': None, 'likes': None, 'suggested_sort': None, 'banned_at_utc': None, 'view_count': None, 'archived': False, 'no_follow': False, 'is_crosspostable': False, 'pinned': False, 'over_18': False, 'all_awardings': [], 'media_only': False, 'can_gild': False, 'spoiler': False, 'locked': False, 'author_flair_text': 'Medical Student', 'visited': False, 'num_reports': None, 'distinguished': None, 'subreddit_id': 't5_2qhff', 'mod_reason_by': None, 'removal_reason': None, 'link_flair_background_color': '', 'id': 'bbndl5', 'is_robot_indexable': True, 'report_reasons': None, 'author': 'svakee2000', 'num_crossposts': 0, 'num_comments': 26, 'send_replies': True, 'whitelist_status': 'all_ads', 'contest_mode': False, 'mod_reports': [], 'author_patreon_flair': False, 'author_flair_text_color': 'dark', 'permalink': '/r/medicine/comments/bbndl5/whats_the_diagnosis_seen_in_rural_swaziland_africa/', 'parent_whitelist_status': 'all_ads', 'stickied': False, 'url': 'https://i.redd.it/6ls4vgm2hgr21.jpg', 'subreddit_subscribers': 241148, 'created_utc': 1554910292.0, 'discussion_type': None, 'media': None, 'is_video': False}}, {'kind': 't3', 'data': {'approved_at_utc': None, 'subreddit': 'medicine', 'selftext': '', 'author_fullname': 't2_4aack', 'saved': False, 'mod_reason_title': None, 'gilded': 0, 'clicked': False, 'title': 'Toilet seat monitors heart failure', 'link_flair_richtext': [], 'subreddit_name_prefixed': 'r/medicine', 'hidden': False, 'pwls': 6, 'link_flair_css_class': None, 'downs': 0, 'hide_score': False, 'name': 't3_bbujir', 'quarantine': False, 'link_flair_text_color': 'dark', 'author_flair_background_color': '', 'subreddit_type': 'public', 'ups': 6, 'total_awards_received': 0, 'media_embed': {}, 'author_flair_template_id': None, 'is_original_content': False, 'user_reports': [], 'secure_media': None, 'is_reddit_media_domain': False, 'is_meta': False, 'category': None, 'secure_media_embed': {}, 'link_flair_text': None, 'can_mod_post': False, 'score': 6, 'approved_by': None, 'thumbnail': '', 'edited': False, 'author_flair_css_class': '', 'author_flair_richtext': [], 'gildings': {}, 'content_categories': None, 'is_self': False, 'mod_note': None, 'created': 1554976898.0, 'link_flair_type': 'text', 'wls': 6, 'banned_by': None, 'author_flair_type': 'text', 'domain': 'democratandchronicle.com', 'allow_live_comments': False, 'selftext_html': None, 'likes': None, 'suggested_sort': None, 'banned_at_utc': None, 'view_count': None, 'archived': False, 'no_follow': False, 'is_crosspostable': False, 'pinned': False, 'over_18': False, 'all_awardings': [], 'media_only': False, 'can_gild': False, 'spoiler': False, 'locked': False, 'author_flair_text': 'CT surgery', 'visited': False, 'num_reports': None, 'distinguished': None, 'subreddit_id': 't5_2qhff', 'mod_reason_by': None, 'removal_reason': None, 'link_flair_background_color': '', 'id': 'bbujir', 'is_robot_indexable': True, 'report_reasons': None, 'author': 'drshooter', 'num_crossposts': 0, 'num_comments': 9, 'send_replies': True, 'whitelist_status': 'all_ads', 'contest_mode': False, 'mod_reports': [], 'author_patreon_flair': False, 'author_flair_text_color': 'dark', 'permalink': '/r/medicine/comments/bbujir/toilet_seat_monitors_heart_failure/', 'parent_whitelist_status': 'all_ads', 'stickied': False, 'url': 'https://www.democratandchronicle.com/story/news/2019/04/09/toilet-seat-heart-failure-rit-nicholas-conn-health-intelligence-karl-schwarz-urmc/3231992002/?fbclid=IwAR3RMQMr095HXOivnmd9OWvrC1sWToQCv5coqqwPEkwQiXRPxv8WsxcOoXI', 'subreddit_subscribers': 241148, 'created_utc': 1554948098.0, 'discussion_type': None, 'media': None, 'is_video': False}}], 'after': 't3_bbujir', 'before': None}\n"
     ]
    }
   ],
   "source": [
    "# investigate what's associated with a particular key: (ex:  ['data', 'kind'] )\n",
    "print('json key: kind -  \\n', the_json['kind'])\n",
    "print('json key: data -  \\n', the_json['data'])\n"
   ]
  },
  {
   "cell_type": "code",
   "execution_count": 132,
   "metadata": {},
   "outputs": [
    {
     "name": "stdout",
     "output_type": "stream",
     "text": [
      "json key: children -  \n",
      " [{'kind': 't3', 'data': {'approved_at_utc': None, 'subreddit': 'medicine', 'selftext': 'Just curious if anyone here has a story where they had to open a patient up so emergently they couldn’t wait to transport them to the OR. If so, what was the indication? What was the outcome?', 'author_fullname': 't2_f51q0', 'saved': False, 'mod_reason_title': None, 'gilded': 0, 'clicked': False, 'title': 'Any surgeons here ever have to open a patient at the bedside?', 'link_flair_richtext': [], 'subreddit_name_prefixed': 'r/medicine', 'hidden': False, 'pwls': 6, 'link_flair_css_class': None, 'downs': 0, 'hide_score': False, 'name': 't3_bcux79', 'quarantine': False, 'link_flair_text_color': 'dark', 'author_flair_background_color': '', 'subreddit_type': 'public', 'ups': 369, 'total_awards_received': 0, 'media_embed': {}, 'author_flair_template_id': None, 'is_original_content': False, 'user_reports': [], 'secure_media': None, 'is_reddit_media_domain': False, 'is_meta': False, 'category': None, 'secure_media_embed': {}, 'link_flair_text': None, 'can_mod_post': False, 'score': 369, 'approved_by': None, 'thumbnail': '', 'edited': False, 'author_flair_css_class': '', 'author_flair_richtext': [], 'gildings': {}, 'content_categories': None, 'is_self': True, 'mod_note': None, 'created': 1555216425.0, 'link_flair_type': 'text', 'wls': 6, 'banned_by': None, 'author_flair_type': 'text', 'domain': 'self.medicine', 'allow_live_comments': True, 'selftext_html': '&lt;!-- SC_OFF --&gt;&lt;div class=\"md\"&gt;&lt;p&gt;Just curious if anyone here has a story where they had to open a patient up so emergently they couldn’t wait to transport them to the OR. If so, what was the indication? What was the outcome?&lt;/p&gt;\\n&lt;/div&gt;&lt;!-- SC_ON --&gt;', 'likes': None, 'suggested_sort': None, 'banned_at_utc': None, 'view_count': None, 'archived': False, 'no_follow': False, 'is_crosspostable': False, 'pinned': False, 'over_18': False, 'all_awardings': [], 'media_only': False, 'can_gild': False, 'spoiler': False, 'locked': False, 'author_flair_text': 'Urology resident', 'visited': False, 'num_reports': None, 'distinguished': None, 'subreddit_id': 't5_2qhff', 'mod_reason_by': None, 'removal_reason': None, 'link_flair_background_color': '', 'id': 'bcux79', 'is_robot_indexable': True, 'report_reasons': None, 'author': 'urores', 'num_crossposts': 0, 'num_comments': 417, 'send_replies': True, 'whitelist_status': 'all_ads', 'contest_mode': False, 'mod_reports': [], 'author_patreon_flair': False, 'author_flair_text_color': 'dark', 'permalink': '/r/medicine/comments/bcux79/any_surgeons_here_ever_have_to_open_a_patient_at/', 'parent_whitelist_status': 'all_ads', 'stickied': False, 'url': 'https://www.reddit.com/r/medicine/comments/bcux79/any_surgeons_here_ever_have_to_open_a_patient_at/', 'subreddit_subscribers': 241148, 'created_utc': 1555187625.0, 'discussion_type': None, 'media': None, 'is_video': False}}, {'kind': 't3', 'data': {'approved_at_utc': None, 'subreddit': 'medicine', 'selftext': '', 'author_fullname': 't2_tn9vg', 'saved': False, 'mod_reason_title': None, 'gilded': 0, 'clicked': False, 'title': 'CDC: Kratom causes more deaths than previously reported', 'link_flair_richtext': [], 'subreddit_name_prefixed': 'r/medicine', 'hidden': False, 'pwls': 6, 'link_flair_css_class': None, 'downs': 0, 'hide_score': False, 'name': 't3_bd4rs8', 'quarantine': False, 'link_flair_text_color': 'dark', 'author_flair_background_color': None, 'subreddit_type': 'public', 'ups': 9, 'total_awards_received': 0, 'media_embed': {}, 'author_flair_template_id': 'abb8514c-4d76-11e8-bbf5-0ec706991ea4', 'is_original_content': False, 'user_reports': [], 'secure_media': None, 'is_reddit_media_domain': False, 'is_meta': False, 'category': None, 'secure_media_embed': {}, 'link_flair_text': None, 'can_mod_post': False, 'score': 9, 'approved_by': None, 'thumbnail': '', 'edited': False, 'author_flair_css_class': None, 'author_flair_richtext': [], 'gildings': {}, 'content_categories': None, 'is_self': False, 'mod_note': None, 'created': 1555289641.0, 'link_flair_type': 'text', 'wls': 6, 'banned_by': None, 'author_flair_type': 'text', 'domain': 'wkbw.com', 'allow_live_comments': True, 'selftext_html': None, 'likes': None, 'suggested_sort': None, 'banned_at_utc': None, 'view_count': None, 'archived': False, 'no_follow': False, 'is_crosspostable': False, 'pinned': False, 'over_18': False, 'all_awardings': [], 'media_only': False, 'can_gild': False, 'spoiler': False, 'locked': False, 'author_flair_text': 'MPH--&gt;MS3', 'visited': False, 'num_reports': None, 'distinguished': None, 'subreddit_id': 't5_2qhff', 'mod_reason_by': None, 'removal_reason': None, 'link_flair_background_color': '', 'id': 'bd4rs8', 'is_robot_indexable': True, 'report_reasons': None, 'author': 'attitudegratitude', 'num_crossposts': 0, 'num_comments': 91, 'send_replies': False, 'whitelist_status': 'all_ads', 'contest_mode': False, 'mod_reports': [], 'author_patreon_flair': False, 'author_flair_text_color': 'dark', 'permalink': '/r/medicine/comments/bd4rs8/cdc_kratom_causes_more_deaths_than_previously/', 'parent_whitelist_status': 'all_ads', 'stickied': False, 'url': 'https://www.wkbw.com/news/national/more-deaths-have-been-associated-with-kratom-than-previously-known-cdc-study-finds', 'subreddit_subscribers': 241148, 'created_utc': 1555260841.0, 'discussion_type': None, 'media': None, 'is_video': False}}, {'kind': 't3', 'data': {'approved_at_utc': None, 'subreddit': 'medicine', 'selftext': 'FM working in ER part-time.  I am having difficulty finding good resources and videos to discuss technique.  Anyone want to run through how they do it quick and dirty?  Suture type?  Keep nail in or splint?', 'author_fullname': 't2_jh9y', 'saved': False, 'mod_reason_title': None, 'gilded': 0, 'clicked': False, 'title': 'Nailbed laceration repair help:', 'link_flair_richtext': [], 'subreddit_name_prefixed': 'r/medicine', 'hidden': False, 'pwls': 6, 'link_flair_css_class': None, 'downs': 0, 'hide_score': False, 'name': 't3_bcw8ar', 'quarantine': False, 'link_flair_text_color': 'dark', 'author_flair_background_color': None, 'subreddit_type': 'public', 'ups': 28, 'total_awards_received': 0, 'media_embed': {}, 'author_flair_template_id': 'abb8514c-4d76-11e8-bbf5-0ec706991ea4', 'is_original_content': False, 'user_reports': [], 'secure_media': None, 'is_reddit_media_domain': False, 'is_meta': False, 'category': None, 'secure_media_embed': {}, 'link_flair_text': None, 'can_mod_post': False, 'score': 28, 'approved_by': None, 'thumbnail': '', 'edited': False, 'author_flair_css_class': None, 'author_flair_richtext': [], 'gildings': {}, 'content_categories': None, 'is_self': True, 'mod_note': None, 'created': 1555224173.0, 'link_flair_type': 'text', 'wls': 6, 'banned_by': None, 'author_flair_type': 'text', 'domain': 'self.medicine', 'allow_live_comments': False, 'selftext_html': '&lt;!-- SC_OFF --&gt;&lt;div class=\"md\"&gt;&lt;p&gt;FM working in ER part-time.  I am having difficulty finding good resources and videos to discuss technique.  Anyone want to run through how they do it quick and dirty?  Suture type?  Keep nail in or splint?&lt;/p&gt;\\n&lt;/div&gt;&lt;!-- SC_ON --&gt;', 'likes': None, 'suggested_sort': None, 'banned_at_utc': None, 'view_count': None, 'archived': False, 'no_follow': False, 'is_crosspostable': False, 'pinned': False, 'over_18': False, 'all_awardings': [], 'media_only': False, 'can_gild': False, 'spoiler': False, 'locked': False, 'author_flair_text': 'MD EM/FM', 'visited': False, 'num_reports': None, 'distinguished': None, 'subreddit_id': 't5_2qhff', 'mod_reason_by': None, 'removal_reason': None, 'link_flair_background_color': '', 'id': 'bcw8ar', 'is_robot_indexable': True, 'report_reasons': None, 'author': 'Maveric1984', 'num_crossposts': 0, 'num_comments': 23, 'send_replies': True, 'whitelist_status': 'all_ads', 'contest_mode': False, 'mod_reports': [], 'author_patreon_flair': False, 'author_flair_text_color': 'dark', 'permalink': '/r/medicine/comments/bcw8ar/nailbed_laceration_repair_help/', 'parent_whitelist_status': 'all_ads', 'stickied': False, 'url': 'https://www.reddit.com/r/medicine/comments/bcw8ar/nailbed_laceration_repair_help/', 'subreddit_subscribers': 241148, 'created_utc': 1555195373.0, 'discussion_type': None, 'media': None, 'is_video': False}}, {'kind': 't3', 'data': {'approved_at_utc': None, 'subreddit': 'medicine', 'selftext': \"Adding more items and being in bigger rooms makes the staff feel more important and perform better. Constant shrieks for two surgeons in the operating theater. Trash and vomit. An unending series of overhead pages. It's more accurate than it should be. It's very stressful. If only there were a slow-down button in real life. The main differences are the large freestanding video game consoles in the staff room, the nurses and handymen sharing the staff room with the doctors, and the inability of real life to crash when a surgeon tries to enter an operating room he is already operating in.\", 'author_fullname': 't2_1h620v2p', 'saved': False, 'mod_reason_title': None, 'gilded': 0, 'clicked': False, 'title': \"I've been on vacation so I'm prepping myself in the most authentic way possible: Playing Theme Hospital\", 'link_flair_richtext': [], 'subreddit_name_prefixed': 'r/medicine', 'hidden': False, 'pwls': 6, 'link_flair_css_class': None, 'downs': 0, 'hide_score': False, 'name': 't3_bcvgsg', 'quarantine': False, 'link_flair_text_color': 'dark', 'author_flair_background_color': None, 'subreddit_type': 'public', 'ups': 29, 'total_awards_received': 0, 'media_embed': {}, 'author_flair_template_id': 'abb8514c-4d76-11e8-bbf5-0ec706991ea4', 'is_original_content': False, 'user_reports': [], 'secure_media': None, 'is_reddit_media_domain': False, 'is_meta': False, 'category': None, 'secure_media_embed': {}, 'link_flair_text': None, 'can_mod_post': False, 'score': 29, 'approved_by': None, 'thumbnail': '', 'edited': False, 'author_flair_css_class': None, 'author_flair_richtext': [], 'gildings': {}, 'content_categories': None, 'is_self': True, 'mod_note': None, 'created': 1555219550.0, 'link_flair_type': 'text', 'wls': 6, 'banned_by': None, 'author_flair_type': 'text', 'domain': 'self.medicine', 'allow_live_comments': False, 'selftext_html': '&lt;!-- SC_OFF --&gt;&lt;div class=\"md\"&gt;&lt;p&gt;Adding more items and being in bigger rooms makes the staff feel more important and perform better. Constant shrieks for two surgeons in the operating theater. Trash and vomit. An unending series of overhead pages. It&amp;#39;s more accurate than it should be. It&amp;#39;s very stressful. If only there were a slow-down button in real life. The main differences are the large freestanding video game consoles in the staff room, the nurses and handymen sharing the staff room with the doctors, and the inability of real life to crash when a surgeon tries to enter an operating room he is already operating in.&lt;/p&gt;\\n&lt;/div&gt;&lt;!-- SC_ON --&gt;', 'likes': None, 'suggested_sort': None, 'banned_at_utc': None, 'view_count': None, 'archived': False, 'no_follow': False, 'is_crosspostable': False, 'pinned': False, 'over_18': False, 'all_awardings': [], 'media_only': False, 'can_gild': False, 'spoiler': False, 'locked': False, 'author_flair_text': 'PGY-1', 'visited': False, 'num_reports': None, 'distinguished': None, 'subreddit_id': 't5_2qhff', 'mod_reason_by': None, 'removal_reason': None, 'link_flair_background_color': '', 'id': 'bcvgsg', 'is_robot_indexable': True, 'report_reasons': None, 'author': 'rumplepilskin', 'num_crossposts': 0, 'num_comments': 9, 'send_replies': True, 'whitelist_status': 'all_ads', 'contest_mode': False, 'mod_reports': [], 'author_patreon_flair': False, 'author_flair_text_color': 'dark', 'permalink': '/r/medicine/comments/bcvgsg/ive_been_on_vacation_so_im_prepping_myself_in_the/', 'parent_whitelist_status': 'all_ads', 'stickied': False, 'url': 'https://www.reddit.com/r/medicine/comments/bcvgsg/ive_been_on_vacation_so_im_prepping_myself_in_the/', 'subreddit_subscribers': 241148, 'created_utc': 1555190750.0, 'discussion_type': None, 'media': None, 'is_video': False}}, {'kind': 't3', 'data': {'approved_at_utc': None, 'subreddit': 'medicine', 'selftext': \"Lots of skeptical doctors were saying that it'd cause a lot of hypochondriacs and false positives to overwhelm the system. Did this actually happen? Personally I read the documentation that Apple released about how the ECG and the irregular heart rhythm notifications worked, so I predicted it wouldn't happen. Curious to get everyone's take though.\\n\\nhttps://www.apple.com/healthcare/site/docs/Apple_Watch_Arrhythmia_Detection.pdf\\n\\n&gt; The ECG app waveform is similar to a Lead I ECG, which can enable classification of atrial fibrillation and sinus rhythm, but cannot identify other conditions, like heart attacks.\\n&gt; \\n&gt; After taking an ECG reading, the ECG app will check for sinus rhythm or AFib. If the heart rate is under 50 bpm or over 120 bpm, the app is unable to check for AFib, but will note the heart rate and save the ECG recording. The ECG app may provide an inconclusive result if, for example, there is poor signal due to motion artifacts or poor electrode contact, the heart rate is between 100 and 120 bpm, or for other reasons such as presence of arrhythmias other than AFib, presence of an ICD or pacemaker, or poor electrical signal in the recording which can occur as a result of right axis deviation.\\n&gt; \\n&gt; In a clinical study, the rhythm classification by the ECG app of a single lead ECG on Apple Watch was compared to the rhythm classification by a cardiologist of a simultaneously collected 12-lead ECG. The ECG app demonstrated 99.6% specificity in classifying sinus rhythm and 98.3% sensitivity in classifying AFib for the classifiable results. In this study, 12.2% of recordings were not classifiable.\\n\\nEDIT: After 20 hours of this post, there are still no comments from anyone suggesting the Series 4 ECG is causing a surge in false positives or the worried well taxing the system. No doubt the press would have been on this story in a heartbeat if this was actually happening as well. I think that answers my question.\", 'author_fullname': 't2_d4vr6', 'saved': False, 'mod_reason_title': None, 'gilded': 0, 'clicked': False, 'title': \"It's been 6 months since the Apple Watch Series 4 with ECG was released, has the predicted false positive armageddon happened yet?\", 'link_flair_richtext': [], 'subreddit_name_prefixed': 'r/medicine', 'hidden': False, 'pwls': 6, 'link_flair_css_class': None, 'downs': 0, 'hide_score': False, 'name': 't3_bd5t6y', 'quarantine': False, 'link_flair_text_color': 'dark', 'author_flair_background_color': None, 'subreddit_type': 'public', 'ups': 0, 'total_awards_received': 0, 'media_embed': {}, 'author_flair_template_id': 'c8abce90-50a6-11e8-8202-0ed444f62a38', 'is_original_content': False, 'user_reports': [], 'secure_media': None, 'is_reddit_media_domain': False, 'is_meta': False, 'category': None, 'secure_media_embed': {}, 'link_flair_text': None, 'can_mod_post': False, 'score': 0, 'approved_by': None, 'thumbnail': '', 'edited': 1555341518.0, 'author_flair_css_class': None, 'author_flair_richtext': [], 'gildings': {}, 'content_categories': None, 'is_self': True, 'mod_note': None, 'created': 1555295318.0, 'link_flair_type': 'text', 'wls': 6, 'banned_by': None, 'author_flair_type': 'text', 'domain': 'self.medicine', 'allow_live_comments': False, 'selftext_html': '&lt;!-- SC_OFF --&gt;&lt;div class=\"md\"&gt;&lt;p&gt;Lots of skeptical doctors were saying that it&amp;#39;d cause a lot of hypochondriacs and false positives to overwhelm the system. Did this actually happen? Personally I read the documentation that Apple released about how the ECG and the irregular heart rhythm notifications worked, so I predicted it wouldn&amp;#39;t happen. Curious to get everyone&amp;#39;s take though.&lt;/p&gt;\\n\\n&lt;p&gt;&lt;a href=\"https://www.apple.com/healthcare/site/docs/Apple_Watch_Arrhythmia_Detection.pdf\"&gt;https://www.apple.com/healthcare/site/docs/Apple_Watch_Arrhythmia_Detection.pdf&lt;/a&gt;&lt;/p&gt;\\n\\n&lt;blockquote&gt;\\n&lt;p&gt;The ECG app waveform is similar to a Lead I ECG, which can enable classification of atrial fibrillation and sinus rhythm, but cannot identify other conditions, like heart attacks.&lt;/p&gt;\\n\\n&lt;p&gt;After taking an ECG reading, the ECG app will check for sinus rhythm or AFib. If the heart rate is under 50 bpm or over 120 bpm, the app is unable to check for AFib, but will note the heart rate and save the ECG recording. The ECG app may provide an inconclusive result if, for example, there is poor signal due to motion artifacts or poor electrode contact, the heart rate is between 100 and 120 bpm, or for other reasons such as presence of arrhythmias other than AFib, presence of an ICD or pacemaker, or poor electrical signal in the recording which can occur as a result of right axis deviation.&lt;/p&gt;\\n\\n&lt;p&gt;In a clinical study, the rhythm classification by the ECG app of a single lead ECG on Apple Watch was compared to the rhythm classification by a cardiologist of a simultaneously collected 12-lead ECG. The ECG app demonstrated 99.6% specificity in classifying sinus rhythm and 98.3% sensitivity in classifying AFib for the classifiable results. In this study, 12.2% of recordings were not classifiable.&lt;/p&gt;\\n&lt;/blockquote&gt;\\n\\n&lt;p&gt;EDIT: After 20 hours of this post, there are still no comments from anyone suggesting the Series 4 ECG is causing a surge in false positives or the worried well taxing the system. No doubt the press would have been on this story in a heartbeat if this was actually happening as well. I think that answers my question.&lt;/p&gt;\\n&lt;/div&gt;&lt;!-- SC_ON --&gt;', 'likes': None, 'suggested_sort': None, 'banned_at_utc': None, 'view_count': None, 'archived': False, 'no_follow': True, 'is_crosspostable': False, 'pinned': False, 'over_18': False, 'all_awardings': [], 'media_only': False, 'can_gild': False, 'spoiler': False, 'locked': False, 'author_flair_text': 'NP', 'visited': False, 'num_reports': None, 'distinguished': None, 'subreddit_id': 't5_2qhff', 'mod_reason_by': None, 'removal_reason': None, 'link_flair_background_color': '', 'id': 'bd5t6y', 'is_robot_indexable': True, 'report_reasons': None, 'author': 'Rexall_Pharmacy', 'num_crossposts': 0, 'num_comments': 30, 'send_replies': True, 'whitelist_status': 'all_ads', 'contest_mode': False, 'mod_reports': [], 'author_patreon_flair': False, 'author_flair_text_color': 'dark', 'permalink': '/r/medicine/comments/bd5t6y/its_been_6_months_since_the_apple_watch_series_4/', 'parent_whitelist_status': 'all_ads', 'stickied': False, 'url': 'https://www.reddit.com/r/medicine/comments/bd5t6y/its_been_6_months_since_the_apple_watch_series_4/', 'subreddit_subscribers': 241148, 'created_utc': 1555266518.0, 'discussion_type': None, 'media': None, 'is_video': False}}, {'kind': 't3', 'data': {'approved_at_utc': None, 'subreddit': 'medicine', 'selftext': '', 'author_fullname': 't2_j3uam', 'saved': False, 'mod_reason_title': None, 'gilded': 0, 'clicked': False, 'title': 'The Scary Shortage of Infectious-Disease Doctors NY Times Op Ed', 'link_flair_richtext': [], 'subreddit_name_prefixed': 'r/medicine', 'hidden': False, 'pwls': 6, 'link_flair_css_class': None, 'downs': 0, 'hide_score': False, 'name': 't3_bchr0f', 'quarantine': False, 'link_flair_text_color': 'dark', 'author_flair_background_color': '', 'subreddit_type': 'public', 'ups': 525, 'total_awards_received': 0, 'media_embed': {}, 'author_flair_template_id': None, 'is_original_content': False, 'user_reports': [], 'secure_media': None, 'is_reddit_media_domain': False, 'is_meta': False, 'category': None, 'secure_media_embed': {}, 'link_flair_text': None, 'can_mod_post': False, 'score': 525, 'approved_by': None, 'thumbnail': '', 'edited': False, 'author_flair_css_class': '', 'author_flair_richtext': [], 'gildings': {}, 'content_categories': None, 'is_self': False, 'mod_note': None, 'created': 1555126207.0, 'link_flair_type': 'text', 'wls': 6, 'banned_by': None, 'author_flair_type': 'text', 'domain': 'nytimes.com', 'allow_live_comments': True, 'selftext_html': None, 'likes': None, 'suggested_sort': None, 'banned_at_utc': None, 'view_count': None, 'archived': False, 'no_follow': False, 'is_crosspostable': False, 'pinned': False, 'over_18': False, 'all_awardings': [], 'media_only': False, 'can_gild': False, 'spoiler': False, 'locked': False, 'author_flair_text': 'MD - Pediatrics /Infectious Diseases', 'visited': False, 'num_reports': None, 'distinguished': None, 'subreddit_id': 't5_2qhff', 'mod_reason_by': None, 'removal_reason': None, 'link_flair_background_color': '', 'id': 'bchr0f', 'is_robot_indexable': True, 'report_reasons': None, 'author': 'LaudablePus', 'num_crossposts': 1, 'num_comments': 262, 'send_replies': True, 'whitelist_status': 'all_ads', 'contest_mode': False, 'mod_reports': [], 'author_patreon_flair': False, 'author_flair_text_color': 'dark', 'permalink': '/r/medicine/comments/bchr0f/the_scary_shortage_of_infectiousdisease_doctors/', 'parent_whitelist_status': 'all_ads', 'stickied': False, 'url': 'https://www.nytimes.com/2019/04/09/opinion/doctors-drug-resistant-infections.html', 'subreddit_subscribers': 241148, 'created_utc': 1555097407.0, 'discussion_type': None, 'media': None, 'is_video': False}}, {'kind': 't3', 'data': {'approved_at_utc': None, 'subreddit': 'medicine', 'selftext': '', 'author_fullname': 't2_pv0vu', 'saved': False, 'mod_reason_title': None, 'gilded': 0, 'clicked': False, 'title': 'For those involved in medical management: What does your organization do to improve employee engagement?', 'link_flair_richtext': [], 'subreddit_name_prefixed': 'r/medicine', 'hidden': False, 'pwls': 6, 'link_flair_css_class': None, 'downs': 0, 'hide_score': False, 'name': 't3_bcmbax', 'quarantine': False, 'link_flair_text_color': 'dark', 'author_flair_background_color': None, 'subreddit_type': 'public', 'ups': 10, 'total_awards_received': 0, 'media_embed': {}, 'author_flair_template_id': 'b963f7b4-23d4-11e2-b669-12313d28169d', 'is_original_content': False, 'user_reports': [], 'secure_media': None, 'is_reddit_media_domain': False, 'is_meta': False, 'category': None, 'secure_media_embed': {}, 'link_flair_text': None, 'can_mod_post': False, 'score': 10, 'approved_by': None, 'thumbnail': '', 'edited': False, 'author_flair_css_class': None, 'author_flair_richtext': [], 'gildings': {}, 'content_categories': None, 'is_self': True, 'mod_note': None, 'created': 1555153843.0, 'link_flair_type': 'text', 'wls': 6, 'banned_by': None, 'author_flair_type': 'text', 'domain': 'self.medicine', 'allow_live_comments': False, 'selftext_html': None, 'likes': None, 'suggested_sort': None, 'banned_at_utc': None, 'view_count': None, 'archived': False, 'no_follow': False, 'is_crosspostable': False, 'pinned': False, 'over_18': False, 'all_awardings': [], 'media_only': False, 'can_gild': False, 'spoiler': False, 'locked': False, 'author_flair_text': 'MD', 'visited': False, 'num_reports': None, 'distinguished': None, 'subreddit_id': 't5_2qhff', 'mod_reason_by': None, 'removal_reason': None, 'link_flair_background_color': '', 'id': 'bcmbax', 'is_robot_indexable': True, 'report_reasons': None, 'author': 'dragons5', 'num_crossposts': 0, 'num_comments': 9, 'send_replies': True, 'whitelist_status': 'all_ads', 'contest_mode': False, 'mod_reports': [], 'author_patreon_flair': False, 'author_flair_text_color': 'dark', 'permalink': '/r/medicine/comments/bcmbax/for_those_involved_in_medical_management_what/', 'parent_whitelist_status': 'all_ads', 'stickied': False, 'url': 'https://www.reddit.com/r/medicine/comments/bcmbax/for_those_involved_in_medical_management_what/', 'subreddit_subscribers': 241148, 'created_utc': 1555125043.0, 'discussion_type': None, 'media': None, 'is_video': False}}, {'kind': 't3', 'data': {'approved_at_utc': None, 'subreddit': 'medicine', 'selftext': \"Hi Meddit, I could use some help with a difficult situation.  One of the fellows at my institution has some serious knowledge and judgement gaps which make it really stressful to work with them.  This is well beyond differing opinions, I'm talking about grossly inappropriate RSI meds (e.g. propofol in cardiogenic shock), placing NPAs when there's clear evidence of basal skull fractures, not checking BGs on seizing patients, etc.  To make things worse, the fellow in question is very resistant to changing his/her plan based on input from residents.  \\n\\n&amp;#x200B;\\n\\nIn short, my question is what do you do when the person who is technically your boss is giving really bad (and potentially dangerous) orders?  Our administration is working on this issue, but administrative action takes a long time and I need some help getting through my next shift without hurting someone.\", 'author_fullname': 't2_15bya7', 'saved': False, 'mod_reason_title': None, 'gilded': 0, 'clicked': False, 'title': \"Dealing with a superior you can't trust\", 'link_flair_richtext': [], 'subreddit_name_prefixed': 'r/medicine', 'hidden': False, 'pwls': 6, 'link_flair_css_class': None, 'downs': 0, 'hide_score': False, 'name': 't3_bcilrz', 'quarantine': False, 'link_flair_text_color': 'dark', 'author_flair_background_color': None, 'subreddit_type': 'public', 'ups': 19, 'total_awards_received': 0, 'media_embed': {}, 'author_flair_template_id': 'abb8514c-4d76-11e8-bbf5-0ec706991ea4', 'is_original_content': False, 'user_reports': [], 'secure_media': None, 'is_reddit_media_domain': False, 'is_meta': False, 'category': None, 'secure_media_embed': {}, 'link_flair_text': None, 'can_mod_post': False, 'score': 19, 'approved_by': None, 'thumbnail': '', 'edited': False, 'author_flair_css_class': None, 'author_flair_richtext': [], 'gildings': {}, 'content_categories': None, 'is_self': True, 'mod_note': None, 'created': 1555130721.0, 'link_flair_type': 'text', 'wls': 6, 'banned_by': None, 'author_flair_type': 'text', 'domain': 'self.medicine', 'allow_live_comments': False, 'selftext_html': '&lt;!-- SC_OFF --&gt;&lt;div class=\"md\"&gt;&lt;p&gt;Hi Meddit, I could use some help with a difficult situation.  One of the fellows at my institution has some serious knowledge and judgement gaps which make it really stressful to work with them.  This is well beyond differing opinions, I&amp;#39;m talking about grossly inappropriate RSI meds (e.g. propofol in cardiogenic shock), placing NPAs when there&amp;#39;s clear evidence of basal skull fractures, not checking BGs on seizing patients, etc.  To make things worse, the fellow in question is very resistant to changing his/her plan based on input from residents.  &lt;/p&gt;\\n\\n&lt;p&gt;&amp;#x200B;&lt;/p&gt;\\n\\n&lt;p&gt;In short, my question is what do you do when the person who is technically your boss is giving really bad (and potentially dangerous) orders?  Our administration is working on this issue, but administrative action takes a long time and I need some help getting through my next shift without hurting someone.&lt;/p&gt;\\n&lt;/div&gt;&lt;!-- SC_ON --&gt;', 'likes': None, 'suggested_sort': None, 'banned_at_utc': None, 'view_count': None, 'archived': False, 'no_follow': False, 'is_crosspostable': False, 'pinned': False, 'over_18': False, 'all_awardings': [], 'media_only': False, 'can_gild': False, 'spoiler': False, 'locked': False, 'author_flair_text': 'EM PGY-2', 'visited': False, 'num_reports': None, 'distinguished': None, 'subreddit_id': 't5_2qhff', 'mod_reason_by': None, 'removal_reason': None, 'link_flair_background_color': '', 'id': 'bcilrz', 'is_robot_indexable': True, 'report_reasons': None, 'author': 'Yeti_MD', 'num_crossposts': 0, 'num_comments': 12, 'send_replies': True, 'whitelist_status': 'all_ads', 'contest_mode': False, 'mod_reports': [], 'author_patreon_flair': False, 'author_flair_text_color': 'dark', 'permalink': '/r/medicine/comments/bcilrz/dealing_with_a_superior_you_cant_trust/', 'parent_whitelist_status': 'all_ads', 'stickied': False, 'url': 'https://www.reddit.com/r/medicine/comments/bcilrz/dealing_with_a_superior_you_cant_trust/', 'subreddit_subscribers': 241148, 'created_utc': 1555101921.0, 'discussion_type': None, 'media': None, 'is_video': False}}, {'kind': 't3', 'data': {'approved_at_utc': None, 'subreddit': 'medicine', 'selftext': \"As we know, patients take many different vitamins for non-evidence based reasons, and I am sure many medical providers do as well.  I would be curious to know what you take on a regular basis and why. This would exclude prescribed or medically indicated (eg vit E and NASH)  things.  This could also include whether or not you take a baby ASA as primary prevention, so not confined to typical idea of 'vitamin' only products.\\n\\nI took the time to inspect the vitamin aisle at the grocery store and was pretty impressed by the selection and prices. I find it fascinating the odd beliefs people acquire to take a random manufactured pill vs. struggle to be to motivated to take well and developed medications.\", 'author_fullname': 't2_54r15', 'saved': False, 'mod_reason_title': None, 'gilded': 0, 'clicked': False, 'title': 'What vitamins or supplements or other daily OTC products do you take?', 'link_flair_richtext': [], 'subreddit_name_prefixed': 'r/medicine', 'hidden': False, 'pwls': 6, 'link_flair_css_class': None, 'downs': 0, 'hide_score': False, 'name': 't3_bcgpau', 'quarantine': False, 'link_flair_text_color': 'dark', 'author_flair_background_color': '', 'subreddit_type': 'public', 'ups': 26, 'total_awards_received': 0, 'media_embed': {}, 'author_flair_template_id': None, 'is_original_content': False, 'user_reports': [], 'secure_media': None, 'is_reddit_media_domain': False, 'is_meta': False, 'category': None, 'secure_media_embed': {}, 'link_flair_text': None, 'can_mod_post': False, 'score': 26, 'approved_by': None, 'thumbnail': '', 'edited': 1555098763.0, 'author_flair_css_class': '', 'author_flair_richtext': [], 'gildings': {}, 'content_categories': None, 'is_self': True, 'mod_note': None, 'created': 1555121002.0, 'link_flair_type': 'text', 'wls': 6, 'banned_by': None, 'author_flair_type': 'text', 'domain': 'self.medicine', 'allow_live_comments': False, 'selftext_html': '&lt;!-- SC_OFF --&gt;&lt;div class=\"md\"&gt;&lt;p&gt;As we know, patients take many different vitamins for non-evidence based reasons, and I am sure many medical providers do as well.  I would be curious to know what you take on a regular basis and why. This would exclude prescribed or medically indicated (eg vit E and NASH)  things.  This could also include whether or not you take a baby ASA as primary prevention, so not confined to typical idea of &amp;#39;vitamin&amp;#39; only products.&lt;/p&gt;\\n\\n&lt;p&gt;I took the time to inspect the vitamin aisle at the grocery store and was pretty impressed by the selection and prices. I find it fascinating the odd beliefs people acquire to take a random manufactured pill vs. struggle to be to motivated to take well and developed medications.&lt;/p&gt;\\n&lt;/div&gt;&lt;!-- SC_ON --&gt;', 'likes': None, 'suggested_sort': None, 'banned_at_utc': None, 'view_count': None, 'archived': False, 'no_follow': False, 'is_crosspostable': False, 'pinned': False, 'over_18': False, 'all_awardings': [], 'media_only': False, 'can_gild': False, 'spoiler': False, 'locked': False, 'author_flair_text': 'PA-C', 'visited': False, 'num_reports': None, 'distinguished': None, 'subreddit_id': 't5_2qhff', 'mod_reason_by': None, 'removal_reason': None, 'link_flair_background_color': '', 'id': 'bcgpau', 'is_robot_indexable': True, 'report_reasons': None, 'author': 'honeybadgerrrr', 'num_crossposts': 0, 'num_comments': 136, 'send_replies': True, 'whitelist_status': 'all_ads', 'contest_mode': False, 'mod_reports': [], 'author_patreon_flair': False, 'author_flair_text_color': 'dark', 'permalink': '/r/medicine/comments/bcgpau/what_vitamins_or_supplements_or_other_daily_otc/', 'parent_whitelist_status': 'all_ads', 'stickied': False, 'url': 'https://www.reddit.com/r/medicine/comments/bcgpau/what_vitamins_or_supplements_or_other_daily_otc/', 'subreddit_subscribers': 241148, 'created_utc': 1555092202.0, 'discussion_type': None, 'media': None, 'is_video': False}}, {'kind': 't3', 'data': {'approved_at_utc': None, 'subreddit': 'medicine', 'selftext': 'Long story short, our first child is almost 3mo old. I’m having the age old dilemma : feeling guilty about not being home if I stay late at work; feeling delinquent if I leave to go home before all charts are closed. I’m full time clinic primary care with night clinic duties 4 times a month. I close 50-90% of my charts that day but on bad days or hard weeks sometimes my charts stack up 4-5 days and results stack up 48 hours.... and I’m left with a choice:\\n\\n1) stay late to finish notes on time\\n2) go home, see kid, sacrifice quality of time/precious sleep and try to finish notes at home on time\\n3) go home, see kid fully, sleep, finish notes in a slightly delinquent fashion (our clinic does not have a rule about timing and many physicians leave charts open for longer than I do/shittier notes).\\n\\nI will say : all my orders, diagnoses, and almost always my HPIs are fully completed shortly after leaving the room, so others see this even if my ROS/PE/plan justification is not. Also I am struggling to get 6hrs of interrupted sleep, already work through lunch, don’t spend any time relaxing, and kid sleeps at 8pm so barely spend 2hrs with her each day.', 'author_fullname': 't2_n6ansj8', 'saved': False, 'mod_reason_title': None, 'gilded': 0, 'clicked': False, 'title': 'How do you balance finishing notes/leaving on time/home life?', 'link_flair_richtext': [], 'subreddit_name_prefixed': 'r/medicine', 'hidden': False, 'pwls': 6, 'link_flair_css_class': None, 'downs': 0, 'hide_score': False, 'name': 't3_bc9nde', 'quarantine': False, 'link_flair_text_color': 'dark', 'author_flair_background_color': None, 'subreddit_type': 'public', 'ups': 221, 'total_awards_received': 0, 'media_embed': {}, 'author_flair_template_id': 'abb8514c-4d76-11e8-bbf5-0ec706991ea4', 'is_original_content': False, 'user_reports': [], 'secure_media': None, 'is_reddit_media_domain': False, 'is_meta': False, 'category': None, 'secure_media_embed': {}, 'link_flair_text': None, 'can_mod_post': False, 'score': 221, 'approved_by': None, 'thumbnail': '', 'edited': 1555044746.0, 'author_flair_css_class': None, 'author_flair_richtext': [], 'gildings': {}, 'content_categories': None, 'is_self': True, 'mod_note': None, 'created': 1555073321.0, 'link_flair_type': 'text', 'wls': 6, 'banned_by': None, 'author_flair_type': 'text', 'domain': 'self.medicine', 'allow_live_comments': True, 'selftext_html': '&lt;!-- SC_OFF --&gt;&lt;div class=\"md\"&gt;&lt;p&gt;Long story short, our first child is almost 3mo old. I’m having the age old dilemma : feeling guilty about not being home if I stay late at work; feeling delinquent if I leave to go home before all charts are closed. I’m full time clinic primary care with night clinic duties 4 times a month. I close 50-90% of my charts that day but on bad days or hard weeks sometimes my charts stack up 4-5 days and results stack up 48 hours.... and I’m left with a choice:&lt;/p&gt;\\n\\n&lt;p&gt;1) stay late to finish notes on time\\n2) go home, see kid, sacrifice quality of time/precious sleep and try to finish notes at home on time\\n3) go home, see kid fully, sleep, finish notes in a slightly delinquent fashion (our clinic does not have a rule about timing and many physicians leave charts open for longer than I do/shittier notes).&lt;/p&gt;\\n\\n&lt;p&gt;I will say : all my orders, diagnoses, and almost always my HPIs are fully completed shortly after leaving the room, so others see this even if my ROS/PE/plan justification is not. Also I am struggling to get 6hrs of interrupted sleep, already work through lunch, don’t spend any time relaxing, and kid sleeps at 8pm so barely spend 2hrs with her each day.&lt;/p&gt;\\n&lt;/div&gt;&lt;!-- SC_ON --&gt;', 'likes': None, 'suggested_sort': None, 'banned_at_utc': None, 'view_count': None, 'archived': False, 'no_follow': False, 'is_crosspostable': False, 'pinned': False, 'over_18': False, 'all_awardings': [], 'media_only': False, 'can_gild': False, 'spoiler': False, 'locked': False, 'author_flair_text': 'MD', 'visited': False, 'num_reports': None, 'distinguished': None, 'subreddit_id': 't5_2qhff', 'mod_reason_by': None, 'removal_reason': None, 'link_flair_background_color': '', 'id': 'bc9nde', 'is_robot_indexable': True, 'report_reasons': None, 'author': 'PagingDrLumps', 'num_crossposts': 0, 'num_comments': 157, 'send_replies': True, 'whitelist_status': 'all_ads', 'contest_mode': False, 'mod_reports': [], 'author_patreon_flair': False, 'author_flair_text_color': 'dark', 'permalink': '/r/medicine/comments/bc9nde/how_do_you_balance_finishing_notesleaving_on/', 'parent_whitelist_status': 'all_ads', 'stickied': False, 'url': 'https://www.reddit.com/r/medicine/comments/bc9nde/how_do_you_balance_finishing_notesleaving_on/', 'subreddit_subscribers': 241148, 'created_utc': 1555044521.0, 'discussion_type': None, 'media': None, 'is_video': False}}, {'kind': 't3', 'data': {'approved_at_utc': None, 'subreddit': 'medicine', 'selftext': 'Have you found this useful? Or is it causing additional work for you by having to reconcile new issues and orders from a physician that most of the time has little information about your patient? We have 1-2 hospitalist to cover admissions and emergent situations, but we also have the resource of the telemedicine provider for non-emergent issues. At times, these providers are unaware of protocols, standards, and order sets of our hospital.', 'author_fullname': 't2_wndlqj4', 'saved': False, 'mod_reason_title': None, 'gilded': 0, 'clicked': False, 'title': 'How do attending hospitalists feel about Telemedicine MD’s covering for you overnight?', 'link_flair_richtext': [], 'subreddit_name_prefixed': 'r/medicine', 'hidden': False, 'pwls': 6, 'link_flair_css_class': None, 'downs': 0, 'hide_score': False, 'name': 't3_bcab89', 'quarantine': False, 'link_flair_text_color': 'dark', 'author_flair_background_color': None, 'subreddit_type': 'public', 'ups': 65, 'total_awards_received': 0, 'media_embed': {}, 'author_flair_template_id': 'bf0eb8ac-50a6-11e8-9fdf-0e961f2aaf0c', 'is_original_content': False, 'user_reports': [], 'secure_media': None, 'is_reddit_media_domain': False, 'is_meta': False, 'category': None, 'secure_media_embed': {}, 'link_flair_text': None, 'can_mod_post': False, 'score': 65, 'approved_by': None, 'thumbnail': '', 'edited': False, 'author_flair_css_class': None, 'author_flair_richtext': [], 'gildings': {}, 'content_categories': None, 'is_self': True, 'mod_note': None, 'created': 1555078766.0, 'link_flair_type': 'text', 'wls': 6, 'banned_by': None, 'author_flair_type': 'text', 'domain': 'self.medicine', 'allow_live_comments': False, 'selftext_html': '&lt;!-- SC_OFF --&gt;&lt;div class=\"md\"&gt;&lt;p&gt;Have you found this useful? Or is it causing additional work for you by having to reconcile new issues and orders from a physician that most of the time has little information about your patient? We have 1-2 hospitalist to cover admissions and emergent situations, but we also have the resource of the telemedicine provider for non-emergent issues. At times, these providers are unaware of protocols, standards, and order sets of our hospital.&lt;/p&gt;\\n&lt;/div&gt;&lt;!-- SC_ON --&gt;', 'likes': None, 'suggested_sort': None, 'banned_at_utc': None, 'view_count': None, 'archived': False, 'no_follow': False, 'is_crosspostable': False, 'pinned': False, 'over_18': False, 'all_awardings': [], 'media_only': False, 'can_gild': False, 'spoiler': False, 'locked': False, 'author_flair_text': 'Nurse', 'visited': False, 'num_reports': None, 'distinguished': None, 'subreddit_id': 't5_2qhff', 'mod_reason_by': None, 'removal_reason': None, 'link_flair_background_color': '', 'id': 'bcab89', 'is_robot_indexable': True, 'report_reasons': None, 'author': 'morgan133', 'num_crossposts': 0, 'num_comments': 15, 'send_replies': True, 'whitelist_status': 'all_ads', 'contest_mode': False, 'mod_reports': [], 'author_patreon_flair': False, 'author_flair_text_color': 'dark', 'permalink': '/r/medicine/comments/bcab89/how_do_attending_hospitalists_feel_about/', 'parent_whitelist_status': 'all_ads', 'stickied': False, 'url': 'https://www.reddit.com/r/medicine/comments/bcab89/how_do_attending_hospitalists_feel_about/', 'subreddit_subscribers': 241148, 'created_utc': 1555049966.0, 'discussion_type': None, 'media': None, 'is_video': False}}, {'kind': 't3', 'data': {'approved_at_utc': None, 'subreddit': 'medicine', 'selftext': \"I've turned down many patients for a refill who are on ambien and xanax 3 times a day including one Xanax ER a day. At best I'll offer a weaning schedule so that we don't stop them cold turkey. Many times they will refuse. \\n\\nThere is a doctor near where I practice who has switched to direct medicine or concierge medicine. Ever since the switch, we have had a flood of new patients who are all on the same meds. Without fail, every patient I have of his is on the same regimen. Ambien 10mg nightly, xanax 1mg tid, and xanax ER once daily. Sometimes a norco or muscle relaxer will be on their profile too. \\n\\nI've noticed that this direct pay doctor will not fill anything but those meds for them and leave the DM II management with A1c of 13's up to me their new insurance taking primary care doctor. (me)\\n\\nHow do you guys/gals deal with this? I'm tempted to reach out to him and more or less be like bro...wtf is going on? I'm confused what my and your role is here.\\n\\nOn one hand I want to help their medical problems but on the other I find it hard when they have two different primary care doctors, one of which seems to only be treating anxiety or insomnia with high dose benzos. Since I do treat those disorders but not with benzos long term, these patients will flock to the cash pay doctors near me to get their fill.\\n\\nShould I start refusing to see these types of patients to treat their diabetes, HLD, thyroid disorders, etc? What would you do?\", 'author_fullname': 't2_pr024', 'saved': False, 'mod_reason_title': None, 'gilded': 0, 'clicked': False, 'title': 'Do you continue to see patients in primary care who are seeing another doctor for high dose controlled substances that you feel are not indicated?', 'link_flair_richtext': [], 'subreddit_name_prefixed': 'r/medicine', 'hidden': False, 'pwls': 6, 'link_flair_css_class': None, 'downs': 0, 'hide_score': False, 'name': 't3_bc2nox', 'quarantine': False, 'link_flair_text_color': 'dark', 'author_flair_background_color': '', 'subreddit_type': 'public', 'ups': 432, 'total_awards_received': 0, 'media_embed': {}, 'author_flair_template_id': None, 'is_original_content': False, 'user_reports': [], 'secure_media': None, 'is_reddit_media_domain': False, 'is_meta': False, 'category': None, 'secure_media_embed': {}, 'link_flair_text': None, 'can_mod_post': False, 'score': 432, 'approved_by': None, 'thumbnail': '', 'edited': False, 'author_flair_css_class': '', 'author_flair_richtext': [], 'gildings': {}, 'content_categories': None, 'is_self': True, 'mod_note': None, 'created': 1555032620.0, 'link_flair_type': 'text', 'wls': 6, 'banned_by': None, 'author_flair_type': 'text', 'domain': 'self.medicine', 'allow_live_comments': False, 'selftext_html': '&lt;!-- SC_OFF --&gt;&lt;div class=\"md\"&gt;&lt;p&gt;I&amp;#39;ve turned down many patients for a refill who are on ambien and xanax 3 times a day including one Xanax ER a day. At best I&amp;#39;ll offer a weaning schedule so that we don&amp;#39;t stop them cold turkey. Many times they will refuse. &lt;/p&gt;\\n\\n&lt;p&gt;There is a doctor near where I practice who has switched to direct medicine or concierge medicine. Ever since the switch, we have had a flood of new patients who are all on the same meds. Without fail, every patient I have of his is on the same regimen. Ambien 10mg nightly, xanax 1mg tid, and xanax ER once daily. Sometimes a norco or muscle relaxer will be on their profile too. &lt;/p&gt;\\n\\n&lt;p&gt;I&amp;#39;ve noticed that this direct pay doctor will not fill anything but those meds for them and leave the DM II management with A1c of 13&amp;#39;s up to me their new insurance taking primary care doctor. (me)&lt;/p&gt;\\n\\n&lt;p&gt;How do you guys/gals deal with this? I&amp;#39;m tempted to reach out to him and more or less be like bro...wtf is going on? I&amp;#39;m confused what my and your role is here.&lt;/p&gt;\\n\\n&lt;p&gt;On one hand I want to help their medical problems but on the other I find it hard when they have two different primary care doctors, one of which seems to only be treating anxiety or insomnia with high dose benzos. Since I do treat those disorders but not with benzos long term, these patients will flock to the cash pay doctors near me to get their fill.&lt;/p&gt;\\n\\n&lt;p&gt;Should I start refusing to see these types of patients to treat their diabetes, HLD, thyroid disorders, etc? What would you do?&lt;/p&gt;\\n&lt;/div&gt;&lt;!-- SC_ON --&gt;', 'likes': None, 'suggested_sort': None, 'banned_at_utc': None, 'view_count': None, 'archived': False, 'no_follow': False, 'is_crosspostable': False, 'pinned': False, 'over_18': False, 'all_awardings': [], 'media_only': False, 'can_gild': False, 'spoiler': False, 'locked': False, 'author_flair_text': 'IM', 'visited': False, 'num_reports': None, 'distinguished': None, 'subreddit_id': 't5_2qhff', 'mod_reason_by': None, 'removal_reason': None, 'link_flair_background_color': '', 'id': 'bc2nox', 'is_robot_indexable': True, 'report_reasons': None, 'author': 'InvestingDoc', 'num_crossposts': 0, 'num_comments': 142, 'send_replies': True, 'whitelist_status': 'all_ads', 'contest_mode': False, 'mod_reports': [], 'author_patreon_flair': False, 'author_flair_text_color': 'dark', 'permalink': '/r/medicine/comments/bc2nox/do_you_continue_to_see_patients_in_primary_care/', 'parent_whitelist_status': 'all_ads', 'stickied': False, 'url': 'https://www.reddit.com/r/medicine/comments/bc2nox/do_you_continue_to_see_patients_in_primary_care/', 'subreddit_subscribers': 241148, 'created_utc': 1555003820.0, 'discussion_type': None, 'media': None, 'is_video': False}}, {'kind': 't3', 'data': {'approved_at_utc': None, 'subreddit': 'medicine', 'selftext': '', 'author_fullname': 't2_7kqcx', 'saved': False, 'mod_reason_title': None, 'gilded': 0, 'clicked': False, 'title': 'NB nurse accused of rogue administration of oxytocin, resulting in multiple emergency C-sections', 'link_flair_richtext': [], 'subreddit_name_prefixed': 'r/medicine', 'hidden': False, 'pwls': 6, 'link_flair_css_class': None, 'downs': 0, 'hide_score': False, 'name': 't3_bc2o03', 'quarantine': False, 'link_flair_text_color': 'dark', 'author_flair_background_color': None, 'subreddit_type': 'public', 'ups': 410, 'total_awards_received': 0, 'media_embed': {}, 'author_flair_template_id': 'b963f7b4-23d4-11e2-b669-12313d28169d', 'is_original_content': False, 'user_reports': [], 'secure_media': None, 'is_reddit_media_domain': False, 'is_meta': False, 'category': None, 'secure_media_embed': {}, 'link_flair_text': None, 'can_mod_post': False, 'score': 410, 'approved_by': None, 'thumbnail': '', 'edited': False, 'author_flair_css_class': None, 'author_flair_richtext': [], 'gildings': {}, 'content_categories': None, 'is_self': False, 'mod_note': None, 'created': 1555032659.0, 'link_flair_type': 'text', 'wls': 6, 'banned_by': None, 'author_flair_type': 'text', 'domain': 'cbc.ca', 'allow_live_comments': True, 'selftext_html': None, 'likes': None, 'suggested_sort': None, 'banned_at_utc': None, 'view_count': None, 'archived': False, 'no_follow': False, 'is_crosspostable': False, 'pinned': False, 'over_18': False, 'all_awardings': [], 'media_only': False, 'can_gild': False, 'spoiler': False, 'locked': False, 'author_flair_text': 'Rural FM + Anesthesia', 'visited': False, 'num_reports': None, 'distinguished': None, 'subreddit_id': 't5_2qhff', 'mod_reason_by': None, 'removal_reason': None, 'link_flair_background_color': '', 'id': 'bc2o03', 'is_robot_indexable': True, 'report_reasons': None, 'author': 'annamnesis', 'num_crossposts': 1, 'num_comments': 115, 'send_replies': True, 'whitelist_status': 'all_ads', 'contest_mode': False, 'mod_reports': [], 'author_patreon_flair': False, 'author_flair_text_color': 'dark', 'permalink': '/r/medicine/comments/bc2o03/nb_nurse_accused_of_rogue_administration_of/', 'parent_whitelist_status': 'all_ads', 'stickied': False, 'url': 'https://www.cbc.ca/news/canada/new-brunswick/moncton-hospital-horizon-nurse-labour-lawsuit-1.5093510', 'subreddit_subscribers': 241148, 'created_utc': 1555003859.0, 'discussion_type': None, 'media': None, 'is_video': False}}, {'kind': 't3', 'data': {'approved_at_utc': None, 'subreddit': 'medicine', 'selftext': '', 'author_fullname': 't2_cenm3', 'saved': False, 'mod_reason_title': None, 'gilded': 0, 'clicked': False, 'title': \"Chest Binding: A Physician's Guide\", 'link_flair_richtext': [], 'subreddit_name_prefixed': 'r/medicine', 'hidden': False, 'pwls': 6, 'link_flair_css_class': None, 'downs': 0, 'hide_score': False, 'name': 't3_bc2yfd', 'quarantine': False, 'link_flair_text_color': 'dark', 'author_flair_background_color': None, 'subreddit_type': 'public', 'ups': 62, 'total_awards_received': 0, 'media_embed': {}, 'author_flair_template_id': 'b7553168-50a6-11e8-95d8-0e6fcedead42', 'is_original_content': False, 'user_reports': [], 'secure_media': None, 'is_reddit_media_domain': False, 'is_meta': False, 'category': None, 'secure_media_embed': {}, 'link_flair_text': None, 'can_mod_post': False, 'score': 62, 'approved_by': None, 'thumbnail': '', 'edited': False, 'author_flair_css_class': None, 'author_flair_richtext': [], 'gildings': {}, 'content_categories': None, 'is_self': False, 'mod_note': None, 'created': 1555034119.0, 'link_flair_type': 'text', 'wls': 6, 'banned_by': None, 'author_flair_type': 'text', 'domain': 'prideinpractice.org', 'allow_live_comments': True, 'selftext_html': None, 'likes': None, 'suggested_sort': None, 'banned_at_utc': None, 'view_count': None, 'archived': False, 'no_follow': False, 'is_crosspostable': False, 'pinned': False, 'over_18': False, 'all_awardings': [], 'media_only': False, 'can_gild': False, 'spoiler': False, 'locked': False, 'author_flair_text': 'Medical Student', 'visited': False, 'num_reports': None, 'distinguished': None, 'subreddit_id': 't5_2qhff', 'mod_reason_by': None, 'removal_reason': None, 'link_flair_background_color': '', 'id': 'bc2yfd', 'is_robot_indexable': True, 'report_reasons': None, 'author': 'backstrokerjc', 'num_crossposts': 1, 'num_comments': 25, 'send_replies': True, 'whitelist_status': 'all_ads', 'contest_mode': False, 'mod_reports': [], 'author_patreon_flair': False, 'author_flair_text_color': 'dark', 'permalink': '/r/medicine/comments/bc2yfd/chest_binding_a_physicians_guide/', 'parent_whitelist_status': 'all_ads', 'stickied': False, 'url': 'https://www.prideinpractice.org/articles/chest-binding-physician-guide/', 'subreddit_subscribers': 241148, 'created_utc': 1555005319.0, 'discussion_type': None, 'media': None, 'is_video': False}}, {'kind': 't3', 'data': {'approved_at_utc': None, 'subreddit': 'medicine', 'selftext': '', 'author_fullname': 't2_5nli5', 'saved': False, 'mod_reason_title': None, 'gilded': 0, 'clicked': False, 'title': 'The NASA Twins Study: A multidimensional analysis of a year-long human spaceflight', 'link_flair_richtext': [], 'subreddit_name_prefixed': 'r/medicine', 'hidden': False, 'pwls': 6, 'link_flair_css_class': None, 'downs': 0, 'hide_score': False, 'name': 't3_bc36j0', 'quarantine': False, 'link_flair_text_color': 'dark', 'author_flair_background_color': None, 'subreddit_type': 'public', 'ups': 31, 'total_awards_received': 0, 'media_embed': {}, 'author_flair_template_id': 'a8cf0dd4-4101-11e9-a972-0ed428fbb33e', 'is_original_content': False, 'user_reports': [], 'secure_media': None, 'is_reddit_media_domain': False, 'is_meta': False, 'category': None, 'secure_media_embed': {}, 'link_flair_text': None, 'can_mod_post': False, 'score': 31, 'approved_by': None, 'thumbnail': '', 'edited': False, 'author_flair_css_class': None, 'author_flair_richtext': [], 'gildings': {}, 'content_categories': None, 'is_self': False, 'mod_note': None, 'created': 1555035275.0, 'link_flair_type': 'text', 'wls': 6, 'banned_by': None, 'author_flair_type': 'text', 'domain': 'science.sciencemag.org', 'allow_live_comments': False, 'selftext_html': None, 'likes': None, 'suggested_sort': None, 'banned_at_utc': None, 'view_count': None, 'archived': False, 'no_follow': False, 'is_crosspostable': False, 'pinned': False, 'over_18': False, 'all_awardings': [], 'media_only': False, 'can_gild': False, 'spoiler': False, 'locked': False, 'author_flair_text': 'MBBS Intern', 'visited': False, 'num_reports': None, 'distinguished': None, 'subreddit_id': 't5_2qhff', 'mod_reason_by': None, 'removal_reason': None, 'link_flair_background_color': '', 'id': 'bc36j0', 'is_robot_indexable': True, 'report_reasons': None, 'author': 'z3roTO60', 'num_crossposts': 0, 'num_comments': 9, 'send_replies': True, 'whitelist_status': 'all_ads', 'contest_mode': False, 'mod_reports': [], 'author_patreon_flair': False, 'author_flair_text_color': 'dark', 'permalink': '/r/medicine/comments/bc36j0/the_nasa_twins_study_a_multidimensional_analysis/', 'parent_whitelist_status': 'all_ads', 'stickied': False, 'url': 'https://science.sciencemag.org/content/364/6436/eaau8650.full', 'subreddit_subscribers': 241148, 'created_utc': 1555006475.0, 'discussion_type': None, 'media': None, 'is_video': False}}, {'kind': 't3', 'data': {'approved_at_utc': None, 'subreddit': 'medicine', 'selftext': \"I will love to have some recommendations for light jacket for males to be worn over scrubs while coming or going to work in hot summer. I like to wear a jacket for scrubs while I'm outside of the hospital for additional layer and extra pockets. If anyone has recommendations for a good breathable jacket which I can survive wearing in hot summer, I will really appreciate it.\", 'author_fullname': 't2_8rc8xc5', 'saved': False, 'mod_reason_title': None, 'gilded': 0, 'clicked': False, 'title': 'Jacket recommendations over scrubs?', 'link_flair_richtext': [], 'subreddit_name_prefixed': 'r/medicine', 'hidden': False, 'pwls': 6, 'link_flair_css_class': None, 'downs': 0, 'hide_score': False, 'name': 't3_bc4t07', 'quarantine': False, 'link_flair_text_color': 'dark', 'author_flair_background_color': None, 'subreddit_type': 'public', 'ups': 6, 'total_awards_received': 0, 'media_embed': {}, 'author_flair_template_id': 'abb8514c-4d76-11e8-bbf5-0ec706991ea4', 'is_original_content': False, 'user_reports': [], 'secure_media': None, 'is_reddit_media_domain': False, 'is_meta': False, 'category': None, 'secure_media_embed': {}, 'link_flair_text': None, 'can_mod_post': False, 'score': 6, 'approved_by': None, 'thumbnail': '', 'edited': False, 'author_flair_css_class': None, 'author_flair_richtext': [], 'gildings': {}, 'content_categories': None, 'is_self': True, 'mod_note': None, 'created': 1555043606.0, 'link_flair_type': 'text', 'wls': 6, 'banned_by': None, 'author_flair_type': 'text', 'domain': 'self.medicine', 'allow_live_comments': False, 'selftext_html': '&lt;!-- SC_OFF --&gt;&lt;div class=\"md\"&gt;&lt;p&gt;I will love to have some recommendations for light jacket for males to be worn over scrubs while coming or going to work in hot summer. I like to wear a jacket for scrubs while I&amp;#39;m outside of the hospital for additional layer and extra pockets. If anyone has recommendations for a good breathable jacket which I can survive wearing in hot summer, I will really appreciate it.&lt;/p&gt;\\n&lt;/div&gt;&lt;!-- SC_ON --&gt;', 'likes': None, 'suggested_sort': None, 'banned_at_utc': None, 'view_count': None, 'archived': False, 'no_follow': False, 'is_crosspostable': False, 'pinned': False, 'over_18': False, 'all_awardings': [], 'media_only': False, 'can_gild': False, 'spoiler': False, 'locked': False, 'author_flair_text': 'MD', 'visited': False, 'num_reports': None, 'distinguished': None, 'subreddit_id': 't5_2qhff', 'mod_reason_by': None, 'removal_reason': None, 'link_flair_background_color': '', 'id': 'bc4t07', 'is_robot_indexable': True, 'report_reasons': None, 'author': 'sevolatte', 'num_crossposts': 0, 'num_comments': 22, 'send_replies': True, 'whitelist_status': 'all_ads', 'contest_mode': False, 'mod_reports': [], 'author_patreon_flair': False, 'author_flair_text_color': 'dark', 'permalink': '/r/medicine/comments/bc4t07/jacket_recommendations_over_scrubs/', 'parent_whitelist_status': 'all_ads', 'stickied': False, 'url': 'https://www.reddit.com/r/medicine/comments/bc4t07/jacket_recommendations_over_scrubs/', 'subreddit_subscribers': 241148, 'created_utc': 1555014806.0, 'discussion_type': None, 'media': None, 'is_video': False}}, {'kind': 't3', 'data': {'approved_at_utc': None, 'subreddit': 'medicine', 'selftext': '', 'author_fullname': 't2_250sqz5i', 'saved': False, 'mod_reason_title': None, 'gilded': 0, 'clicked': False, 'title': 'Vanderbilt nurse error killed patient; nurse now being criminally charged', 'link_flair_richtext': [], 'subreddit_name_prefixed': 'r/medicine', 'hidden': False, 'pwls': 6, 'link_flair_css_class': None, 'downs': 0, 'hide_score': False, 'name': 't3_bbooz2', 'quarantine': False, 'link_flair_text_color': 'dark', 'author_flair_background_color': None, 'subreddit_type': 'public', 'ups': 549, 'total_awards_received': 0, 'media_embed': {}, 'author_flair_template_id': 'b7553168-50a6-11e8-95d8-0e6fcedead42', 'is_original_content': False, 'user_reports': [], 'secure_media': None, 'is_reddit_media_domain': False, 'is_meta': False, 'category': None, 'secure_media_embed': {}, 'link_flair_text': None, 'can_mod_post': False, 'score': 549, 'approved_by': None, 'thumbnail': '', 'edited': False, 'author_flair_css_class': None, 'author_flair_richtext': [], 'gildings': {}, 'content_categories': None, 'is_self': False, 'mod_note': None, 'created': 1554945700.0, 'link_flair_type': 'text', 'wls': 6, 'banned_by': None, 'author_flair_type': 'text', 'domain': 'npr.org', 'allow_live_comments': True, 'selftext_html': None, 'likes': None, 'suggested_sort': None, 'banned_at_utc': None, 'view_count': None, 'archived': False, 'no_follow': False, 'is_crosspostable': False, 'pinned': False, 'over_18': False, 'all_awardings': [], 'media_only': False, 'can_gild': False, 'spoiler': False, 'locked': False, 'author_flair_text': 'Medical Student', 'visited': False, 'num_reports': None, 'distinguished': None, 'subreddit_id': 't5_2qhff', 'mod_reason_by': None, 'removal_reason': None, 'link_flair_background_color': '', 'id': 'bbooz2', 'is_robot_indexable': True, 'report_reasons': None, 'author': 'MuffinToIt', 'num_crossposts': 3, 'num_comments': 433, 'send_replies': True, 'whitelist_status': 'all_ads', 'contest_mode': False, 'mod_reports': [], 'author_patreon_flair': False, 'author_flair_text_color': 'dark', 'permalink': '/r/medicine/comments/bbooz2/vanderbilt_nurse_error_killed_patient_nurse_now/', 'parent_whitelist_status': 'all_ads', 'stickied': False, 'url': 'https://www.npr.org/sections/health-shots/2019/04/10/709971677/when-a-nurse-is-prosecuted-for-a-fatal-medical-mistake-does-it-make-medicine-saf', 'subreddit_subscribers': 241148, 'created_utc': 1554916900.0, 'discussion_type': None, 'media': None, 'is_video': False}}, {'kind': 't3', 'data': {'approved_at_utc': None, 'subreddit': 'medicine', 'selftext': '', 'author_fullname': 't2_7f4ht', 'saved': False, 'mod_reason_title': None, 'gilded': 0, 'clicked': False, 'title': 'Medscape Physician Compensation Report 2019', 'link_flair_richtext': [], 'subreddit_name_prefixed': 'r/medicine', 'hidden': False, 'pwls': 6, 'link_flair_css_class': None, 'downs': 0, 'hide_score': False, 'name': 't3_bbrrrm', 'quarantine': False, 'link_flair_text_color': 'dark', 'author_flair_background_color': None, 'subreddit_type': 'public', 'ups': 243, 'total_awards_received': 0, 'media_embed': {}, 'author_flair_template_id': 'a8cf0dd4-4101-11e9-a972-0ed428fbb33e', 'is_original_content': False, 'user_reports': [], 'secure_media': None, 'is_reddit_media_domain': False, 'is_meta': False, 'category': None, 'secure_media_embed': {}, 'link_flair_text': None, 'can_mod_post': False, 'score': 243, 'approved_by': None, 'thumbnail': '', 'edited': False, 'author_flair_css_class': None, 'author_flair_richtext': [], 'gildings': {}, 'content_categories': None, 'is_self': False, 'mod_note': None, 'created': 1554961234.0, 'link_flair_type': 'text', 'wls': 6, 'banned_by': None, 'author_flair_type': 'text', 'domain': 'medscape.com', 'allow_live_comments': True, 'selftext_html': None, 'likes': None, 'suggested_sort': None, 'banned_at_utc': None, 'view_count': None, 'archived': False, 'no_follow': False, 'is_crosspostable': False, 'pinned': False, 'over_18': False, 'all_awardings': [], 'media_only': False, 'can_gild': False, 'spoiler': False, 'locked': False, 'author_flair_text': 'PGY-negative 2', 'visited': False, 'num_reports': None, 'distinguished': None, 'subreddit_id': 't5_2qhff', 'mod_reason_by': None, 'removal_reason': None, 'link_flair_background_color': '', 'id': 'bbrrrm', 'is_robot_indexable': True, 'report_reasons': None, 'author': 'swaggerfish', 'num_crossposts': 0, 'num_comments': 220, 'send_replies': True, 'whitelist_status': 'all_ads', 'contest_mode': False, 'mod_reports': [], 'author_patreon_flair': False, 'author_flair_text_color': 'dark', 'permalink': '/r/medicine/comments/bbrrrm/medscape_physician_compensation_report_2019/', 'parent_whitelist_status': 'all_ads', 'stickied': False, 'url': 'https://www.medscape.com/slideshow/2019-compensation-overview-6011286?src=WNL_physrep_190410_comp2019&amp;uac=321190HV&amp;impID=1933285&amp;faf=1#29', 'subreddit_subscribers': 241148, 'created_utc': 1554932434.0, 'discussion_type': None, 'media': None, 'is_video': False}}, {'kind': 't3', 'data': {'approved_at_utc': None, 'subreddit': 'medicine', 'selftext': 'Apologies if this belongs in the Careers thread but searching the sub there have been similar threads previously so I figured this should be okay. \\n\\nBasically I’m looking at doing a PGY-6 year fellowship which is fairly laid back clinically (1-2 days of clinic/week) and I’m looking at options for robust correspondence masters programs in Biostats/Clinical Epidemiology. I’ve tried googling around but a lot of information about the programs is vague. The idea is to bolster my abilities in clinical research and statistical analysis. I would likely be able to do up to a month or two of course work in person, and I have both Canadian/American citizenship but I’m training in Canada, so something in North America would be ideal. \\n\\nWe do have a local program but I’ve heard mixed things about it and I figured if I’m going to shell out for something like this I should get a good experience. It’d also be nice to have something that I can easily complete part time and from afar if it ends up requiring more than a year, as I’ll likely be relocating after PGY6. \\n\\nAnyone have any experience with this?', 'author_fullname': 't2_d8x5f', 'saved': False, 'mod_reason_title': None, 'gilded': 0, 'clicked': False, 'title': 'Masters of Biostats/ClinEpi done mostly online?', 'link_flair_richtext': [], 'subreddit_name_prefixed': 'r/medicine', 'hidden': False, 'pwls': 6, 'link_flair_css_class': None, 'downs': 0, 'hide_score': False, 'name': 't3_bc0wfc', 'quarantine': False, 'link_flair_text_color': 'dark', 'author_flair_background_color': None, 'subreddit_type': 'public', 'ups': 8, 'total_awards_received': 0, 'media_embed': {}, 'author_flair_template_id': 'a8cf0dd4-4101-11e9-a972-0ed428fbb33e', 'is_original_content': False, 'user_reports': [], 'secure_media': None, 'is_reddit_media_domain': False, 'is_meta': False, 'category': None, 'secure_media_embed': {}, 'link_flair_text': None, 'can_mod_post': False, 'score': 8, 'approved_by': None, 'thumbnail': '', 'edited': False, 'author_flair_css_class': None, 'author_flair_richtext': [], 'gildings': {}, 'content_categories': None, 'is_self': True, 'mod_note': None, 'created': 1555023682.0, 'link_flair_type': 'text', 'wls': 6, 'banned_by': None, 'author_flair_type': 'text', 'domain': 'self.medicine', 'allow_live_comments': False, 'selftext_html': '&lt;!-- SC_OFF --&gt;&lt;div class=\"md\"&gt;&lt;p&gt;Apologies if this belongs in the Careers thread but searching the sub there have been similar threads previously so I figured this should be okay. &lt;/p&gt;\\n\\n&lt;p&gt;Basically I’m looking at doing a PGY-6 year fellowship which is fairly laid back clinically (1-2 days of clinic/week) and I’m looking at options for robust correspondence masters programs in Biostats/Clinical Epidemiology. I’ve tried googling around but a lot of information about the programs is vague. The idea is to bolster my abilities in clinical research and statistical analysis. I would likely be able to do up to a month or two of course work in person, and I have both Canadian/American citizenship but I’m training in Canada, so something in North America would be ideal. &lt;/p&gt;\\n\\n&lt;p&gt;We do have a local program but I’ve heard mixed things about it and I figured if I’m going to shell out for something like this I should get a good experience. It’d also be nice to have something that I can easily complete part time and from afar if it ends up requiring more than a year, as I’ll likely be relocating after PGY6. &lt;/p&gt;\\n\\n&lt;p&gt;Anyone have any experience with this?&lt;/p&gt;\\n&lt;/div&gt;&lt;!-- SC_ON --&gt;', 'likes': None, 'suggested_sort': None, 'banned_at_utc': None, 'view_count': None, 'archived': False, 'no_follow': False, 'is_crosspostable': False, 'pinned': False, 'over_18': False, 'all_awardings': [], 'media_only': False, 'can_gild': False, 'spoiler': False, 'locked': False, 'author_flair_text': 'MD - PGY-5 Pulmonology', 'visited': False, 'num_reports': None, 'distinguished': None, 'subreddit_id': 't5_2qhff', 'mod_reason_by': None, 'removal_reason': None, 'link_flair_background_color': '', 'id': 'bc0wfc', 'is_robot_indexable': True, 'report_reasons': None, 'author': 'aerathor', 'num_crossposts': 0, 'num_comments': 8, 'send_replies': True, 'whitelist_status': 'all_ads', 'contest_mode': False, 'mod_reports': [], 'author_patreon_flair': False, 'author_flair_text_color': 'dark', 'permalink': '/r/medicine/comments/bc0wfc/masters_of_biostatsclinepi_done_mostly_online/', 'parent_whitelist_status': 'all_ads', 'stickied': False, 'url': 'https://www.reddit.com/r/medicine/comments/bc0wfc/masters_of_biostatsclinepi_done_mostly_online/', 'subreddit_subscribers': 241148, 'created_utc': 1554994882.0, 'discussion_type': None, 'media': None, 'is_video': False}}, {'kind': 't3', 'data': {'approved_at_utc': None, 'subreddit': 'medicine', 'selftext': 'Hello, i recently found a ([Review of dietary supplements and how they are connected with renal health](https://cjasn.asnjournals.org/content/2/4/757)) and i had a discussion with a few colleagues of mine about the use of dietary and fitness supplements and their side effects on renal health and physiology.  Do you think that the use of supplements such as creatine, protein powder or multivitamins can affect the kidneys or liver of a healthy person ?', 'author_fullname': 't2_nk8r7', 'saved': False, 'mod_reason_title': None, 'gilded': 0, 'clicked': False, 'title': '[QUESTION] Supplements and kidney health', 'link_flair_richtext': [], 'subreddit_name_prefixed': 'r/medicine', 'hidden': False, 'pwls': 6, 'link_flair_css_class': None, 'downs': 0, 'hide_score': False, 'name': 't3_bc153b', 'quarantine': False, 'link_flair_text_color': 'dark', 'author_flair_background_color': None, 'subreddit_type': 'public', 'ups': 7, 'total_awards_received': 0, 'media_embed': {}, 'author_flair_template_id': 'b7553168-50a6-11e8-95d8-0e6fcedead42', 'is_original_content': False, 'user_reports': [], 'secure_media': None, 'is_reddit_media_domain': False, 'is_meta': False, 'category': None, 'secure_media_embed': {}, 'link_flair_text': None, 'can_mod_post': False, 'score': 7, 'approved_by': None, 'thumbnail': '', 'edited': False, 'author_flair_css_class': None, 'author_flair_richtext': [], 'gildings': {}, 'content_categories': None, 'is_self': True, 'mod_note': None, 'created': 1555024923.0, 'link_flair_type': 'text', 'wls': 6, 'banned_by': None, 'author_flair_type': 'text', 'domain': 'self.medicine', 'allow_live_comments': False, 'selftext_html': '&lt;!-- SC_OFF --&gt;&lt;div class=\"md\"&gt;&lt;p&gt;Hello, i recently found a (&lt;a href=\"https://cjasn.asnjournals.org/content/2/4/757\"&gt;Review of dietary supplements and how they are connected with renal health&lt;/a&gt;) and i had a discussion with a few colleagues of mine about the use of dietary and fitness supplements and their side effects on renal health and physiology.  Do you think that the use of supplements such as creatine, protein powder or multivitamins can affect the kidneys or liver of a healthy person ?&lt;/p&gt;\\n&lt;/div&gt;&lt;!-- SC_ON --&gt;', 'likes': None, 'suggested_sort': None, 'banned_at_utc': None, 'view_count': None, 'archived': False, 'no_follow': False, 'is_crosspostable': False, 'pinned': False, 'over_18': False, 'all_awardings': [], 'media_only': False, 'can_gild': False, 'spoiler': False, 'locked': False, 'author_flair_text': 'Medical Student', 'visited': False, 'num_reports': None, 'distinguished': None, 'subreddit_id': 't5_2qhff', 'mod_reason_by': None, 'removal_reason': None, 'link_flair_background_color': '', 'id': 'bc153b', 'is_robot_indexable': True, 'report_reasons': None, 'author': 'Thxnos', 'num_crossposts': 0, 'num_comments': 14, 'send_replies': True, 'whitelist_status': 'all_ads', 'contest_mode': False, 'mod_reports': [], 'author_patreon_flair': False, 'author_flair_text_color': 'dark', 'permalink': '/r/medicine/comments/bc153b/question_supplements_and_kidney_health/', 'parent_whitelist_status': 'all_ads', 'stickied': False, 'url': 'https://www.reddit.com/r/medicine/comments/bc153b/question_supplements_and_kidney_health/', 'subreddit_subscribers': 241148, 'created_utc': 1554996123.0, 'discussion_type': None, 'media': None, 'is_video': False}}, {'kind': 't3', 'data': {'approved_at_utc': None, 'subreddit': 'medicine', 'selftext': '', 'author_fullname': 't2_l96t4', 'saved': False, 'mod_reason_title': None, 'gilded': 0, 'clicked': False, 'title': 'German doctors walk off job in nationwide strike', 'link_flair_richtext': [], 'subreddit_name_prefixed': 'r/medicine', 'hidden': False, 'pwls': 6, 'link_flair_css_class': None, 'downs': 0, 'hide_score': False, 'name': 't3_bbkg1w', 'quarantine': False, 'link_flair_text_color': 'dark', 'author_flair_background_color': None, 'subreddit_type': 'public', 'ups': 745, 'total_awards_received': 0, 'media_embed': {}, 'author_flair_template_id': 'a8cf0dd4-4101-11e9-a972-0ed428fbb33e', 'is_original_content': False, 'user_reports': [], 'secure_media': None, 'is_reddit_media_domain': False, 'is_meta': False, 'category': None, 'secure_media_embed': {}, 'link_flair_text': None, 'can_mod_post': False, 'score': 745, 'approved_by': None, 'thumbnail': '', 'edited': False, 'author_flair_css_class': None, 'author_flair_richtext': [], 'gildings': {}, 'content_categories': None, 'is_self': False, 'mod_note': None, 'created': 1554921231.0, 'link_flair_type': 'text', 'wls': 6, 'banned_by': None, 'author_flair_type': 'text', 'domain': 'thelocal.de', 'allow_live_comments': True, 'selftext_html': None, 'likes': None, 'suggested_sort': None, 'banned_at_utc': None, 'view_count': None, 'archived': False, 'no_follow': False, 'is_crosspostable': False, 'pinned': False, 'over_18': False, 'all_awardings': [], 'media_only': False, 'can_gild': False, 'spoiler': False, 'locked': False, 'author_flair_text': 'Medical Student (Y5-EU)', 'visited': False, 'num_reports': None, 'distinguished': None, 'subreddit_id': 't5_2qhff', 'mod_reason_by': None, 'removal_reason': None, 'link_flair_background_color': '', 'id': 'bbkg1w', 'is_robot_indexable': True, 'report_reasons': None, 'author': 'Nom_de_Guerre_23', 'num_crossposts': 1, 'num_comments': 290, 'send_replies': True, 'whitelist_status': 'all_ads', 'contest_mode': False, 'mod_reports': [], 'author_patreon_flair': False, 'author_flair_text_color': 'dark', 'permalink': '/r/medicine/comments/bbkg1w/german_doctors_walk_off_job_in_nationwide_strike/', 'parent_whitelist_status': 'all_ads', 'stickied': False, 'url': 'https://www.thelocal.de/20190410/wednesdays-doctor-strike', 'subreddit_subscribers': 241148, 'created_utc': 1554892431.0, 'discussion_type': None, 'media': None, 'is_video': False}}, {'kind': 't3', 'data': {'approved_at_utc': None, 'subreddit': 'medicine', 'selftext': '', 'author_fullname': 't2_89ae6', 'saved': False, 'mod_reason_title': None, 'gilded': 0, 'clicked': False, 'title': 'Chlorhexidine versus routine bathing to prevent multidrug-resistant organisms and all-cause bloodstream infections in general medical and surgical units (ABATE Infection trial): a cluster-randomised trial', 'link_flair_richtext': [], 'subreddit_name_prefixed': 'r/medicine', 'hidden': False, 'pwls': 6, 'link_flair_css_class': None, 'downs': 0, 'hide_score': False, 'name': 't3_bbpu4o', 'quarantine': False, 'link_flair_text_color': 'dark', 'author_flair_background_color': None, 'subreddit_type': 'public', 'ups': 84, 'total_awards_received': 0, 'media_embed': {}, 'author_flair_template_id': 'a8cf0dd4-4101-11e9-a972-0ed428fbb33e', 'is_original_content': False, 'user_reports': [], 'secure_media': None, 'is_reddit_media_domain': False, 'is_meta': False, 'category': None, 'secure_media_embed': {}, 'link_flair_text': None, 'can_mod_post': False, 'score': 84, 'approved_by': None, 'thumbnail': '', 'edited': False, 'author_flair_css_class': None, 'author_flair_richtext': [], 'gildings': {}, 'content_categories': None, 'is_self': False, 'mod_note': None, 'created': 1554951327.0, 'link_flair_type': 'text', 'wls': 6, 'banned_by': None, 'author_flair_type': 'text', 'domain': 'thelancet.com', 'allow_live_comments': False, 'selftext_html': None, 'likes': None, 'suggested_sort': None, 'banned_at_utc': None, 'view_count': None, 'archived': False, 'no_follow': False, 'is_crosspostable': False, 'pinned': False, 'over_18': False, 'all_awardings': [], 'media_only': False, 'can_gild': False, 'spoiler': False, 'locked': False, 'author_flair_text': 'RN, ICU', 'visited': False, 'num_reports': None, 'distinguished': None, 'subreddit_id': 't5_2qhff', 'mod_reason_by': None, 'removal_reason': None, 'link_flair_background_color': '', 'id': 'bbpu4o', 'is_robot_indexable': True, 'report_reasons': None, 'author': 'seamslegit', 'num_crossposts': 0, 'num_comments': 25, 'send_replies': True, 'whitelist_status': 'all_ads', 'contest_mode': False, 'mod_reports': [], 'author_patreon_flair': False, 'author_flair_text_color': 'dark', 'permalink': '/r/medicine/comments/bbpu4o/chlorhexidine_versus_routine_bathing_to_prevent/', 'parent_whitelist_status': 'all_ads', 'stickied': False, 'url': 'https://www.thelancet.com/journals/lancet/article/PIIS0140-6736(18)32593-5/fulltext', 'subreddit_subscribers': 241148, 'created_utc': 1554922527.0, 'discussion_type': None, 'media': None, 'is_video': False}}, {'kind': 't3', 'data': {'approved_at_utc': None, 'subreddit': 'medicine', 'selftext': 'Are clinics that advertise they accept new Medicare/Medicaid patients allowed to review charts of patients and then choose which patients to accept or not?\\n\\nI work in a small rural clinic that sees nothing but patients on my state\\'s Medicaid program. Once they turn 65 and are eligible for Medicare, they \"age out\" of our clinic and have to be seen somewhere else.\\n\\nThe problem is that there are only 2 other clinics in town (both significantly larger than mine with many mid-levels, one of which is the FM clinic in the local hospital) that take Medicare patients.  Both of these clinics are requesting records so that they may review them first, and if there is any sign of difficulty or complexity, are refusing to see them.\\n\\nIn the past, it was usually stuff like people on chronic pain meds.  These days it is anything that looks complicated.\\n\\n\\nI have a patient who is about to age out of my clinic with a history of stroke and mental illness that may be secondary to the stroke. She is not on pain meds, she has never missed an appointment, but she is a little cooky and minimally abrasive.  I literally cannot get anybody in town to see her because she has all sorts of issues.  She is a demanding patient that takes up lots of time.\\n\\n\\nI have been told that the clinics only want quick and easy patients who will nicely fit into infrequent 15-20 minutes scheduled appointments.  \\n\\n\\nSo my question is, is this legal?\\nCan clinics that advertise that they are accepting new Medicare/Medicaid pick and choose patients and refuse ones based on difficulty disability?\\n\\nAnd if not, what are the steps I can use to help these patients out?', 'author_fullname': 't2_fc6rb', 'saved': False, 'mod_reason_title': None, 'gilded': 0, 'clicked': False, 'title': 'Discrimination when taking new Medicare/Medicaid patients. Looking for help and advise here.', 'link_flair_richtext': [], 'subreddit_name_prefixed': 'r/medicine', 'hidden': False, 'pwls': 6, 'link_flair_css_class': None, 'downs': 0, 'hide_score': False, 'name': 't3_bbowqv', 'quarantine': False, 'link_flair_text_color': 'dark', 'author_flair_background_color': None, 'subreddit_type': 'public', 'ups': 39, 'total_awards_received': 0, 'media_embed': {}, 'author_flair_template_id': 'abb8514c-4d76-11e8-bbf5-0ec706991ea4', 'is_original_content': False, 'user_reports': [], 'secure_media': None, 'is_reddit_media_domain': False, 'is_meta': False, 'category': None, 'secure_media_embed': {}, 'link_flair_text': None, 'can_mod_post': False, 'score': 39, 'approved_by': None, 'thumbnail': '', 'edited': False, 'author_flair_css_class': None, 'author_flair_richtext': [], 'gildings': {}, 'content_categories': None, 'is_self': True, 'mod_note': None, 'created': 1554946764.0, 'link_flair_type': 'text', 'wls': 6, 'banned_by': None, 'author_flair_type': 'text', 'domain': 'self.medicine', 'allow_live_comments': False, 'selftext_html': '&lt;!-- SC_OFF --&gt;&lt;div class=\"md\"&gt;&lt;p&gt;Are clinics that advertise they accept new Medicare/Medicaid patients allowed to review charts of patients and then choose which patients to accept or not?&lt;/p&gt;\\n\\n&lt;p&gt;I work in a small rural clinic that sees nothing but patients on my state&amp;#39;s Medicaid program. Once they turn 65 and are eligible for Medicare, they &amp;quot;age out&amp;quot; of our clinic and have to be seen somewhere else.&lt;/p&gt;\\n\\n&lt;p&gt;The problem is that there are only 2 other clinics in town (both significantly larger than mine with many mid-levels, one of which is the FM clinic in the local hospital) that take Medicare patients.  Both of these clinics are requesting records so that they may review them first, and if there is any sign of difficulty or complexity, are refusing to see them.&lt;/p&gt;\\n\\n&lt;p&gt;In the past, it was usually stuff like people on chronic pain meds.  These days it is anything that looks complicated.&lt;/p&gt;\\n\\n&lt;p&gt;I have a patient who is about to age out of my clinic with a history of stroke and mental illness that may be secondary to the stroke. She is not on pain meds, she has never missed an appointment, but she is a little cooky and minimally abrasive.  I literally cannot get anybody in town to see her because she has all sorts of issues.  She is a demanding patient that takes up lots of time.&lt;/p&gt;\\n\\n&lt;p&gt;I have been told that the clinics only want quick and easy patients who will nicely fit into infrequent 15-20 minutes scheduled appointments.  &lt;/p&gt;\\n\\n&lt;p&gt;So my question is, is this legal?\\nCan clinics that advertise that they are accepting new Medicare/Medicaid pick and choose patients and refuse ones based on difficulty disability?&lt;/p&gt;\\n\\n&lt;p&gt;And if not, what are the steps I can use to help these patients out?&lt;/p&gt;\\n&lt;/div&gt;&lt;!-- SC_ON --&gt;', 'likes': None, 'suggested_sort': None, 'banned_at_utc': None, 'view_count': None, 'archived': False, 'no_follow': False, 'is_crosspostable': False, 'pinned': False, 'over_18': False, 'all_awardings': [], 'media_only': False, 'can_gild': False, 'spoiler': False, 'locked': False, 'author_flair_text': 'PA-C', 'visited': False, 'num_reports': None, 'distinguished': None, 'subreddit_id': 't5_2qhff', 'mod_reason_by': None, 'removal_reason': None, 'link_flair_background_color': '', 'id': 'bbowqv', 'is_robot_indexable': True, 'report_reasons': None, 'author': '68W2PA', 'num_crossposts': 0, 'num_comments': 21, 'send_replies': True, 'whitelist_status': 'all_ads', 'contest_mode': False, 'mod_reports': [], 'author_patreon_flair': False, 'author_flair_text_color': 'dark', 'permalink': '/r/medicine/comments/bbowqv/discrimination_when_taking_new_medicaremedicaid/', 'parent_whitelist_status': 'all_ads', 'stickied': False, 'url': 'https://www.reddit.com/r/medicine/comments/bbowqv/discrimination_when_taking_new_medicaremedicaid/', 'subreddit_subscribers': 241148, 'created_utc': 1554917964.0, 'discussion_type': None, 'media': None, 'is_video': False}}, {'kind': 't3', 'data': {'approved_at_utc': None, 'subreddit': 'medicine', 'selftext': '', 'author_fullname': 't2_mwvx9', 'saved': False, 'mod_reason_title': None, 'gilded': 0, 'clicked': False, 'title': 'What’s the diagnosis? Seen in rural Swaziland, Africa', 'link_flair_richtext': [], 'subreddit_name_prefixed': 'r/medicine', 'hidden': False, 'pwls': 6, 'link_flair_css_class': None, 'downs': 0, 'hide_score': False, 'name': 't3_bbndl5', 'quarantine': False, 'link_flair_text_color': 'dark', 'author_flair_background_color': None, 'subreddit_type': 'public', 'ups': 45, 'total_awards_received': 0, 'media_embed': {}, 'author_flair_template_id': 'b7553168-50a6-11e8-95d8-0e6fcedead42', 'is_original_content': False, 'user_reports': [], 'secure_media': None, 'is_reddit_media_domain': True, 'is_meta': False, 'category': None, 'secure_media_embed': {}, 'link_flair_text': None, 'can_mod_post': False, 'score': 45, 'approved_by': None, 'thumbnail': '', 'edited': False, 'author_flair_css_class': None, 'author_flair_richtext': [], 'gildings': {}, 'content_categories': None, 'is_self': False, 'mod_note': None, 'created': 1554939092.0, 'link_flair_type': 'text', 'wls': 6, 'banned_by': None, 'author_flair_type': 'text', 'domain': 'i.redd.it', 'allow_live_comments': True, 'selftext_html': None, 'likes': None, 'suggested_sort': None, 'banned_at_utc': None, 'view_count': None, 'archived': False, 'no_follow': False, 'is_crosspostable': False, 'pinned': False, 'over_18': False, 'all_awardings': [], 'media_only': False, 'can_gild': False, 'spoiler': False, 'locked': False, 'author_flair_text': 'Medical Student', 'visited': False, 'num_reports': None, 'distinguished': None, 'subreddit_id': 't5_2qhff', 'mod_reason_by': None, 'removal_reason': None, 'link_flair_background_color': '', 'id': 'bbndl5', 'is_robot_indexable': True, 'report_reasons': None, 'author': 'svakee2000', 'num_crossposts': 0, 'num_comments': 26, 'send_replies': True, 'whitelist_status': 'all_ads', 'contest_mode': False, 'mod_reports': [], 'author_patreon_flair': False, 'author_flair_text_color': 'dark', 'permalink': '/r/medicine/comments/bbndl5/whats_the_diagnosis_seen_in_rural_swaziland_africa/', 'parent_whitelist_status': 'all_ads', 'stickied': False, 'url': 'https://i.redd.it/6ls4vgm2hgr21.jpg', 'subreddit_subscribers': 241148, 'created_utc': 1554910292.0, 'discussion_type': None, 'media': None, 'is_video': False}}, {'kind': 't3', 'data': {'approved_at_utc': None, 'subreddit': 'medicine', 'selftext': '', 'author_fullname': 't2_4aack', 'saved': False, 'mod_reason_title': None, 'gilded': 0, 'clicked': False, 'title': 'Toilet seat monitors heart failure', 'link_flair_richtext': [], 'subreddit_name_prefixed': 'r/medicine', 'hidden': False, 'pwls': 6, 'link_flair_css_class': None, 'downs': 0, 'hide_score': False, 'name': 't3_bbujir', 'quarantine': False, 'link_flair_text_color': 'dark', 'author_flair_background_color': '', 'subreddit_type': 'public', 'ups': 6, 'total_awards_received': 0, 'media_embed': {}, 'author_flair_template_id': None, 'is_original_content': False, 'user_reports': [], 'secure_media': None, 'is_reddit_media_domain': False, 'is_meta': False, 'category': None, 'secure_media_embed': {}, 'link_flair_text': None, 'can_mod_post': False, 'score': 6, 'approved_by': None, 'thumbnail': '', 'edited': False, 'author_flair_css_class': '', 'author_flair_richtext': [], 'gildings': {}, 'content_categories': None, 'is_self': False, 'mod_note': None, 'created': 1554976898.0, 'link_flair_type': 'text', 'wls': 6, 'banned_by': None, 'author_flair_type': 'text', 'domain': 'democratandchronicle.com', 'allow_live_comments': False, 'selftext_html': None, 'likes': None, 'suggested_sort': None, 'banned_at_utc': None, 'view_count': None, 'archived': False, 'no_follow': False, 'is_crosspostable': False, 'pinned': False, 'over_18': False, 'all_awardings': [], 'media_only': False, 'can_gild': False, 'spoiler': False, 'locked': False, 'author_flair_text': 'CT surgery', 'visited': False, 'num_reports': None, 'distinguished': None, 'subreddit_id': 't5_2qhff', 'mod_reason_by': None, 'removal_reason': None, 'link_flair_background_color': '', 'id': 'bbujir', 'is_robot_indexable': True, 'report_reasons': None, 'author': 'drshooter', 'num_crossposts': 0, 'num_comments': 9, 'send_replies': True, 'whitelist_status': 'all_ads', 'contest_mode': False, 'mod_reports': [], 'author_patreon_flair': False, 'author_flair_text_color': 'dark', 'permalink': '/r/medicine/comments/bbujir/toilet_seat_monitors_heart_failure/', 'parent_whitelist_status': 'all_ads', 'stickied': False, 'url': 'https://www.democratandchronicle.com/story/news/2019/04/09/toilet-seat-heart-failure-rit-nicholas-conn-health-intelligence-karl-schwarz-urmc/3231992002/?fbclid=IwAR3RMQMr095HXOivnmd9OWvrC1sWToQCv5coqqwPEkwQiXRPxv8WsxcOoXI', 'subreddit_subscribers': 241148, 'created_utc': 1554948098.0, 'discussion_type': None, 'media': None, 'is_video': False}}]\n"
     ]
    }
   ],
   "source": [
    "# investigate what's associated with a particular (\"sub\")key from the list above:\n",
    "# print('json key: after -  \\n', the_json['data']['after'])\n",
    "# print('json key: before -  \\n', the_json['data']['before'])\n",
    "print('json key: children -  \\n', the_json['data']['children'])\n",
    "# print('json key: dist -  \\n', the_json['data']['dist'])\n",
    "# print('json key: modhash -  \\n', the_json['data']['modhash'])\n",
    "\n",
    "# print('json key: title -  \\n', the_json['data']['title']\n",
    "# print('json key: permalink -  \\n', the_json['data']['permalink'])\n",
    "# print('json key: url -  \\n', the_json['data']['url'])\n",
    "# print('json key: domain -  \\n', the_json['data']['domain'])\n",
    "# print('json key: content_categories -  \\n', the_json['data']['content_categories'])\n",
    "# print('json key: author_flair_text -  \\n', the_json['data']['author_flair_text'])\n",
    "\n",
    "\n",
    "\n",
    "# title\n",
    "# url\n",
    "# permalink\n",
    "\n",
    "# approved_at_utc\n",
    "# subreddit\n",
    "# subreddit_name_prefixed\n",
    "# subreddit_type\n",
    "# subreddit_id\n",
    "# selftext\n",
    "# author_fullname\n",
    "# saved\n",
    "# is_original_content\n",
    "# content_categories\n",
    "# domain\n",
    "# author_flair_text\n"
   ]
  },
  {
   "cell_type": "code",
   "execution_count": null,
   "metadata": {},
   "outputs": [],
   "source": [
    "# count the number of posts (per scrape?)...\n",
    "\n",
    "# 1st run = 100\n",
    "# 2nd run = 200\n",
    "len(set([p['data']['name'] for p in import_med_posts]))\n",
    "\n"
   ]
  },
  {
   "cell_type": "code",
   "execution_count": null,
   "metadata": {},
   "outputs": [],
   "source": []
  },
  {
   "cell_type": "code",
   "execution_count": null,
   "metadata": {},
   "outputs": [],
   "source": []
  },
  {
   "cell_type": "code",
   "execution_count": null,
   "metadata": {},
   "outputs": [],
   "source": []
  },
  {
   "cell_type": "markdown",
   "metadata": {},
   "source": [
    "## Reddit API Data Collection is complete"
   ]
  },
  {
   "cell_type": "markdown",
   "metadata": {},
   "source": [
    "Proceed to the next notebook:\n",
    "- [SubReddit_NLP_Data_Cleaning](02_SubReddit_NLP_Data_Cleaning.ipynb)\n"
   ]
  },
  {
   "cell_type": "code",
   "execution_count": null,
   "metadata": {},
   "outputs": [],
   "source": []
  },
  {
   "cell_type": "code",
   "execution_count": null,
   "metadata": {},
   "outputs": [],
   "source": []
  },
  {
   "cell_type": "markdown",
   "metadata": {},
   "source": [
    "---\n",
    "---\n",
    "\n",
    "# ![](https://ga-dash.s3.amazonaws.com/production/assets/logo-9f88ae6c9c3871690e33280fcf557f33.png) Project 3: Web APIs & Classification\n",
    "\n"
   ]
  },
  {
   "cell_type": "markdown",
   "metadata": {},
   "source": [
    "### The Data Science Process\n",
    "\n",
    "**Problem Statement**\n",
    "- Is it clear what the goal of the project is?\n",
    "- What type of model will be developed?\n",
    "- How will success be evaluated?\n",
    "- Is the scope of the project appropriate?\n",
    "- Is it clear who cares about this or why this is important to investigate?\n",
    "- Does the student consider the audience and the primary and secondary stakeholders?\n",
    "\n",
    "**Data Collection**\n",
    "- Was enough data gathered to generate a significant result?\n",
    "- Was data collected that was useful and relevant to the project?\n",
    "- Was data collection and storage optimized through custom functions, pipelines, and/or automation?\n",
    "- Was thought given to the server receiving the requests such as considering number of requests per second?\n",
    "\n",
    "**Data Cleaning and EDA**\n",
    "- Are missing values imputed/handled appropriately?\n",
    "- Are distributions examined and described?\n",
    "- Are outliers identified and addressed?\n",
    "- Are appropriate summary statistics provided?\n",
    "- Are steps taken during data cleaning and EDA framed appropriately?\n",
    "- Does the student address whether or not they are likely to be able to answer their problem statement with the provided data given what they've discovered during EDA?\n",
    "\n",
    "**Preprocessing and Modeling**\n",
    "- Is text data successfully converted to a matrix representation?\n",
    "- Are methods such as stop words, stemming, and lemmatization explored?\n",
    "- Does the student properly split and/or sample the data for validation/training purposes?\n",
    "- Does the student test and evaluate a variety of models to identify a production algorithm (**AT MINIMUM:** Bayes and one other model)?\n",
    "- Does the student defend their choice of production model relevant to the data at hand and the problem?\n",
    "- Does the student explain how the model works and evaluate its performance successes/downfalls?\n",
    "\n",
    "**Evaluation and Conceptual Understanding**\n",
    "- Does the student accurately identify and explain the baseline score?\n",
    "- Does the student select and use metrics relevant to the problem objective?\n",
    "- Does the student interpret the results of their model for purposes of inference?\n",
    "- Is domain knowledge demonstrated when interpreting results?\n",
    "- Does the student provide appropriate interpretation with regards to descriptive and inferential statistics?\n",
    "\n",
    "**Conclusion and Recommendations**\n",
    "- Does the student provide appropriate context to connect individual steps back to the overall project?\n",
    "- Is it clear how the final recommendations were reached?\n",
    "- Are the conclusions/recommendations clearly stated?\n",
    "- Does the conclusion answer the original problem statement?\n",
    "- Does the student address how findings of this research can be applied for the benefit of stakeholders?\n",
    "- Are future steps to move the project forward identified?\n",
    "\n"
   ]
  }
 ],
 "metadata": {
  "kernelspec": {
   "display_name": "Python 3",
   "language": "python",
   "name": "python3"
  },
  "language_info": {
   "codemirror_mode": {
    "name": "ipython",
    "version": 3
   },
   "file_extension": ".py",
   "mimetype": "text/x-python",
   "name": "python",
   "nbconvert_exporter": "python",
   "pygments_lexer": "ipython3",
   "version": "3.6.8"
  }
 },
 "nbformat": 4,
 "nbformat_minor": 2
}
