{
 "cells": [
  {
   "cell_type": "markdown",
   "metadata": {},
   "source": [
    "# ![](https://ga-dash.s3.amazonaws.com/production/assets/logo-9f88ae6c9c3871690e33280fcf557f33.png)  Project 3: Web APIs & Classification\n",
    "Reddit's API:  Data Wrangling, Natural Language Processing, and Classification Modeling\n"
   ]
  },
  {
   "cell_type": "markdown",
   "metadata": {},
   "source": [
    "This project covers three of the biggest concepts in Data Science:\n",
    "- Data Wrangling/Acquisition\n",
    "- Natural Language Processing\n",
    "- Classification Modeling"
   ]
  },
  {
   "cell_type": "markdown",
   "metadata": {},
   "source": [
    "---\n",
    "## Technical Report:   *Reddit API Data Collection*\n",
    "This notebook --just one component of the overall project-- reflects the collection/scraping of two subreddits (subject-specific Reddit user communities) of my choosing.\n",
    "\n",
    "Part 1 of the project focuses on **Data wrangling/gathering/acquisition**. \n",
    "The expectatiion is that not all acquired data will be clean or in a structured/organized format (like a single .csv file or SQL table). While an API request for data is ideal, some scraping may be required if the website of interest does not have an API (or it's terribly documented).\n",
    "\n",
    "Within this notebook, scraped data is saved to .csv datasets which can be referenced here:\n",
    "- `RAW_subreddit_NUTRITION.csv`:  [subreddit: Nutrition](../data/RAW_subreddit_NUTRITION.csv)\n",
    "- `RAW_subreddit_MEDICINE.csv`:  [subreddit: Medicine](../data/RAW_subreddit_MEDICINE.csv)\n",
    "\n",
    "The concatenated data can be referenced here:\n",
    "- `SUBREDDITS.csv`: [concatenated: Nutrition & Medicine](../data/SUBREDDITS.csv)\n",
    "\n",
    "Ultimately this data will be used with NLP to train a classifier on which subreddit a given post came from. **This is a binary classification problem**. \n"
   ]
  },
  {
   "cell_type": "markdown",
   "metadata": {},
   "source": [
    "---\n",
    "## Reddit API Data Collection"
   ]
  },
  {
   "cell_type": "markdown",
   "metadata": {},
   "source": [
    "#### About the API\n",
    "\n",
    "Reddit's API is fairly straightforward. For example, posts from the [`/r/boardgames`](https://www.reddit.com/r/boardgames) subreddit can be obtained by adding `.json` to the end of the url: https://www.reddit.com/r/boardgames.json. Data is returned in `.json` format which is similar to a Python dictionary structure."
   ]
  },
  {
   "cell_type": "markdown",
   "metadata": {},
   "source": [
    "## Subreddit Selection\n",
    "\n",
    "Generally I found that subreddits with larger user communities generate more posts, which are the source of data for this project. I chose to scrape two closely related subreddits: Nutrition and Medicine.\n",
    " - `Nutrition` subreddit: 456K members / 8K+ posts scraped\n",
    " - `Medicine` subreddit:  241K members / 5K+ posts scraped\n",
    "\n"
   ]
  },
  {
   "cell_type": "markdown",
   "metadata": {},
   "source": [
    "## Import Required Python Libraries"
   ]
  },
  {
   "cell_type": "code",
   "execution_count": 1,
   "metadata": {},
   "outputs": [],
   "source": [
    "# required to make API requests\n",
    "import requests\n",
    "# required to throttle your scraping loop... \n",
    "import time\n",
    "# required for get_date function...\n",
    "import datetime as dt\n",
    "# required to ignore warnings\n",
    "import warnings\n",
    "warnings.filterwarnings(\"ignore\")"
   ]
  },
  {
   "cell_type": "code",
   "execution_count": 2,
   "metadata": {},
   "outputs": [],
   "source": [
    "# Python libraries used for data analysis\n",
    "import numpy as np\n",
    "import pandas as pd\n",
    "import matplotlib.pyplot as plt\n",
    "%matplotlib inline"
   ]
  },
  {
   "cell_type": "markdown",
   "metadata": {},
   "source": [
    "### Build a scraper to grab posts"
   ]
  },
  {
   "cell_type": "code",
   "execution_count": 3,
   "metadata": {},
   "outputs": [],
   "source": [
    "# function code from GA alumni Josh Robin and Brian Collins' lecture\n",
    "# uses pushshift API\n",
    "def query_pushshift(subreddit, kind='submission', skip=30, times=18, \n",
    "                    subfield = ['title', 'selftext', 'subreddit', 'created_utc', 'author', 'num_comments', 'score', 'is_self'],\n",
    "                    comfields = ['body', 'score', 'created_utc']):\n",
    "\n",
    "    stem = \"https://api.pushshift.io/reddit/search/{}/?subreddit={}&size=500\".format(kind, subreddit)\n",
    "    mylist = []\n",
    "    \n",
    "    for x in range(1, times):\n",
    "        \n",
    "        URL = \"{}&after={}d\".format(stem, skip * x)\n",
    "        print(URL)\n",
    "        response = requests.get(URL)\n",
    "        assert response.status_code == 200\n",
    "        mine = response.json()['data']\n",
    "        df = pd.DataFrame.from_dict(mine)\n",
    "        mylist.append(df)\n",
    "        time.sleep(2)\n",
    "        \n",
    "    full = pd.concat(mylist, sort=False)\n",
    "    \n",
    "    if kind == \"submission\":\n",
    "        \n",
    "        full = full[subfield]\n",
    "        \n",
    "        full = full.drop_duplicates()\n",
    "        \n",
    "        full = full.loc[full['is_self'] == True]\n",
    "        \n",
    "    def get_date(created):\n",
    "        return dt.date.fromtimestamp(created)\n",
    "    \n",
    "    _timestamp = full[\"created_utc\"].apply(get_date)\n",
    "    \n",
    "    full['timestamp'] = _timestamp\n",
    "\n",
    "    print(full.shape)\n",
    "    \n",
    "    return full"
   ]
  },
  {
   "cell_type": "markdown",
   "metadata": {},
   "source": [
    "## Scrape data: Nutrition  *(8,453 - 2,275 \"removed\" = 6,178)*"
   ]
  },
  {
   "cell_type": "code",
   "execution_count": 4,
   "metadata": {
    "scrolled": true
   },
   "outputs": [
    {
     "name": "stdout",
     "output_type": "stream",
     "text": [
      "https://api.pushshift.io/reddit/search/submission/?subreddit=nutrition&size=500&after=30d\n",
      "https://api.pushshift.io/reddit/search/submission/?subreddit=nutrition&size=500&after=60d\n",
      "https://api.pushshift.io/reddit/search/submission/?subreddit=nutrition&size=500&after=90d\n",
      "https://api.pushshift.io/reddit/search/submission/?subreddit=nutrition&size=500&after=120d\n",
      "https://api.pushshift.io/reddit/search/submission/?subreddit=nutrition&size=500&after=150d\n",
      "https://api.pushshift.io/reddit/search/submission/?subreddit=nutrition&size=500&after=180d\n",
      "https://api.pushshift.io/reddit/search/submission/?subreddit=nutrition&size=500&after=210d\n",
      "https://api.pushshift.io/reddit/search/submission/?subreddit=nutrition&size=500&after=240d\n",
      "https://api.pushshift.io/reddit/search/submission/?subreddit=nutrition&size=500&after=270d\n",
      "https://api.pushshift.io/reddit/search/submission/?subreddit=nutrition&size=500&after=300d\n",
      "https://api.pushshift.io/reddit/search/submission/?subreddit=nutrition&size=500&after=330d\n",
      "https://api.pushshift.io/reddit/search/submission/?subreddit=nutrition&size=500&after=360d\n",
      "https://api.pushshift.io/reddit/search/submission/?subreddit=nutrition&size=500&after=390d\n",
      "https://api.pushshift.io/reddit/search/submission/?subreddit=nutrition&size=500&after=420d\n",
      "https://api.pushshift.io/reddit/search/submission/?subreddit=nutrition&size=500&after=450d\n",
      "https://api.pushshift.io/reddit/search/submission/?subreddit=nutrition&size=500&after=480d\n",
      "https://api.pushshift.io/reddit/search/submission/?subreddit=nutrition&size=500&after=510d\n",
      "(8457, 9)\n"
     ]
    }
   ],
   "source": [
    "# invoke scraper function\n",
    "nutrition_posts = query_pushshift('nutrition')"
   ]
  },
  {
   "cell_type": "markdown",
   "metadata": {},
   "source": [
    "### Create a backup of the raw data: Nutrition"
   ]
  },
  {
   "cell_type": "code",
   "execution_count": 5,
   "metadata": {},
   "outputs": [],
   "source": [
    "# create dataframe of subreddit\n",
    "raw_df_nutr = pd.DataFrame(nutrition_posts)"
   ]
  },
  {
   "cell_type": "code",
   "execution_count": 6,
   "metadata": {},
   "outputs": [
    {
     "data": {
      "text/html": [
       "<div>\n",
       "<style scoped>\n",
       "    .dataframe tbody tr th:only-of-type {\n",
       "        vertical-align: middle;\n",
       "    }\n",
       "\n",
       "    .dataframe tbody tr th {\n",
       "        vertical-align: top;\n",
       "    }\n",
       "\n",
       "    .dataframe thead th {\n",
       "        text-align: right;\n",
       "    }\n",
       "</style>\n",
       "<table border=\"1\" class=\"dataframe\">\n",
       "  <thead>\n",
       "    <tr style=\"text-align: right;\">\n",
       "      <th></th>\n",
       "      <th>title</th>\n",
       "      <th>selftext</th>\n",
       "      <th>subreddit</th>\n",
       "      <th>created_utc</th>\n",
       "      <th>author</th>\n",
       "      <th>num_comments</th>\n",
       "      <th>score</th>\n",
       "      <th>is_self</th>\n",
       "      <th>timestamp</th>\n",
       "    </tr>\n",
       "  </thead>\n",
       "  <tbody>\n",
       "    <tr>\n",
       "      <th>0</th>\n",
       "      <td>What's the best way to gradually stop eating j...</td>\n",
       "      <td></td>\n",
       "      <td>nutrition</td>\n",
       "      <td>1560311690</td>\n",
       "      <td>MortelleTSpears</td>\n",
       "      <td>11</td>\n",
       "      <td>5</td>\n",
       "      <td>True</td>\n",
       "      <td>2019-06-11</td>\n",
       "    </tr>\n",
       "    <tr>\n",
       "      <th>1</th>\n",
       "      <td>The 2 best veggies</td>\n",
       "      <td>Imagine you have access to all kinds of vegeta...</td>\n",
       "      <td>nutrition</td>\n",
       "      <td>1560313777</td>\n",
       "      <td>brumate</td>\n",
       "      <td>10</td>\n",
       "      <td>5</td>\n",
       "      <td>True</td>\n",
       "      <td>2019-06-12</td>\n",
       "    </tr>\n",
       "    <tr>\n",
       "      <th>2</th>\n",
       "      <td>Reintroducing Dairy</td>\n",
       "      <td>Any sage advice on how one might go about this?</td>\n",
       "      <td>nutrition</td>\n",
       "      <td>1560314043</td>\n",
       "      <td>eroticmarshmellows</td>\n",
       "      <td>4</td>\n",
       "      <td>0</td>\n",
       "      <td>True</td>\n",
       "      <td>2019-06-12</td>\n",
       "    </tr>\n",
       "    <tr>\n",
       "      <th>3</th>\n",
       "      <td>Eating a meal without meat makes my stomach fe...</td>\n",
       "      <td>I've been considering and wavering on becoming...</td>\n",
       "      <td>nutrition</td>\n",
       "      <td>1560315599</td>\n",
       "      <td>predoucheous</td>\n",
       "      <td>28</td>\n",
       "      <td>5</td>\n",
       "      <td>True</td>\n",
       "      <td>2019-06-12</td>\n",
       "    </tr>\n",
       "    <tr>\n",
       "      <th>4</th>\n",
       "      <td>Does hyrdrogenated palm oil stunt your growth</td>\n",
       "      <td>I know it's a stupid question but I was just c...</td>\n",
       "      <td>nutrition</td>\n",
       "      <td>1560315998</td>\n",
       "      <td>QuestionNoire</td>\n",
       "      <td>11</td>\n",
       "      <td>2</td>\n",
       "      <td>True</td>\n",
       "      <td>2019-06-12</td>\n",
       "    </tr>\n",
       "  </tbody>\n",
       "</table>\n",
       "</div>"
      ],
      "text/plain": [
       "                                               title  \\\n",
       "0  What's the best way to gradually stop eating j...   \n",
       "1                                 The 2 best veggies   \n",
       "2                                Reintroducing Dairy   \n",
       "3  Eating a meal without meat makes my stomach fe...   \n",
       "4      Does hyrdrogenated palm oil stunt your growth   \n",
       "\n",
       "                                            selftext  subreddit  created_utc  \\\n",
       "0                                                     nutrition   1560311690   \n",
       "1  Imagine you have access to all kinds of vegeta...  nutrition   1560313777   \n",
       "2    Any sage advice on how one might go about this?  nutrition   1560314043   \n",
       "3  I've been considering and wavering on becoming...  nutrition   1560315599   \n",
       "4  I know it's a stupid question but I was just c...  nutrition   1560315998   \n",
       "\n",
       "               author  num_comments  score  is_self   timestamp  \n",
       "0     MortelleTSpears            11      5     True  2019-06-11  \n",
       "1             brumate            10      5     True  2019-06-12  \n",
       "2  eroticmarshmellows             4      0     True  2019-06-12  \n",
       "3        predoucheous            28      5     True  2019-06-12  \n",
       "4       QuestionNoire            11      2     True  2019-06-12  "
      ]
     },
     "execution_count": 6,
     "metadata": {},
     "output_type": "execute_result"
    }
   ],
   "source": [
    "# profile raw dataframe\n",
    "raw_df_nutr.head()"
   ]
  },
  {
   "cell_type": "code",
   "execution_count": 7,
   "metadata": {},
   "outputs": [
    {
     "name": "stdout",
     "output_type": "stream",
     "text": [
      "/Users/ngms/GA-DSI/SUBMISSIONS/Project_3/code\r\n"
     ]
    }
   ],
   "source": [
    "!pwd"
   ]
  },
  {
   "cell_type": "code",
   "execution_count": 8,
   "metadata": {},
   "outputs": [],
   "source": [
    "# export raw dataframe\n",
    "# raw_df_nutr.to_csv('data/RAW_subreddit_NUTRITION.csv', index=False)"
   ]
  },
  {
   "cell_type": "code",
   "execution_count": 11,
   "metadata": {},
   "outputs": [
    {
     "name": "stdout",
     "output_type": "stream",
     "text": [
      "-rw-r--r--  1 ngms  staff  4038482 Jul 10 22:26 ../data/RAW_subreddit_NUTRITION.csv\r\n"
     ]
    }
   ],
   "source": [
    "# verify file creation\n",
    "!ls -ltr ../data/RAW_subreddit_NUTRITION.csv"
   ]
  },
  {
   "cell_type": "code",
   "execution_count": 15,
   "metadata": {},
   "outputs": [
    {
     "name": "stdout",
     "output_type": "stream",
     "text": [
      "<class 'pandas.core.frame.DataFrame'>\n",
      "Int64Index: 8457 entries, 0 to 499\n",
      "Data columns (total 9 columns):\n",
      "title           8457 non-null object\n",
      "selftext        8358 non-null object\n",
      "subreddit       8457 non-null object\n",
      "created_utc     8457 non-null int64\n",
      "author          8457 non-null object\n",
      "num_comments    8457 non-null int64\n",
      "score           8457 non-null int64\n",
      "is_self         8457 non-null bool\n",
      "timestamp       8457 non-null object\n",
      "dtypes: bool(1), int64(3), object(5)\n",
      "memory usage: 602.9+ KB\n"
     ]
    }
   ],
   "source": [
    "raw_df_nutr.info()"
   ]
  },
  {
   "cell_type": "code",
   "execution_count": 21,
   "metadata": {},
   "outputs": [
    {
     "data": {
      "text/plain": [
       "title           Simple Tips for Fitness SuccessRecovering drug...\n",
       "selftext        [removed][removed][removed][removed][removed][...\n",
       "subreddit       nutritionnutritionnutritionnutritionnutritionn...\n",
       "created_utc                                         3495859089937\n",
       "author          VarunMishra31A2n0nTabzzzmeisterBaston5Spurlaut...\n",
       "num_comments                                                 4205\n",
       "score                                                        3088\n",
       "is_self                                                      2270\n",
       "dtype: object"
      ]
     },
     "execution_count": 21,
     "metadata": {},
     "output_type": "execute_result"
    }
   ],
   "source": [
    "# identify any \"removed\" posts\n",
    "raw_df_nutr[raw_df_nutr['selftext'] == '[removed]'].sum()"
   ]
  },
  {
   "cell_type": "markdown",
   "metadata": {},
   "source": [
    "## Scrape data: Medicine  *(5,302 - 3,275 \"removed\" = 2,027)*"
   ]
  },
  {
   "cell_type": "code",
   "execution_count": 22,
   "metadata": {},
   "outputs": [
    {
     "name": "stdout",
     "output_type": "stream",
     "text": [
      "https://api.pushshift.io/reddit/search/submission/?subreddit=medicine&size=500&after=30d\n",
      "https://api.pushshift.io/reddit/search/submission/?subreddit=medicine&size=500&after=60d\n",
      "https://api.pushshift.io/reddit/search/submission/?subreddit=medicine&size=500&after=90d\n",
      "https://api.pushshift.io/reddit/search/submission/?subreddit=medicine&size=500&after=120d\n",
      "https://api.pushshift.io/reddit/search/submission/?subreddit=medicine&size=500&after=150d\n",
      "https://api.pushshift.io/reddit/search/submission/?subreddit=medicine&size=500&after=180d\n",
      "https://api.pushshift.io/reddit/search/submission/?subreddit=medicine&size=500&after=210d\n",
      "https://api.pushshift.io/reddit/search/submission/?subreddit=medicine&size=500&after=240d\n",
      "https://api.pushshift.io/reddit/search/submission/?subreddit=medicine&size=500&after=270d\n",
      "https://api.pushshift.io/reddit/search/submission/?subreddit=medicine&size=500&after=300d\n",
      "https://api.pushshift.io/reddit/search/submission/?subreddit=medicine&size=500&after=330d\n",
      "https://api.pushshift.io/reddit/search/submission/?subreddit=medicine&size=500&after=360d\n",
      "https://api.pushshift.io/reddit/search/submission/?subreddit=medicine&size=500&after=390d\n",
      "https://api.pushshift.io/reddit/search/submission/?subreddit=medicine&size=500&after=420d\n",
      "https://api.pushshift.io/reddit/search/submission/?subreddit=medicine&size=500&after=450d\n",
      "https://api.pushshift.io/reddit/search/submission/?subreddit=medicine&size=500&after=480d\n",
      "https://api.pushshift.io/reddit/search/submission/?subreddit=medicine&size=500&after=510d\n",
      "(5304, 9)\n"
     ]
    }
   ],
   "source": [
    "# invoke scraper function\n",
    "health_posts = query_pushshift('medicine')"
   ]
  },
  {
   "cell_type": "code",
   "execution_count": 23,
   "metadata": {},
   "outputs": [],
   "source": [
    "# create dataframe of subreddit\n",
    "raw_df_med = pd.DataFrame(health_posts)"
   ]
  },
  {
   "cell_type": "code",
   "execution_count": 24,
   "metadata": {},
   "outputs": [
    {
     "data": {
      "text/html": [
       "<div>\n",
       "<style scoped>\n",
       "    .dataframe tbody tr th:only-of-type {\n",
       "        vertical-align: middle;\n",
       "    }\n",
       "\n",
       "    .dataframe tbody tr th {\n",
       "        vertical-align: top;\n",
       "    }\n",
       "\n",
       "    .dataframe thead th {\n",
       "        text-align: right;\n",
       "    }\n",
       "</style>\n",
       "<table border=\"1\" class=\"dataframe\">\n",
       "  <thead>\n",
       "    <tr style=\"text-align: right;\">\n",
       "      <th></th>\n",
       "      <th>title</th>\n",
       "      <th>selftext</th>\n",
       "      <th>subreddit</th>\n",
       "      <th>created_utc</th>\n",
       "      <th>author</th>\n",
       "      <th>num_comments</th>\n",
       "      <th>score</th>\n",
       "      <th>is_self</th>\n",
       "      <th>timestamp</th>\n",
       "    </tr>\n",
       "  </thead>\n",
       "  <tbody>\n",
       "    <tr>\n",
       "      <th>1</th>\n",
       "      <td>Buy Tramadol Online</td>\n",
       "      <td>[removed]</td>\n",
       "      <td>medicine</td>\n",
       "      <td>1560319774</td>\n",
       "      <td>buytramadolonlinecod</td>\n",
       "      <td>0</td>\n",
       "      <td>1</td>\n",
       "      <td>True</td>\n",
       "      <td>2019-06-12</td>\n",
       "    </tr>\n",
       "    <tr>\n",
       "      <th>4</th>\n",
       "      <td>EMA restricts the use of fluoroquinolones in L...</td>\n",
       "      <td>Source: [https://www.ema.europa.eu/en/medicine...</td>\n",
       "      <td>medicine</td>\n",
       "      <td>1560334619</td>\n",
       "      <td>KokoskoZippo</td>\n",
       "      <td>8</td>\n",
       "      <td>1</td>\n",
       "      <td>True</td>\n",
       "      <td>2019-06-12</td>\n",
       "    </tr>\n",
       "    <tr>\n",
       "      <th>5</th>\n",
       "      <td>Online Anticancer Medicine in India | Generic ...</td>\n",
       "      <td>[removed]</td>\n",
       "      <td>medicine</td>\n",
       "      <td>1560336980</td>\n",
       "      <td>Oddway_international</td>\n",
       "      <td>0</td>\n",
       "      <td>1</td>\n",
       "      <td>True</td>\n",
       "      <td>2019-06-12</td>\n",
       "    </tr>\n",
       "    <tr>\n",
       "      <th>7</th>\n",
       "      <td>Question for orthopaedic surgeons re: surgical...</td>\n",
       "      <td>[removed]</td>\n",
       "      <td>medicine</td>\n",
       "      <td>1560348433</td>\n",
       "      <td>beaniegirl2</td>\n",
       "      <td>0</td>\n",
       "      <td>1</td>\n",
       "      <td>True</td>\n",
       "      <td>2019-06-12</td>\n",
       "    </tr>\n",
       "    <tr>\n",
       "      <th>11</th>\n",
       "      <td>Question on Philips Wearable Biosensor</td>\n",
       "      <td>[removed]</td>\n",
       "      <td>medicine</td>\n",
       "      <td>1560351479</td>\n",
       "      <td>CFStark77</td>\n",
       "      <td>0</td>\n",
       "      <td>1</td>\n",
       "      <td>True</td>\n",
       "      <td>2019-06-12</td>\n",
       "    </tr>\n",
       "  </tbody>\n",
       "</table>\n",
       "</div>"
      ],
      "text/plain": [
       "                                                title  \\\n",
       "1                                 Buy Tramadol Online   \n",
       "4   EMA restricts the use of fluoroquinolones in L...   \n",
       "5   Online Anticancer Medicine in India | Generic ...   \n",
       "7   Question for orthopaedic surgeons re: surgical...   \n",
       "11             Question on Philips Wearable Biosensor   \n",
       "\n",
       "                                             selftext subreddit  created_utc  \\\n",
       "1                                           [removed]  medicine   1560319774   \n",
       "4   Source: [https://www.ema.europa.eu/en/medicine...  medicine   1560334619   \n",
       "5                                           [removed]  medicine   1560336980   \n",
       "7                                           [removed]  medicine   1560348433   \n",
       "11                                          [removed]  medicine   1560351479   \n",
       "\n",
       "                  author  num_comments  score  is_self   timestamp  \n",
       "1   buytramadolonlinecod             0      1     True  2019-06-12  \n",
       "4           KokoskoZippo             8      1     True  2019-06-12  \n",
       "5   Oddway_international             0      1     True  2019-06-12  \n",
       "7            beaniegirl2             0      1     True  2019-06-12  \n",
       "11             CFStark77             0      1     True  2019-06-12  "
      ]
     },
     "execution_count": 24,
     "metadata": {},
     "output_type": "execute_result"
    }
   ],
   "source": [
    "# profile raw dataframe\n",
    "raw_df_med.head()"
   ]
  },
  {
   "cell_type": "code",
   "execution_count": 25,
   "metadata": {},
   "outputs": [],
   "source": [
    "# export raw dataframe\n",
    "# raw_df_med.to_csv('data/RAW_subreddit_MEDICINE.csv', index=False)"
   ]
  },
  {
   "cell_type": "code",
   "execution_count": 26,
   "metadata": {},
   "outputs": [
    {
     "name": "stdout",
     "output_type": "stream",
     "text": [
      "/Users/ngms/GA-DSI/SUBMISSIONS/Project_3/code\r\n"
     ]
    }
   ],
   "source": [
    "!pwd"
   ]
  },
  {
   "cell_type": "code",
   "execution_count": 27,
   "metadata": {},
   "outputs": [
    {
     "name": "stdout",
     "output_type": "stream",
     "text": [
      "-rw-r--r--  1 ngms  staff  2043087 Jul 10 22:18 ../data/RAW_subreddit_MEDICINE.csv\r\n"
     ]
    }
   ],
   "source": [
    "# verify file creation\n",
    "!ls -ltr ../data/RAW_subreddit_MEDICINE.csv"
   ]
  },
  {
   "cell_type": "code",
   "execution_count": 28,
   "metadata": {},
   "outputs": [
    {
     "name": "stdout",
     "output_type": "stream",
     "text": [
      "<class 'pandas.core.frame.DataFrame'>\n",
      "Int64Index: 5304 entries, 1 to 497\n",
      "Data columns (total 9 columns):\n",
      "title           5304 non-null object\n",
      "selftext        5217 non-null object\n",
      "subreddit       5304 non-null object\n",
      "created_utc     5304 non-null int64\n",
      "author          5304 non-null object\n",
      "num_comments    5304 non-null int64\n",
      "score           5304 non-null int64\n",
      "is_self         5304 non-null bool\n",
      "timestamp       5304 non-null object\n",
      "dtypes: bool(1), int64(3), object(5)\n",
      "memory usage: 378.1+ KB\n"
     ]
    }
   ],
   "source": [
    "raw_df_med.info()"
   ]
  },
  {
   "cell_type": "code",
   "execution_count": 30,
   "metadata": {},
   "outputs": [
    {
     "data": {
      "text/plain": [
       "title           Buy Tramadol OnlineOnline Anticancer Medicine ...\n",
       "selftext        [removed][removed][removed][removed][removed][...\n",
       "subreddit       medicinemedicinemedicinemedicinemedicinemedici...\n",
       "created_utc                                         5042146960336\n",
       "author          buytramadolonlinecodOddway_internationalbeanie...\n",
       "num_comments                                                 5257\n",
       "score                                                        7513\n",
       "is_self                                                      3272\n",
       "dtype: object"
      ]
     },
     "execution_count": 30,
     "metadata": {},
     "output_type": "execute_result"
    }
   ],
   "source": [
    "# identify any \"removed\" posts\n",
    "raw_df_med[raw_df_med['selftext'] == '[removed]'].sum()"
   ]
  },
  {
   "cell_type": "markdown",
   "metadata": {},
   "source": [
    "---\n",
    "## Combine datasets"
   ]
  },
  {
   "cell_type": "markdown",
   "metadata": {},
   "source": [
    "#### For each subreddit, create dataframe with two columns: 'title' and 'selftext'\n",
    "Then set the positive and negative classes for this binary classification in a single column (called \"nutrition\")"
   ]
  },
  {
   "cell_type": "markdown",
   "metadata": {},
   "source": [
    "## Nutrition"
   ]
  },
  {
   "cell_type": "code",
   "execution_count": 31,
   "metadata": {},
   "outputs": [],
   "source": [
    "# nutrition is the positive class (1)\n",
    "# create new dataframe with only two columns\n",
    "nutrition_df = raw_df_nutr[['title', 'selftext']]\n",
    "# add a classification column and set the negative class\n",
    "nutrition_df['nutrition'] = 1"
   ]
  },
  {
   "cell_type": "code",
   "execution_count": 32,
   "metadata": {},
   "outputs": [
    {
     "name": "stdout",
     "output_type": "stream",
     "text": [
      "(8457, 3)\n"
     ]
    },
    {
     "data": {
      "text/html": [
       "<div>\n",
       "<style scoped>\n",
       "    .dataframe tbody tr th:only-of-type {\n",
       "        vertical-align: middle;\n",
       "    }\n",
       "\n",
       "    .dataframe tbody tr th {\n",
       "        vertical-align: top;\n",
       "    }\n",
       "\n",
       "    .dataframe thead th {\n",
       "        text-align: right;\n",
       "    }\n",
       "</style>\n",
       "<table border=\"1\" class=\"dataframe\">\n",
       "  <thead>\n",
       "    <tr style=\"text-align: right;\">\n",
       "      <th></th>\n",
       "      <th>title</th>\n",
       "      <th>selftext</th>\n",
       "      <th>nutrition</th>\n",
       "    </tr>\n",
       "  </thead>\n",
       "  <tbody>\n",
       "    <tr>\n",
       "      <th>0</th>\n",
       "      <td>What's the best way to gradually stop eating j...</td>\n",
       "      <td></td>\n",
       "      <td>1</td>\n",
       "    </tr>\n",
       "    <tr>\n",
       "      <th>1</th>\n",
       "      <td>The 2 best veggies</td>\n",
       "      <td>Imagine you have access to all kinds of vegeta...</td>\n",
       "      <td>1</td>\n",
       "    </tr>\n",
       "    <tr>\n",
       "      <th>2</th>\n",
       "      <td>Reintroducing Dairy</td>\n",
       "      <td>Any sage advice on how one might go about this?</td>\n",
       "      <td>1</td>\n",
       "    </tr>\n",
       "    <tr>\n",
       "      <th>3</th>\n",
       "      <td>Eating a meal without meat makes my stomach fe...</td>\n",
       "      <td>I've been considering and wavering on becoming...</td>\n",
       "      <td>1</td>\n",
       "    </tr>\n",
       "    <tr>\n",
       "      <th>4</th>\n",
       "      <td>Does hyrdrogenated palm oil stunt your growth</td>\n",
       "      <td>I know it's a stupid question but I was just c...</td>\n",
       "      <td>1</td>\n",
       "    </tr>\n",
       "  </tbody>\n",
       "</table>\n",
       "</div>"
      ],
      "text/plain": [
       "                                               title  \\\n",
       "0  What's the best way to gradually stop eating j...   \n",
       "1                                 The 2 best veggies   \n",
       "2                                Reintroducing Dairy   \n",
       "3  Eating a meal without meat makes my stomach fe...   \n",
       "4      Does hyrdrogenated palm oil stunt your growth   \n",
       "\n",
       "                                            selftext  nutrition  \n",
       "0                                                             1  \n",
       "1  Imagine you have access to all kinds of vegeta...          1  \n",
       "2    Any sage advice on how one might go about this?          1  \n",
       "3  I've been considering and wavering on becoming...          1  \n",
       "4  I know it's a stupid question but I was just c...          1  "
      ]
     },
     "execution_count": 32,
     "metadata": {},
     "output_type": "execute_result"
    }
   ],
   "source": [
    "# profile dataframe\n",
    "print(nutrition_df.shape)\n",
    "nutrition_df.head()"
   ]
  },
  {
   "cell_type": "code",
   "execution_count": 33,
   "metadata": {},
   "outputs": [
    {
     "data": {
      "text/plain": [
       "title         0\n",
       "selftext     99\n",
       "nutrition     0\n",
       "dtype: int64"
      ]
     },
     "execution_count": 33,
     "metadata": {},
     "output_type": "execute_result"
    }
   ],
   "source": [
    "# check for nulls\n",
    "nutrition_df.isnull().sum()"
   ]
  },
  {
   "cell_type": "code",
   "execution_count": 34,
   "metadata": {},
   "outputs": [
    {
     "data": {
      "text/html": [
       "<div>\n",
       "<style scoped>\n",
       "    .dataframe tbody tr th:only-of-type {\n",
       "        vertical-align: middle;\n",
       "    }\n",
       "\n",
       "    .dataframe tbody tr th {\n",
       "        vertical-align: top;\n",
       "    }\n",
       "\n",
       "    .dataframe thead th {\n",
       "        text-align: right;\n",
       "    }\n",
       "</style>\n",
       "<table border=\"1\" class=\"dataframe\">\n",
       "  <thead>\n",
       "    <tr style=\"text-align: right;\">\n",
       "      <th></th>\n",
       "      <th>title</th>\n",
       "      <th>nutrition</th>\n",
       "    </tr>\n",
       "  </thead>\n",
       "  <tbody>\n",
       "    <tr>\n",
       "      <th>0</th>\n",
       "      <td>What's the best way to gradually stop eating j...</td>\n",
       "      <td>1</td>\n",
       "    </tr>\n",
       "    <tr>\n",
       "      <th>1</th>\n",
       "      <td>The 2 best veggies</td>\n",
       "      <td>1</td>\n",
       "    </tr>\n",
       "    <tr>\n",
       "      <th>2</th>\n",
       "      <td>Reintroducing Dairy</td>\n",
       "      <td>1</td>\n",
       "    </tr>\n",
       "    <tr>\n",
       "      <th>3</th>\n",
       "      <td>Eating a meal without meat makes my stomach fe...</td>\n",
       "      <td>1</td>\n",
       "    </tr>\n",
       "    <tr>\n",
       "      <th>4</th>\n",
       "      <td>Does hyrdrogenated palm oil stunt your growth</td>\n",
       "      <td>1</td>\n",
       "    </tr>\n",
       "  </tbody>\n",
       "</table>\n",
       "</div>"
      ],
      "text/plain": [
       "                                               title  nutrition\n",
       "0  What's the best way to gradually stop eating j...          1\n",
       "1                                 The 2 best veggies          1\n",
       "2                                Reintroducing Dairy          1\n",
       "3  Eating a meal without meat makes my stomach fe...          1\n",
       "4      Does hyrdrogenated palm oil stunt your growth          1"
      ]
     },
     "execution_count": 34,
     "metadata": {},
     "output_type": "execute_result"
    }
   ],
   "source": [
    "# drop 'selftext' column before joining dataframes...\n",
    "nutrition_df.drop(columns='selftext', inplace=True)\n",
    "nutrition_df.head()"
   ]
  },
  {
   "cell_type": "code",
   "execution_count": 35,
   "metadata": {},
   "outputs": [],
   "source": [
    "# remove duplicates\n",
    "nutrition_df.drop_duplicates(inplace=True)"
   ]
  },
  {
   "cell_type": "code",
   "execution_count": 36,
   "metadata": {},
   "outputs": [
    {
     "name": "stdout",
     "output_type": "stream",
     "text": [
      "(8368, 2)\n"
     ]
    }
   ],
   "source": [
    "# profile dataframe\n",
    "print(nutrition_df.shape)"
   ]
  },
  {
   "cell_type": "markdown",
   "metadata": {},
   "source": [
    "## Medicine"
   ]
  },
  {
   "cell_type": "code",
   "execution_count": 37,
   "metadata": {},
   "outputs": [],
   "source": [
    "# medicine is the negative class (0)\n",
    "# create new dataframe with only two columns\n",
    "medicine_df = raw_df_med[['title', 'selftext']]\n",
    "# add a classification column and set the negative class\n",
    "medicine_df['nutrition'] = 0"
   ]
  },
  {
   "cell_type": "code",
   "execution_count": 38,
   "metadata": {},
   "outputs": [
    {
     "name": "stdout",
     "output_type": "stream",
     "text": [
      "(5304, 3)\n"
     ]
    },
    {
     "data": {
      "text/html": [
       "<div>\n",
       "<style scoped>\n",
       "    .dataframe tbody tr th:only-of-type {\n",
       "        vertical-align: middle;\n",
       "    }\n",
       "\n",
       "    .dataframe tbody tr th {\n",
       "        vertical-align: top;\n",
       "    }\n",
       "\n",
       "    .dataframe thead th {\n",
       "        text-align: right;\n",
       "    }\n",
       "</style>\n",
       "<table border=\"1\" class=\"dataframe\">\n",
       "  <thead>\n",
       "    <tr style=\"text-align: right;\">\n",
       "      <th></th>\n",
       "      <th>title</th>\n",
       "      <th>selftext</th>\n",
       "      <th>nutrition</th>\n",
       "    </tr>\n",
       "  </thead>\n",
       "  <tbody>\n",
       "    <tr>\n",
       "      <th>1</th>\n",
       "      <td>Buy Tramadol Online</td>\n",
       "      <td>[removed]</td>\n",
       "      <td>0</td>\n",
       "    </tr>\n",
       "    <tr>\n",
       "      <th>4</th>\n",
       "      <td>EMA restricts the use of fluoroquinolones in L...</td>\n",
       "      <td>Source: [https://www.ema.europa.eu/en/medicine...</td>\n",
       "      <td>0</td>\n",
       "    </tr>\n",
       "    <tr>\n",
       "      <th>5</th>\n",
       "      <td>Online Anticancer Medicine in India | Generic ...</td>\n",
       "      <td>[removed]</td>\n",
       "      <td>0</td>\n",
       "    </tr>\n",
       "    <tr>\n",
       "      <th>7</th>\n",
       "      <td>Question for orthopaedic surgeons re: surgical...</td>\n",
       "      <td>[removed]</td>\n",
       "      <td>0</td>\n",
       "    </tr>\n",
       "    <tr>\n",
       "      <th>11</th>\n",
       "      <td>Question on Philips Wearable Biosensor</td>\n",
       "      <td>[removed]</td>\n",
       "      <td>0</td>\n",
       "    </tr>\n",
       "  </tbody>\n",
       "</table>\n",
       "</div>"
      ],
      "text/plain": [
       "                                                title  \\\n",
       "1                                 Buy Tramadol Online   \n",
       "4   EMA restricts the use of fluoroquinolones in L...   \n",
       "5   Online Anticancer Medicine in India | Generic ...   \n",
       "7   Question for orthopaedic surgeons re: surgical...   \n",
       "11             Question on Philips Wearable Biosensor   \n",
       "\n",
       "                                             selftext  nutrition  \n",
       "1                                           [removed]          0  \n",
       "4   Source: [https://www.ema.europa.eu/en/medicine...          0  \n",
       "5                                           [removed]          0  \n",
       "7                                           [removed]          0  \n",
       "11                                          [removed]          0  "
      ]
     },
     "execution_count": 38,
     "metadata": {},
     "output_type": "execute_result"
    }
   ],
   "source": [
    "# profile dataframe\n",
    "print(medicine_df.shape)\n",
    "medicine_df.head()"
   ]
  },
  {
   "cell_type": "code",
   "execution_count": 39,
   "metadata": {},
   "outputs": [
    {
     "data": {
      "text/plain": [
       "title         0\n",
       "selftext     87\n",
       "nutrition     0\n",
       "dtype: int64"
      ]
     },
     "execution_count": 39,
     "metadata": {},
     "output_type": "execute_result"
    }
   ],
   "source": [
    "# check for nulls\n",
    "medicine_df.isnull().sum()"
   ]
  },
  {
   "cell_type": "code",
   "execution_count": 40,
   "metadata": {},
   "outputs": [
    {
     "data": {
      "text/html": [
       "<div>\n",
       "<style scoped>\n",
       "    .dataframe tbody tr th:only-of-type {\n",
       "        vertical-align: middle;\n",
       "    }\n",
       "\n",
       "    .dataframe tbody tr th {\n",
       "        vertical-align: top;\n",
       "    }\n",
       "\n",
       "    .dataframe thead th {\n",
       "        text-align: right;\n",
       "    }\n",
       "</style>\n",
       "<table border=\"1\" class=\"dataframe\">\n",
       "  <thead>\n",
       "    <tr style=\"text-align: right;\">\n",
       "      <th></th>\n",
       "      <th>title</th>\n",
       "      <th>nutrition</th>\n",
       "    </tr>\n",
       "  </thead>\n",
       "  <tbody>\n",
       "    <tr>\n",
       "      <th>1</th>\n",
       "      <td>Buy Tramadol Online</td>\n",
       "      <td>0</td>\n",
       "    </tr>\n",
       "    <tr>\n",
       "      <th>4</th>\n",
       "      <td>EMA restricts the use of fluoroquinolones in L...</td>\n",
       "      <td>0</td>\n",
       "    </tr>\n",
       "    <tr>\n",
       "      <th>5</th>\n",
       "      <td>Online Anticancer Medicine in India | Generic ...</td>\n",
       "      <td>0</td>\n",
       "    </tr>\n",
       "    <tr>\n",
       "      <th>7</th>\n",
       "      <td>Question for orthopaedic surgeons re: surgical...</td>\n",
       "      <td>0</td>\n",
       "    </tr>\n",
       "    <tr>\n",
       "      <th>11</th>\n",
       "      <td>Question on Philips Wearable Biosensor</td>\n",
       "      <td>0</td>\n",
       "    </tr>\n",
       "  </tbody>\n",
       "</table>\n",
       "</div>"
      ],
      "text/plain": [
       "                                                title  nutrition\n",
       "1                                 Buy Tramadol Online          0\n",
       "4   EMA restricts the use of fluoroquinolones in L...          0\n",
       "5   Online Anticancer Medicine in India | Generic ...          0\n",
       "7   Question for orthopaedic surgeons re: surgical...          0\n",
       "11             Question on Philips Wearable Biosensor          0"
      ]
     },
     "execution_count": 40,
     "metadata": {},
     "output_type": "execute_result"
    }
   ],
   "source": [
    "# drop 'selftext' column before joining dataframes...\n",
    "medicine_df.drop(columns='selftext', inplace=True)\n",
    "medicine_df.head()"
   ]
  },
  {
   "cell_type": "code",
   "execution_count": 41,
   "metadata": {},
   "outputs": [],
   "source": [
    "# remove duplicates\n",
    "medicine_df.drop_duplicates(inplace=True)"
   ]
  },
  {
   "cell_type": "code",
   "execution_count": 42,
   "metadata": {},
   "outputs": [
    {
     "name": "stdout",
     "output_type": "stream",
     "text": [
      "(5085, 2)\n"
     ]
    }
   ],
   "source": [
    "# profile dataframe\n",
    "print(medicine_df.shape)"
   ]
  },
  {
   "cell_type": "markdown",
   "metadata": {},
   "source": [
    "## Concatenate the two dataframes into one dataframe"
   ]
  },
  {
   "cell_type": "code",
   "execution_count": 43,
   "metadata": {},
   "outputs": [],
   "source": [
    "# combine text for the two subreddits based on class values\n",
    "subreddits = pd.concat([nutrition_df, medicine_df], ignore_index=True)"
   ]
  },
  {
   "cell_type": "code",
   "execution_count": 44,
   "metadata": {},
   "outputs": [],
   "source": [
    "# export concatenated dataframe\n",
    "# subreddits.to_csv('data/SUBREDDITS.csv', index=False)"
   ]
  },
  {
   "cell_type": "code",
   "execution_count": 45,
   "metadata": {},
   "outputs": [
    {
     "data": {
      "text/html": [
       "<div>\n",
       "<style scoped>\n",
       "    .dataframe tbody tr th:only-of-type {\n",
       "        vertical-align: middle;\n",
       "    }\n",
       "\n",
       "    .dataframe tbody tr th {\n",
       "        vertical-align: top;\n",
       "    }\n",
       "\n",
       "    .dataframe thead th {\n",
       "        text-align: right;\n",
       "    }\n",
       "</style>\n",
       "<table border=\"1\" class=\"dataframe\">\n",
       "  <thead>\n",
       "    <tr style=\"text-align: right;\">\n",
       "      <th></th>\n",
       "      <th>title</th>\n",
       "      <th>nutrition</th>\n",
       "    </tr>\n",
       "  </thead>\n",
       "  <tbody>\n",
       "    <tr>\n",
       "      <th>0</th>\n",
       "      <td>What's the best way to gradually stop eating j...</td>\n",
       "      <td>1</td>\n",
       "    </tr>\n",
       "    <tr>\n",
       "      <th>1</th>\n",
       "      <td>The 2 best veggies</td>\n",
       "      <td>1</td>\n",
       "    </tr>\n",
       "    <tr>\n",
       "      <th>2</th>\n",
       "      <td>Reintroducing Dairy</td>\n",
       "      <td>1</td>\n",
       "    </tr>\n",
       "    <tr>\n",
       "      <th>3</th>\n",
       "      <td>Eating a meal without meat makes my stomach fe...</td>\n",
       "      <td>1</td>\n",
       "    </tr>\n",
       "    <tr>\n",
       "      <th>4</th>\n",
       "      <td>Does hyrdrogenated palm oil stunt your growth</td>\n",
       "      <td>1</td>\n",
       "    </tr>\n",
       "  </tbody>\n",
       "</table>\n",
       "</div>"
      ],
      "text/plain": [
       "                                               title  nutrition\n",
       "0  What's the best way to gradually stop eating j...          1\n",
       "1                                 The 2 best veggies          1\n",
       "2                                Reintroducing Dairy          1\n",
       "3  Eating a meal without meat makes my stomach fe...          1\n",
       "4      Does hyrdrogenated palm oil stunt your growth          1"
      ]
     },
     "execution_count": 45,
     "metadata": {},
     "output_type": "execute_result"
    }
   ],
   "source": [
    "# look at positive class (nutrition)\n",
    "subreddits.head()"
   ]
  },
  {
   "cell_type": "code",
   "execution_count": 46,
   "metadata": {},
   "outputs": [
    {
     "data": {
      "text/html": [
       "<div>\n",
       "<style scoped>\n",
       "    .dataframe tbody tr th:only-of-type {\n",
       "        vertical-align: middle;\n",
       "    }\n",
       "\n",
       "    .dataframe tbody tr th {\n",
       "        vertical-align: top;\n",
       "    }\n",
       "\n",
       "    .dataframe thead th {\n",
       "        text-align: right;\n",
       "    }\n",
       "</style>\n",
       "<table border=\"1\" class=\"dataframe\">\n",
       "  <thead>\n",
       "    <tr style=\"text-align: right;\">\n",
       "      <th></th>\n",
       "      <th>title</th>\n",
       "      <th>nutrition</th>\n",
       "    </tr>\n",
       "  </thead>\n",
       "  <tbody>\n",
       "    <tr>\n",
       "      <th>13448</th>\n",
       "      <td>Question about nutrition in pediatrics</td>\n",
       "      <td>0</td>\n",
       "    </tr>\n",
       "    <tr>\n",
       "      <th>13449</th>\n",
       "      <td>family member diagnosed with RS3PE \"Remitting ...</td>\n",
       "      <td>0</td>\n",
       "    </tr>\n",
       "    <tr>\n",
       "      <th>13450</th>\n",
       "      <td>Contest Time! Funniest comeback reply to this ...</td>\n",
       "      <td>0</td>\n",
       "    </tr>\n",
       "    <tr>\n",
       "      <th>13451</th>\n",
       "      <td>Contest Time! Funniest comeback reply to this ...</td>\n",
       "      <td>0</td>\n",
       "    </tr>\n",
       "    <tr>\n",
       "      <th>13452</th>\n",
       "      <td>How to handle alternative practitioners</td>\n",
       "      <td>0</td>\n",
       "    </tr>\n",
       "  </tbody>\n",
       "</table>\n",
       "</div>"
      ],
      "text/plain": [
       "                                                   title  nutrition\n",
       "13448             Question about nutrition in pediatrics          0\n",
       "13449  family member diagnosed with RS3PE \"Remitting ...          0\n",
       "13450  Contest Time! Funniest comeback reply to this ...          0\n",
       "13451  Contest Time! Funniest comeback reply to this ...          0\n",
       "13452            How to handle alternative practitioners          0"
      ]
     },
     "execution_count": 46,
     "metadata": {},
     "output_type": "execute_result"
    }
   ],
   "source": [
    "# look at negative class (medicine)\n",
    "subreddits.tail()"
   ]
  },
  {
   "cell_type": "code",
   "execution_count": 47,
   "metadata": {},
   "outputs": [
    {
     "data": {
      "text/plain": [
       "title        0\n",
       "nutrition    0\n",
       "dtype: int64"
      ]
     },
     "execution_count": 47,
     "metadata": {},
     "output_type": "execute_result"
    }
   ],
   "source": [
    "subreddits.isnull().sum()"
   ]
  },
  {
   "cell_type": "code",
   "execution_count": 48,
   "metadata": {},
   "outputs": [
    {
     "name": "stdout",
     "output_type": "stream",
     "text": [
      "<class 'pandas.core.frame.DataFrame'>\n",
      "RangeIndex: 13453 entries, 0 to 13452\n",
      "Data columns (total 2 columns):\n",
      "title        13453 non-null object\n",
      "nutrition    13453 non-null int64\n",
      "dtypes: int64(1), object(1)\n",
      "memory usage: 210.3+ KB\n"
     ]
    }
   ],
   "source": [
    "subreddits.info()"
   ]
  },
  {
   "cell_type": "code",
   "execution_count": 49,
   "metadata": {},
   "outputs": [
    {
     "data": {
      "text/plain": [
       "1    8368\n",
       "0    5085\n",
       "Name: nutrition, dtype: int64"
      ]
     },
     "execution_count": 49,
     "metadata": {},
     "output_type": "execute_result"
    }
   ],
   "source": [
    "# count number of observations in each class\n",
    "# note:  classes are very unbalanced...\n",
    "subreddits['nutrition'].value_counts()"
   ]
  },
  {
   "cell_type": "code",
   "execution_count": 50,
   "metadata": {},
   "outputs": [
    {
     "data": {
      "text/html": [
       "<div>\n",
       "<style scoped>\n",
       "    .dataframe tbody tr th:only-of-type {\n",
       "        vertical-align: middle;\n",
       "    }\n",
       "\n",
       "    .dataframe tbody tr th {\n",
       "        vertical-align: top;\n",
       "    }\n",
       "\n",
       "    .dataframe thead tr th {\n",
       "        text-align: left;\n",
       "    }\n",
       "\n",
       "    .dataframe thead tr:last-of-type th {\n",
       "        text-align: right;\n",
       "    }\n",
       "</style>\n",
       "<table border=\"1\" class=\"dataframe\">\n",
       "  <thead>\n",
       "    <tr>\n",
       "      <th></th>\n",
       "      <th colspan=\"4\" halign=\"left\">title</th>\n",
       "    </tr>\n",
       "    <tr>\n",
       "      <th></th>\n",
       "      <th>count</th>\n",
       "      <th>unique</th>\n",
       "      <th>top</th>\n",
       "      <th>freq</th>\n",
       "    </tr>\n",
       "    <tr>\n",
       "      <th>nutrition</th>\n",
       "      <th></th>\n",
       "      <th></th>\n",
       "      <th></th>\n",
       "      <th></th>\n",
       "    </tr>\n",
       "  </thead>\n",
       "  <tbody>\n",
       "    <tr>\n",
       "      <th>0</th>\n",
       "      <td>5085</td>\n",
       "      <td>5085</td>\n",
       "      <td>Advice on writing a medical report</td>\n",
       "      <td>1</td>\n",
       "    </tr>\n",
       "    <tr>\n",
       "      <th>1</th>\n",
       "      <td>8368</td>\n",
       "      <td>8368</td>\n",
       "      <td>Pesticide chemicals in urine can't be good</td>\n",
       "      <td>1</td>\n",
       "    </tr>\n",
       "  </tbody>\n",
       "</table>\n",
       "</div>"
      ],
      "text/plain": [
       "          title                                                        \n",
       "          count unique                                         top freq\n",
       "nutrition                                                              \n",
       "0          5085   5085          Advice on writing a medical report    1\n",
       "1          8368   8368  Pesticide chemicals in urine can't be good    1"
      ]
     },
     "execution_count": 50,
     "metadata": {},
     "output_type": "execute_result"
    }
   ],
   "source": [
    "subreddits.groupby('nutrition').describe()"
   ]
  },
  {
   "cell_type": "markdown",
   "metadata": {},
   "source": [
    "## Reddit API Data Collection is complete"
   ]
  },
  {
   "cell_type": "markdown",
   "metadata": {},
   "source": [
    "Proceed to the next notebook:\n",
    "- [SubReddits_NLP_Random_Forest](02_SubReddits_NLP_Random_Forest.ipynb)\n"
   ]
  }
 ],
 "metadata": {
  "kernelspec": {
   "display_name": "Python 3",
   "language": "python",
   "name": "python3"
  },
  "language_info": {
   "codemirror_mode": {
    "name": "ipython",
    "version": 3
   },
   "file_extension": ".py",
   "mimetype": "text/x-python",
   "name": "python",
   "nbconvert_exporter": "python",
   "pygments_lexer": "ipython3",
   "version": "3.6.8"
  }
 },
 "nbformat": 4,
 "nbformat_minor": 2
}
